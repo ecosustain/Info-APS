{
 "cells": [
  {
   "cell_type": "code",
   "execution_count": 1,
   "metadata": {},
   "outputs": [
    {
     "name": "stdout",
     "output_type": "stream",
     "text": [
      "['ADAMANTINA', 'ADOLFO', 'AGUAÍ', 'AGUDOS', 'ALAMBARI', 'ALFREDO MARCONDES', 'ALTAIR', 'ALTINÓPOLIS', 'ALTO ALEGRE', 'ALUMÍNIO', 'ALVINLÂNDIA', 'AMERICANA', 'AMPARO', 'AMÉRICO BRASILIENSE', 'AMÉRICO DE CAMPOS', 'ANALÂNDIA', 'ANDRADINA', 'ANGATUBA', 'ANHEMBI', 'ANHUMAS', 'APARECIDA', \"APARECIDA D'OESTE\", 'APIAÍ', 'ARAMINA', 'ARANDU', 'ARAPEÍ', 'ARARAQUARA', 'ARARAS', 'ARAÇARIGUAMA', 'ARAÇATUBA', 'ARAÇOIABA DA SERRA', 'ARCO-ÍRIS', 'AREALVA', 'AREIAS', 'AREIÓPOLIS', 'ARIRANHA', 'ARTUR NOGUEIRA', 'ARUJÁ', 'ASPÁSIA', 'ASSIS', 'ATIBAIA', 'AURIFLAMA', 'AVANHANDAVA', 'AVARÉ', 'AVAÍ', 'BADY BASSITT', 'BALBINOS', 'BANANAL', 'BARBOSA', 'BARIRI', 'BARRA BONITA', 'BARRA DO CHAPÉU', 'BARRA DO TURVO', 'BARRETOS', 'BARRINHA', 'BARUERI', 'BARÃO DE ANTONINA', 'BASTOS', 'BATATAIS', 'BAURU', 'BEBEDOURO', 'BENTO DE ABREU', 'BERNARDINO DE CAMPOS', 'BERTIOGA', 'BILAC', 'BIRIGUI', 'BIRITIBA-MIRIM', 'BOA ESPERANÇA DO SUL', 'BOCAINA', 'BOFETE', 'BOITUVA', 'BOM JESUS DOS PERDÕES', 'BOM SUCESSO DE ITARARÉ', 'BORACÉIA', 'BORBOREMA', 'BOREBI', 'BORÁ', 'BOTUCATU', 'BRAGANÇA PAULISTA', 'BRAÚNA', 'BREJO ALEGRE', 'BRODOWSKI', 'BROTAS', 'BURI', 'BURITAMA', 'BURITIZAL', 'BÁLSAMO', 'CABREÚVA', 'CABRÁLIA PAULISTA', 'CACHOEIRA PAULISTA', 'CACONDE', 'CAFELÂNDIA', 'CAIABU', 'CAIEIRAS', 'CAIUÁ', 'CAJAMAR', 'CAJATI', 'CAJOBI', 'CAJURU', 'CAMPINA DO MONTE ALEGRE', 'CAMPINAS', 'CAMPO LIMPO PAULISTA', 'CAMPOS DO JORDÃO', 'CAMPOS NOVOS PAULISTA', 'CANANÉIA', 'CANAS', 'CANITAR', 'CAPELA DO ALTO', 'CAPIVARI', 'CAPÃO BONITO', 'CARAGUATATUBA', 'CARAPICUÍBA', 'CARDOSO', 'CASA BRANCA', 'CASTILHO', 'CATANDUVA', 'CATIGUÁ', 'CAÇAPAVA', 'CEDRAL', 'CERQUEIRA CÉSAR', 'CERQUILHO', 'CESÁRIO LANGE', 'CHARQUEADA', 'CHAVANTES', 'CLEMENTINA', 'COLINA', 'COLÔMBIA', 'CONCHAL', 'CONCHAS', 'CORDEIRÓPOLIS', 'COROADOS', 'CORONEL MACEDO', 'CORUMBATAÍ', 'COSMORAMA', 'COSMÓPOLIS', 'COTIA', 'CRAVINHOS', 'CRISTAIS PAULISTA', 'CRUZEIRO', 'CRUZÁLIA', 'CUBATÃO', 'CUNHA', 'CÁSSIA DOS COQUEIROS', 'CÂNDIDO MOTA', 'CÂNDIDO RODRIGUES', 'DESCALVADO', 'DIADEMA', 'DIRCE REIS', 'DIVINOLÂNDIA', 'DOBRADA', 'DOIS CÓRREGOS', 'DOLCINÓPOLIS', 'DOURADO', 'DRACENA', 'DUARTINA', 'DUMONT', 'ECHAPORÃ', 'ELDORADO', 'ELIAS FAUSTO', 'ELISIÁRIO', 'EMBAÚBA', 'EMBU DAS ARTES', 'EMBU-GUAÇU', 'EMILIANÓPOLIS', 'ENGENHEIRO COELHO', 'ESPÍRITO SANTO DO PINHAL', 'ESPÍRITO SANTO DO TURVO', 'ESTIVA GERBI', \"ESTRELA D'OESTE\", 'ESTRELA DO NORTE', 'EUCLIDES DA CUNHA PAULISTA', 'FARTURA', 'FERNANDO PRESTES', 'FERNANDÓPOLIS', 'FERNÃO', 'FERRAZ DE VASCONCELOS', 'FLORA RICA', 'FLOREAL', 'FLORÍNIA', 'FLÓRIDA PAULISTA', 'FRANCA', 'FRANCISCO MORATO', 'FRANCO DA ROCHA', 'GABRIEL MONTEIRO', 'GARÇA', 'GASTÃO VIDIGAL', 'GAVIÃO PEIXOTO', 'GENERAL SALGADO', 'GETULINA', 'GLICÉRIO', 'GUAIMBÊ', 'GUAIÇARA', 'GUAPIARA', 'GUAPIAÇU', 'GUARACI', \"GUARANI D'OESTE\", 'GUARANTÃ', 'GUARARAPES', 'GUARAREMA', 'GUARATINGUETÁ', 'GUARAÇAÍ', 'GUAREÍ', 'GUARIBA', 'GUARUJÁ', 'GUARULHOS', 'GUARÁ', 'GUATAPARÁ', 'GUAÍRA', 'GUZOLÂNDIA', 'GÁLIA', 'HERCULÂNDIA', 'HOLAMBRA', 'HORTOLÂNDIA', 'IACANGA', 'IACRI', 'IARAS', 'IBATÉ', 'IBIRAREMA', 'IBIRÁ', 'IBITINGA', 'IBIÚNA', 'ICÉM', 'IEPÊ', 'IGARAPAVA', 'IGARATÁ', 'IGARAÇU DO TIETÊ', 'IGUAPE', 'ILHA COMPRIDA', 'ILHA SOLTEIRA', 'ILHABELA', 'INDAIATUBA', 'INDIANA', 'INDIAPORÃ', 'INÚBIA PAULISTA', 'IPAUSSU', 'IPERÓ', 'IPEÚNA', 'IPIGUÁ', 'IPORANGA', 'IPUÃ', 'IRACEMÁPOLIS', 'IRAPURU', 'IRAPUÃ', 'ITABERÁ', 'ITAJOBI', 'ITAJU', 'ITANHAÉM', 'ITAPECERICA DA SERRA', 'ITAPETININGA', 'ITAPEVA', 'ITAPEVI', 'ITAPIRA', 'ITAPIRAPUÃ PAULISTA', 'ITAPORANGA', 'ITAPURA', 'ITAPUÍ', 'ITAQUAQUECETUBA', 'ITARARÉ', 'ITARIRI', 'ITATIBA', 'ITATINGA', 'ITAÍ', 'ITAÓCA', 'ITIRAPINA', 'ITIRAPUÃ', 'ITOBI', 'ITU', 'ITUPEVA', 'ITUVERAVA', 'ITÁPOLIS', 'JABORANDI', 'JABOTICABAL', 'JACAREÍ', 'JACI', 'JACUPIRANGA', 'JAGUARIÚNA', 'JALES', 'JAMBEIRO', 'JANDIRA', 'JARDINÓPOLIS', 'JARINU', 'JAÚ', 'JERIQUARA', 'JOANÓPOLIS', 'JOSÉ BONIFÁCIO', 'JOÃO RAMALHO', 'JUMIRIM', 'JUNDIAÍ', 'JUNQUEIRÓPOLIS', 'JUQUITIBA', 'JUQUIÁ', 'JÚLIO MESQUITA', 'LAGOINHA', 'LARANJAL PAULISTA', 'LAVRINHAS', 'LAVÍNIA', 'LEME', 'LENÇÓIS PAULISTA', 'LIMEIRA', 'LINDÓIA', 'LINS', 'LORENA', 'LOURDES', 'LOUVEIRA', 'LUCIANÓPOLIS', 'LUCÉLIA', 'LUIZIÂNIA', 'LUPÉRCIO', 'LUTÉCIA', 'LUÍS ANTÔNIO', 'MACATUBA', 'MACAUBAL', 'MACEDÔNIA', 'MAGDA', 'MAIRINQUE', 'MAIRIPORÃ', 'MANDURI', 'MARABÁ PAULISTA', 'MARACAÍ', 'MARAPOAMA', 'MARINÓPOLIS', 'MARIÁPOLIS', 'MARTINÓPOLIS', 'MARÍLIA', 'MATÃO', 'MAUÁ', 'MENDONÇA', 'MERIDIANO', 'MESÓPOLIS', 'MIGUELÓPOLIS', 'MINEIROS DO TIETÊ', 'MIRA ESTRELA', 'MIRACATU', 'MIRANDÓPOLIS', 'MIRANTE DO PARANAPANEMA', 'MIRASSOL', 'MIRASSOLÂNDIA', 'MOCOCA', 'MOGI DAS CRUZES', 'MOGI GUAÇU', 'MOGI MIRIM', 'MOMBUCA', 'MONGAGUÁ', 'MONTE ALEGRE DO SUL', 'MONTE ALTO', 'MONTE APRAZÍVEL', 'MONTE AZUL PAULISTA', 'MONTE CASTELO', 'MONTE MOR', 'MONTEIRO LOBATO', 'MONÇÕES', 'MORRO AGUDO', 'MORUNGABA', 'MOTUCA', 'MURUTINGA DO SUL', 'NANTES', 'NARANDIBA', 'NATIVIDADE DA SERRA', 'NAZARÉ PAULISTA', 'NEVES PAULISTA', 'NHANDEARA', 'NIPOÃ', 'NOVA ALIANÇA', 'NOVA CAMPINA', 'NOVA CANAÃ PAULISTA', 'NOVA CASTILHO', 'NOVA EUROPA', 'NOVA GRANADA', 'NOVA GUATAPORANGA', 'NOVA INDEPENDÊNCIA', 'NOVA LUZITÂNIA', 'NOVA ODESSA', 'NOVAIS', 'NOVO HORIZONTE', 'NUPORANGA', 'OCAUÇU', 'OLÍMPIA', 'ONDA VERDE', 'ORIENTE', 'ORINDIÚVA', 'ORLÂNDIA', 'OSASCO', 'OSCAR BRESSANE', 'OSVALDO CRUZ', 'OURINHOS', 'OURO VERDE', 'OUROESTE', 'PACAEMBU', 'PALESTINA', 'PALMARES PAULISTA', \"PALMEIRA D'OESTE\", 'PALMITAL', 'PANORAMA', 'PARAGUAÇU PAULISTA', 'PARAIBUNA', 'PARANAPANEMA', 'PARANAPUÃ', 'PARAPUÃ', 'PARAÍSO', 'PARDINHO', 'PARIQUERA-AÇU', 'PARISI', 'PATROCÍNIO PAULISTA', 'PAULICÉIA', 'PAULISTÂNIA', 'PAULO DE FARIA', 'PAULÍNIA', 'PEDERNEIRAS', 'PEDRA BELA', 'PEDRANÓPOLIS', 'PEDREGULHO', 'PEDREIRA', 'PEDRINHAS PAULISTA', 'PEDRO DE TOLEDO', 'PENÁPOLIS', 'PEREIRA BARRETO', 'PEREIRAS', 'PERUÍBE', 'PIACATU', 'PIEDADE', 'PILAR DO SUL', 'PINDAMONHANGABA', 'PINDORAMA', 'PINHALZINHO', 'PIQUEROBI', 'PIQUETE', 'PIRACAIA', 'PIRACICABA', 'PIRAJU', 'PIRAJUÍ', 'PIRANGI', 'PIRAPORA DO BOM JESUS', 'PIRAPOZINHO', 'PIRASSUNUNGA', 'PIRATININGA', 'PITANGUEIRAS', 'PLANALTO', 'PLATINA', 'POLONI', 'POMPÉIA', 'PONGAÍ', 'PONTAL', 'PONTALINDA', 'PONTES GESTAL', 'POPULINA', 'PORANGABA', 'PORTO FELIZ', 'PORTO FERREIRA', 'POTIM', 'POTIRENDABA', 'POÁ', 'PRACINHA', 'PRADÓPOLIS', 'PRAIA GRANDE', 'PRATÂNIA', 'PRESIDENTE ALVES', 'PRESIDENTE BERNARDES', 'PRESIDENTE EPITÁCIO', 'PRESIDENTE PRUDENTE', 'PRESIDENTE VENCESLAU', 'PROMISSÃO', 'QUADRA', 'QUATÁ', 'QUEIROZ', 'QUELUZ', 'QUINTANA', 'RAFARD', 'RANCHARIA', 'REDENÇÃO DA SERRA', 'REGENTE FEIJÓ', 'REGINÓPOLIS', 'REGISTRO', 'RESTINGA', 'RIBEIRA', 'RIBEIRÃO BONITO', 'RIBEIRÃO BRANCO', 'RIBEIRÃO CORRENTE', 'RIBEIRÃO DO SUL', 'RIBEIRÃO DOS ÍNDIOS', 'RIBEIRÃO GRANDE', 'RIBEIRÃO PIRES', 'RIBEIRÃO PRETO', 'RIFAINA', 'RINCÃO', 'RINÓPOLIS', 'RIO CLARO', 'RIO DAS PEDRAS', 'RIO GRANDE DA SERRA', 'RIOLÂNDIA', 'RIVERSUL', 'ROSANA', 'ROSEIRA', 'RUBINÉIA', 'RUBIÁCEA', 'SABINO', 'SAGRES', 'SALES', 'SALES OLIVEIRA', 'SALESÓPOLIS', 'SALMOURÃO', 'SALTINHO', 'SALTO', 'SALTO DE PIRAPORA', 'SALTO GRANDE', 'SANDOVALINA', 'SANTA ADÉLIA', 'SANTA ALBERTINA', 'SANTA BRANCA', \"SANTA BÁRBARA D'OESTE\", \"SANTA CLARA D'OESTE\", 'SANTA CRUZ DA CONCEIÇÃO', 'SANTA CRUZ DA ESPERANÇA', 'SANTA CRUZ DAS PALMEIRAS', 'SANTA CRUZ DO RIO PARDO', 'SANTA ERNESTINA', 'SANTA FÉ DO SUL', 'SANTA GERTRUDES', 'SANTA ISABEL', 'SANTA LÚCIA', 'SANTA MARIA DA SERRA', 'SANTA MERCEDES', \"SANTA RITA D'OESTE\", 'SANTA RITA DO PASSA QUATRO', 'SANTA ROSA DE VITERBO', 'SANTA SALETE', 'SANTANA DA PONTE PENSA', 'SANTANA DE PARNAÍBA', 'SANTO ANASTÁCIO', 'SANTO ANDRÉ', 'SANTO ANTÔNIO DA ALEGRIA', 'SANTO ANTÔNIO DE POSSE', 'SANTO ANTÔNIO DO ARACANGUÁ', 'SANTO ANTÔNIO DO JARDIM', 'SANTO ANTÔNIO DO PINHAL', 'SANTO EXPEDITO', 'SANTOS', 'SANTÓPOLIS DO AGUAPEÍ', 'SARAPUÍ', 'SARUTAIÁ', 'SEBASTIANÓPOLIS DO SUL', 'SERRA AZUL', 'SERRA NEGRA', 'SERRANA', 'SERTÃOZINHO', 'SETE BARRAS', 'SEVERÍNIA', 'SILVEIRAS', 'SOCORRO', 'SOROCABA', 'SUD MENNUCCI', 'SUMARÉ', 'SUZANO', 'SUZANÁPOLIS', 'SÃO BENTO DO SAPUCAÍ', 'SÃO BERNARDO DO CAMPO', 'SÃO CAETANO DO SUL', 'SÃO CARLOS', 'SÃO FRANCISCO', 'SÃO JOAQUIM DA BARRA', 'SÃO JOSÉ DA BELA VISTA', 'SÃO JOSÉ DO BARREIRO', 'SÃO JOSÉ DO RIO PARDO', 'SÃO JOSÉ DO RIO PRETO', 'SÃO JOSÉ DOS CAMPOS', 'SÃO JOÃO DA BOA VISTA', 'SÃO JOÃO DAS DUAS PONTES', 'SÃO JOÃO DE IRACEMA', \"SÃO JOÃO DO PAU D'ALHO\", 'SÃO LOURENÇO DA SERRA', 'SÃO LUÍS DO PARAITINGA', 'SÃO MANUEL', 'SÃO MIGUEL ARCANJO', 'SÃO PAULO', 'SÃO PEDRO', 'SÃO PEDRO DO TURVO', 'SÃO ROQUE', 'SÃO SEBASTIÃO', 'SÃO SEBASTIÃO DA GRAMA', 'SÃO SIMÃO', 'SÃO VICENTE', 'TABAPUÃ', 'TABATINGA', 'TABOÃO DA SERRA', 'TACIBA', 'TAGUAÍ', 'TAIAÇU', 'TAIÚVA', 'TAMBAÚ', 'TANABI', 'TAPIRATIBA', 'TAPIRAÍ', 'TAQUARAL', 'TAQUARITINGA', 'TAQUARITUBA', 'TAQUARIVAÍ', 'TARABAI', 'TARUMÃ', 'TATUÍ', 'TAUBATÉ', 'TEJUPÁ', 'TEODORO SAMPAIO', 'TERRA ROXA', 'TIETÊ', 'TIMBURI', 'TORRE DE PEDRA', 'TORRINHA', 'TRABIJU', 'TREMEMBÉ', 'TRÊS FRONTEIRAS', 'TUIUTI', 'TUPI PAULISTA', 'TUPÃ', 'TURIÚBA', 'TURMALINA', 'UBARANA', 'UBATUBA', 'UBIRAJARA', 'UCHOA', 'UNIÃO PAULISTA', 'URU', 'URUPÊS', 'URÂNIA', 'VALENTIM GENTIL', 'VALINHOS', 'VALPARAÍSO', 'VARGEM', 'VARGEM GRANDE DO SUL', 'VARGEM GRANDE PAULISTA', 'VERA CRUZ', 'VINHEDO', 'VIRADOURO', 'VISTA ALEGRE DO ALTO', 'VITÓRIA BRASIL', 'VOTORANTIM', 'VOTUPORANGA', 'VÁRZEA PAULISTA', 'ZACARIAS', 'ÁGUAS DA PRATA', 'ÁGUAS DE LINDÓIA', 'ÁGUAS DE SANTA BÁRBARA', 'ÁGUAS DE SÃO PEDRO', 'ÁLVARES FLORENCE', 'ÁLVARES MACHADO', 'ÁLVARO DE CARVALHO', 'ÓLEO']\n"
     ]
    }
   ],
   "source": [
    "import requests\n",
    "\n",
    "def get_cities(estado):\n",
    "    url = f'https://dash-saude-mongo.elsvital.dev/api/v1/cities/{estado}'\n",
    "    headers = {'accept': 'application/json'}\n",
    "\n",
    "    response = requests.get(url, headers=headers)\n",
    "\n",
    "    if response.status_code == 200:\n",
    "        cities = response.json()\n",
    "        return cities\n",
    "    else:\n",
    "        print(response.status_code)\n",
    "        print(response.text)\n",
    "        return None\n",
    "\n",
    "print(get_cities('SP'))"
   ]
  },
  {
   "cell_type": "code",
   "execution_count": 8,
   "metadata": {},
   "outputs": [
    {
     "name": "stdout",
     "output_type": "stream",
     "text": [
      "{'encoding': 'utf-8', 'confidence': 0.99, 'language': ''}\n"
     ]
    }
   ],
   "source": [
    "import chardet\n",
    "\n",
    "# Abre o arquivo em modo binário e tenta detectar a codificação\n",
    "with open('data/producao.csv', 'rb') as f:\n",
    "    result = chardet.detect(f.read())\n",
    "    print(result)"
   ]
  },
  {
   "cell_type": "code",
   "execution_count": 59,
   "metadata": {},
   "outputs": [
    {
     "data": {
      "text/html": [
       "<div>\n",
       "<style scoped>\n",
       "    .dataframe tbody tr th:only-of-type {\n",
       "        vertical-align: middle;\n",
       "    }\n",
       "\n",
       "    .dataframe tbody tr th {\n",
       "        vertical-align: top;\n",
       "    }\n",
       "\n",
       "    .dataframe thead th {\n",
       "        text-align: right;\n",
       "    }\n",
       "</style>\n",
       "<table border=\"1\" class=\"dataframe\">\n",
       "  <thead>\n",
       "    <tr style=\"text-align: right;\">\n",
       "      <th></th>\n",
       "      <th>Uf</th>\n",
       "      <th>Ibge</th>\n",
       "      <th>Municipio</th>\n",
       "      <th>Asma</th>\n",
       "      <th>Desnutrição</th>\n",
       "      <th>Diabetes</th>\n",
       "      <th>DPOC</th>\n",
       "      <th>Hipertensão arterial</th>\n",
       "      <th>Obesidade</th>\n",
       "      <th>Pré-natal</th>\n",
       "      <th>...</th>\n",
       "      <th>Encaminhamento intersetorial</th>\n",
       "      <th>Encaminhamento p/ CAPS</th>\n",
       "      <th>Encaminhamento p/ internação h</th>\n",
       "      <th>Encaminhamento p/ serviço de a</th>\n",
       "      <th>Encaminhamento p/ serviço espe</th>\n",
       "      <th>Encaminhamento p/ urgência</th>\n",
       "      <th>Avaliação / diagnóstico</th>\n",
       "      <th>Procedimentos clínicos / terap</th>\n",
       "      <th>Prescrição terapêutica</th>\n",
       "      <th>Data</th>\n",
       "    </tr>\n",
       "  </thead>\n",
       "  <tbody>\n",
       "    <tr>\n",
       "      <th>0</th>\n",
       "      <td>PI</td>\n",
       "      <td>220900.0</td>\n",
       "      <td>RIO GRANDE DO PIAUÍ</td>\n",
       "      <td>1.0</td>\n",
       "      <td>2.0</td>\n",
       "      <td>5.0</td>\n",
       "      <td>1.0</td>\n",
       "      <td>25.000</td>\n",
       "      <td>2.0</td>\n",
       "      <td>32.0</td>\n",
       "      <td>...</td>\n",
       "      <td>0.0</td>\n",
       "      <td>0.0</td>\n",
       "      <td>0.0</td>\n",
       "      <td>0.0</td>\n",
       "      <td>7.000</td>\n",
       "      <td>0.0</td>\n",
       "      <td>2.0</td>\n",
       "      <td>122.0</td>\n",
       "      <td>3.0</td>\n",
       "      <td>2021-05-01</td>\n",
       "    </tr>\n",
       "    <tr>\n",
       "      <th>1</th>\n",
       "      <td>PR</td>\n",
       "      <td>410520.0</td>\n",
       "      <td>CERRO AZUL</td>\n",
       "      <td>2.0</td>\n",
       "      <td>2.0</td>\n",
       "      <td>145.0</td>\n",
       "      <td>2.0</td>\n",
       "      <td>280.000</td>\n",
       "      <td>39.0</td>\n",
       "      <td>49.0</td>\n",
       "      <td>...</td>\n",
       "      <td>23.0</td>\n",
       "      <td>0.0</td>\n",
       "      <td>0.0</td>\n",
       "      <td>0.0</td>\n",
       "      <td>0.000</td>\n",
       "      <td>0.0</td>\n",
       "      <td>64.0</td>\n",
       "      <td>0.0</td>\n",
       "      <td>0.0</td>\n",
       "      <td>2021-05-01</td>\n",
       "    </tr>\n",
       "    <tr>\n",
       "      <th>2</th>\n",
       "      <td>RJ</td>\n",
       "      <td>330190.0</td>\n",
       "      <td>ITABORAÍ</td>\n",
       "      <td>86.0</td>\n",
       "      <td>15.0</td>\n",
       "      <td>970.0</td>\n",
       "      <td>28.0</td>\n",
       "      <td>2.964</td>\n",
       "      <td>171.0</td>\n",
       "      <td>586.0</td>\n",
       "      <td>...</td>\n",
       "      <td>2.0</td>\n",
       "      <td>35.0</td>\n",
       "      <td>2.0</td>\n",
       "      <td>2.0</td>\n",
       "      <td>1.192</td>\n",
       "      <td>16.0</td>\n",
       "      <td>180.0</td>\n",
       "      <td>26.0</td>\n",
       "      <td>385.0</td>\n",
       "      <td>2021-05-01</td>\n",
       "    </tr>\n",
       "    <tr>\n",
       "      <th>3</th>\n",
       "      <td>RS</td>\n",
       "      <td>431410.0</td>\n",
       "      <td>PASSO FUNDO</td>\n",
       "      <td>161.0</td>\n",
       "      <td>52.0</td>\n",
       "      <td>594.0</td>\n",
       "      <td>51.0</td>\n",
       "      <td>1.211</td>\n",
       "      <td>269.0</td>\n",
       "      <td>853.0</td>\n",
       "      <td>...</td>\n",
       "      <td>0.0</td>\n",
       "      <td>0.0</td>\n",
       "      <td>0.0</td>\n",
       "      <td>0.0</td>\n",
       "      <td>825.000</td>\n",
       "      <td>0.0</td>\n",
       "      <td>0.0</td>\n",
       "      <td>0.0</td>\n",
       "      <td>0.0</td>\n",
       "      <td>2021-05-01</td>\n",
       "    </tr>\n",
       "    <tr>\n",
       "      <th>4</th>\n",
       "      <td>GO</td>\n",
       "      <td>520630.0</td>\n",
       "      <td>CRISTIANÓPOLIS</td>\n",
       "      <td>5.0</td>\n",
       "      <td>0.0</td>\n",
       "      <td>68.0</td>\n",
       "      <td>1.0</td>\n",
       "      <td>168.000</td>\n",
       "      <td>15.0</td>\n",
       "      <td>11.0</td>\n",
       "      <td>...</td>\n",
       "      <td>0.0</td>\n",
       "      <td>0.0</td>\n",
       "      <td>0.0</td>\n",
       "      <td>0.0</td>\n",
       "      <td>9.000</td>\n",
       "      <td>0.0</td>\n",
       "      <td>0.0</td>\n",
       "      <td>0.0</td>\n",
       "      <td>0.0</td>\n",
       "      <td>2021-05-01</td>\n",
       "    </tr>\n",
       "  </tbody>\n",
       "</table>\n",
       "<p>5 rows × 221 columns</p>\n",
       "</div>"
      ],
      "text/plain": [
       "   Uf      Ibge            Municipio   Asma  Desnutrição  Diabetes  DPOC  \\\n",
       "0  PI  220900.0  RIO GRANDE DO PIAUÍ    1.0          2.0       5.0   1.0   \n",
       "1  PR  410520.0           CERRO AZUL    2.0          2.0     145.0   2.0   \n",
       "2  RJ  330190.0             ITABORAÍ   86.0         15.0     970.0  28.0   \n",
       "3  RS  431410.0          PASSO FUNDO  161.0         52.0     594.0  51.0   \n",
       "4  GO  520630.0       CRISTIANÓPOLIS    5.0          0.0      68.0   1.0   \n",
       "\n",
       "   Hipertensão arterial  Obesidade  Pré-natal  ...  \\\n",
       "0                25.000        2.0       32.0  ...   \n",
       "1               280.000       39.0       49.0  ...   \n",
       "2                 2.964      171.0      586.0  ...   \n",
       "3                 1.211      269.0      853.0  ...   \n",
       "4               168.000       15.0       11.0  ...   \n",
       "\n",
       "   Encaminhamento intersetorial  Encaminhamento p/ CAPS  \\\n",
       "0                           0.0                     0.0   \n",
       "1                          23.0                     0.0   \n",
       "2                           2.0                    35.0   \n",
       "3                           0.0                     0.0   \n",
       "4                           0.0                     0.0   \n",
       "\n",
       "   Encaminhamento p/ internação h  Encaminhamento p/ serviço de a  \\\n",
       "0                             0.0                             0.0   \n",
       "1                             0.0                             0.0   \n",
       "2                             2.0                             2.0   \n",
       "3                             0.0                             0.0   \n",
       "4                             0.0                             0.0   \n",
       "\n",
       "   Encaminhamento p/ serviço espe  Encaminhamento p/ urgência  \\\n",
       "0                           7.000                         0.0   \n",
       "1                           0.000                         0.0   \n",
       "2                           1.192                        16.0   \n",
       "3                         825.000                         0.0   \n",
       "4                           9.000                         0.0   \n",
       "\n",
       "   Avaliação / diagnóstico  Procedimentos clínicos / terap  \\\n",
       "0                      2.0                           122.0   \n",
       "1                     64.0                             0.0   \n",
       "2                    180.0                            26.0   \n",
       "3                      0.0                             0.0   \n",
       "4                      0.0                             0.0   \n",
       "\n",
       "   Prescrição terapêutica        Data  \n",
       "0                     3.0  2021-05-01  \n",
       "1                     0.0  2021-05-01  \n",
       "2                   385.0  2021-05-01  \n",
       "3                     0.0  2021-05-01  \n",
       "4                     0.0  2021-05-01  \n",
       "\n",
       "[5 rows x 221 columns]"
      ]
     },
     "execution_count": 59,
     "metadata": {},
     "output_type": "execute_result"
    }
   ],
   "source": [
    "# ler o arquivo data/producao.csv extrair uma lista de municipios, acompanhados do ibge_id e do estado\n",
    "\n",
    "import pandas as pd\n",
    "\n",
    "df = pd.read_csv('data/producao.csv', sep=',', encoding='utf-8',)\n",
    "\n",
    "df.head()"
   ]
  },
  {
   "cell_type": "code",
   "execution_count": 60,
   "metadata": {},
   "outputs": [],
   "source": [
    "df = df[['Uf', 'Municipio', 'Ibge']]\n",
    "\n",
    "# convert the column 'Ibge' to int\n",
    "df['Ibge']  = df['Ibge'].astype(int)\n",
    "\n",
    "# rename columns\n",
    "df = df.rename(columns={'Uf': 'estado', 'Municipio': 'municipio', 'Ibge': 'ibge'})\n",
    "\n",
    "# remove duplicates\n",
    "df = df.drop_duplicates()\n",
    "\n",
    "# salvar em json\n",
    "df.to_json('data/municipios.json', orient='records')"
   ]
  },
  {
   "cell_type": "code",
   "execution_count": 19,
   "metadata": {},
   "outputs": [
    {
     "name": "stdout",
     "output_type": "stream",
     "text": [
      "O código IBGE para CAMPINAS, SP é 350950\n"
     ]
    }
   ],
   "source": [
    "import json\n",
    "\n",
    "def get_ibge_code(estado, municipio):\n",
    "    with open('data/municipios.json', 'r', encoding='utf-8') as file:\n",
    "        municipios = json.load(file)\n",
    "    \n",
    "    for item in municipios:\n",
    "        if item['estado'] == estado and item['municipio'] == municipio:\n",
    "            return item['ibge']\n",
    "    \n",
    "    return None\n",
    "\n",
    "# Exemplo de uso\n",
    "estado = 'SP'\n",
    "mun = 'CAMPINAS'\n",
    "ibge_code = get_ibge_code(estado, mun)\n",
    "print(f'O código IBGE para {mun}, {estado} é {ibge_code}')"
   ]
  },
  {
   "cell_type": "code",
   "execution_count": null,
   "metadata": {},
   "outputs": [],
   "source": [
    "# função para retornar json a par"
   ]
  },
  {
   "cell_type": "code",
   "execution_count": 3,
   "metadata": {},
   "outputs": [
    {
     "name": "stdout",
     "output_type": "stream",
     "text": [
      "Fazendo request para: https://dash-saude-mongo.elsvital.dev/api/v1/atendimentos/states/SP\n",
      "{'enfermeiro': {'2013': {'ABR': 4, 'AGO': 559, 'DEZ': 174, 'JUL': 325, 'JUN': 2, 'MAI': 6, 'NOV': 570, 'OUT': 519, 'SET': 415}, '2014': {'ABR': 5749, 'AGO': 59529, 'DEZ': 33321, 'FEV': 1722, 'JAN': 760, 'JUL': 53035, 'JUN': 11363, 'MAI': 8556, 'MAR': 3013, 'NOV': 44703, 'OUT': 67819, 'SET': 60520}, '2015': {'ABR': 55928, 'AGO': 127716, 'DEZ': 136563, 'FEV': 43607, 'JAN': 45483, 'JUL': 103911, 'JUN': 103168, 'MAI': 78365, 'MAR': 57578, 'NOV': 163948, 'OUT': 152465, 'SET': 150122}, '2016': {'ABR': 272728, 'AGO': 314883, 'DEZ': 194784, 'FEV': 254904, 'JAN': 208746, 'JUL': 273963, 'JUN': 304277, 'MAI': 250716, 'MAR': 343631, 'NOV': 246327, 'OUT': 280487, 'SET': 276791}, '2017': {'ABR': 499868, 'AGO': 807837, 'DEZ': 376253, 'FEV': 278307, 'JAN': 312534, 'JUL': 485956, 'JUN': 622305, 'MAI': 495139, 'MAR': 392346, 'NOV': 905712, 'OUT': 691973, 'SET': 707594}, '2018': {'ABR': 509888, 'AGO': 880924, 'DEZ': 620972, 'FEV': 417801, 'JAN': 430272, 'JUL': 767267, 'JUN': 652352, 'MAI': 683532, 'MAR': 783859, 'NOV': 1106011, 'OUT': 1773858, 'SET': 1180324}, '2019': {'ABR': 839687, 'AGO': 967111, 'DEZ': 663626, 'FEV': 815846, 'JAN': 750622, 'JUL': 908451, 'JUN': 713502, 'MAI': 978195, 'MAR': 782809, 'NOV': 852412, 'OUT': 938141, 'SET': 781876}, '2020': {'ABR': 466917, 'AGO': 980996, 'DEZ': 951367, 'FEV': 762890, 'JAN': 739118, 'JUL': 974040, 'JUN': 810251, 'MAI': 589648, 'MAR': 808956, 'NOV': 1045774, 'OUT': 702810, 'SET': 980905}, '2021': {'ABR': 924082, 'AGO': 1142021, 'DEZ': 1070772, 'FEV': 1065488, 'JAN': 1014208, 'JUL': 981763, 'JUN': 1013318, 'MAI': 1042325, 'MAR': 1093886, 'NOV': 826403, 'OUT': 1073668, 'SET': 1026540}, '2022': {'ABR': 1212805, 'AGO': 1582981, 'DEZ': 1231550, 'FEV': 1084342, 'JAN': 1250196, 'JUL': 1405235, 'JUN': 1446202, 'MAI': 1479391, 'MAR': 1356048, 'NOV': 1439407, 'OUT': 1416980, 'SET': 993416}, '2023': {'ABR': 1524304, 'AGO': 1810302, 'DEZ': 1310477, 'FEV': 1333408, 'JAN': 1108639, 'JUL': 1572197, 'JUN': 1500037, 'MAI': 1735994, 'MAR': 1360490, 'NOV': 1504418, 'OUT': 1656025, 'SET': 1515159}, '2024': {'ABR': 2043862, 'FEV': 1575783, 'JAN': 1156555, 'JUL': 1134667, 'JUN': 1667004, 'MAI': 1737371, 'MAR': 1738357}}, 'medico': {'2013': {'ABR': 11, 'AGO': 1124, 'DEZ': 2710, 'JUL': 1092, 'JUN': 93, 'MAI': 2, 'NOV': 1793, 'OUT': 1371, 'SET': 1834}, '2014': {'ABR': 17346, 'AGO': 179122, 'DEZ': 120802, 'FEV': 11749, 'JAN': 7309, 'JUL': 141411, 'JUN': 34468, 'MAI': 19796, 'MAR': 11656, 'NOV': 170685, 'OUT': 213080, 'SET': 167780}, '2015': {'ABR': 162921, 'AGO': 548707, 'DEZ': 551895, 'FEV': 135768, 'JAN': 152591, 'JUL': 340171, 'JUN': 373777, 'MAI': 257052, 'MAR': 179180, 'NOV': 589107, 'OUT': 589949, 'SET': 587776}, '2016': {'ABR': 963978, 'AGO': 1079643, 'DEZ': 752217, 'FEV': 834386, 'JAN': 759127, 'JUL': 1000654, 'JUN': 1149408, 'MAI': 976688, 'MAR': 1108089, 'NOV': 891697, 'OUT': 929055, 'SET': 1062467}, '2017': {'ABR': 1532434, 'AGO': 2344201, 'DEZ': 1833292, 'FEV': 1018814, 'JAN': 1023776, 'JUL': 1555927, 'JUN': 1705153, 'MAI': 1438982, 'MAR': 1368511, 'NOV': 2541859, 'OUT': 2274345, 'SET': 2053374}, '2018': {'ABR': 2050367, 'AGO': 2782129, 'DEZ': 1257091, 'FEV': 2026133, 'JAN': 2047162, 'JUL': 2203755, 'JUN': 2206278, 'MAI': 1898584, 'MAR': 1880575, 'NOV': 2814040, 'OUT': 4775648, 'SET': 3587429}, '2019': {'ABR': 2500363, 'AGO': 2936634, 'DEZ': 1911113, 'FEV': 2551435, 'JAN': 2375988, 'JUL': 2633495, 'JUN': 2333539, 'MAI': 2154458, 'MAR': 2183616, 'NOV': 2357035, 'OUT': 2724756, 'SET': 2403699}, '2020': {'ABR': 1297639, 'AGO': 1647559, 'DEZ': 2262424, 'FEV': 2208463, 'JAN': 1950030, 'JUL': 2322447, 'JUN': 1935096, 'MAI': 1462435, 'MAR': 2281183, 'NOV': 2586920, 'OUT': 1950401, 'SET': 2462053}, '2021': {'ABR': 2361915, 'AGO': 2874941, 'DEZ': 2871262, 'FEV': 2560373, 'JAN': 2448228, 'JUL': 1938245, 'JUN': 2656089, 'MAI': 2818049, 'MAR': 2854395, 'NOV': 2794366, 'OUT': 2640003, 'SET': 2164522}, '2022': {'ABR': 3009557, 'AGO': 3871322, 'DEZ': 2811833, 'FEV': 2323461, 'JAN': 3029642, 'JUL': 3310312, 'JUN': 3323168, 'MAI': 3579625, 'MAR': 3343425, 'NOV': 3357135, 'OUT': 3319516, 'SET': 3414950}, '2023': {'ABR': 3634899, 'AGO': 4839733, 'DEZ': 3194301, 'FEV': 2513102, 'JAN': 3535813, 'JUL': 4145717, 'JUN': 4185981, 'MAI': 4759943, 'MAR': 4854031, 'NOV': 3711857, 'OUT': 4362375, 'SET': 2853648}, '2024': {'ABR': 5135107, 'FEV': 3776894, 'JAN': 3973440, 'JUL': 4099295, 'JUN': 3333605, 'MAI': 4344241, 'MAR': 4254088}}, 'outros': {'2013': {'ABR': 142, 'AGO': 76, 'DEZ': 86, 'JUL': 0, 'JUN': 0, 'MAI': 50, 'NOV': 70, 'OUT': 310, 'SET': 69}, '2014': {'ABR': 1229, 'AGO': 14504, 'DEZ': 6747, 'FEV': 612, 'JAN': 156, 'JUL': 12923, 'JUN': 1525, 'MAI': 1016, 'MAR': 496, 'NOV': 13774, 'OUT': 18779, 'SET': 16785}, '2015': {'ABR': 9940, 'AGO': 29976, 'DEZ': 31056, 'FEV': 11447, 'JAN': 9767, 'JUL': 15290, 'JUN': 16824, 'MAI': 13399, 'MAR': 15758, 'NOV': 34287, 'OUT': 33405, 'SET': 32284}, '2016': {'ABR': 62891, 'AGO': 76727, 'DEZ': 47540, 'FEV': 53986, 'JAN': 35163, 'JUL': 57452, 'JUN': 71485, 'MAI': 64447, 'MAR': 70991, 'NOV': 63313, 'OUT': 63574, 'SET': 71707}, '2017': {'ABR': 99337, 'AGO': 150248, 'DEZ': 126271, 'FEV': 73770, 'JAN': 65720, 'JUL': 96652, 'JUN': 121594, 'MAI': 100258, 'MAR': 95296, 'NOV': 190997, 'OUT': 150185, 'SET': 152676}, '2018': {'ABR': 160103, 'AGO': 209132, 'DEZ': 149759, 'FEV': 143050, 'JAN': 125950, 'JUL': 167034, 'JUN': 167352, 'MAI': 168822, 'MAR': 176721, 'NOV': 283550, 'OUT': 350641, 'SET': 204574}, '2019': {'ABR': 217708, 'AGO': 267222, 'DEZ': 162917, 'FEV': 203097, 'JAN': 154213, 'JUL': 197752, 'JUN': 186823, 'MAI': 238669, 'MAR': 183622, 'NOV': 236924, 'OUT': 245778, 'SET': 217311}, '2020': {'ABR': 59287, 'AGO': 198880, 'DEZ': 198916, 'FEV': 202787, 'JAN': 182217, 'JUL': 190558, 'JUN': 129070, 'MAI': 101234, 'MAR': 178455, 'NOV': 233412, 'OUT': 226165, 'SET': 216913}, '2021': {'ABR': 251345, 'AGO': 300313, 'DEZ': 264133, 'FEV': 246496, 'JAN': 214829, 'JUL': 267925, 'JUN': 276156, 'MAI': 280911, 'MAR': 293082, 'NOV': 264821, 'OUT': 282562, 'SET': 282170}, '2022': {'ABR': 293137, 'AGO': 397040, 'DEZ': 245679, 'FEV': 281961, 'JAN': 224339, 'JUL': 357253, 'JUN': 330863, 'MAI': 381698, 'MAR': 352994, 'NOV': 357599, 'OUT': 359706, 'SET': 373993}, '2023': {'ABR': 367418, 'AGO': 454133, 'DEZ': 339668, 'FEV': 355176, 'JAN': 359119, 'JUL': 404097, 'JUN': 420711, 'MAI': 459259, 'MAR': 423066, 'NOV': 380583, 'OUT': 443986, 'SET': 420431}, '2024': {'ABR': 462693, 'FEV': 380146, 'JAN': 385960, 'JUL': 416873, 'JUN': 456739, 'MAI': 410971, 'MAR': 421599}}}\n"
     ]
    }
   ],
   "source": [
    "import requests\n",
    "\n",
    "def get_atendimentos(estado, cidade):\n",
    "    \"\"\"Função para obter os dados de atendimentos\"\"\"\n",
    "    url = \"https://dash-saude-mongo.elsvital.dev/api/v1/atendimentos\"\n",
    "    if estado is not None:\n",
    "        url = f\"https://dash-saude-mongo.elsvital.dev/api/v1/atendimentos/states/{estado}\"\n",
    "    if cidade is not None:\n",
    "        ibge_code = get_ibge_code(estado, cidade)\n",
    "        url = f\"https://dash-saude-mongo.elsvital.dev/api/v1/atendimentos/cities/{ibge_code}\"\n",
    "\n",
    "    print('Fazendo request para:', url)\n",
    "\n",
    "    headers = {\"accept\": \"application/json\"}\n",
    "\n",
    "    response = requests.get(url, headers=headers)\n",
    "\n",
    "    if response.status_code == 200:\n",
    "        return response.json()\n",
    "    else:\n",
    "        print(response.status_code)\n",
    "        print(response.text)\n",
    "        return None\n",
    "\n",
    "# Exemplo de uso\n",
    "atendimentos = get_atendimentos('SP', None)\n",
    "print(atendimentos)"
   ]
  },
  {
   "cell_type": "code",
   "execution_count": 70,
   "metadata": {
    "vscode": {
     "languageId": "ruby"
    }
   },
   "outputs": [],
   "source": [
    "import pandas as pd\n",
    "# Ler o arquivo de cadastro\n",
    "df = pd.read_csv('../etl/data/consolidado/Cadastro.csv', sep=',', encoding='utf-8')\n",
    "\n"
   ]
  },
  {
   "cell_type": "code",
   "execution_count": 72,
   "metadata": {
    "vscode": {
     "languageId": "ruby"
    }
   },
   "outputs": [
    {
     "data": {
      "text/html": [
       "<div>\n",
       "<style scoped>\n",
       "    .dataframe tbody tr th:only-of-type {\n",
       "        vertical-align: middle;\n",
       "    }\n",
       "\n",
       "    .dataframe tbody tr th {\n",
       "        vertical-align: top;\n",
       "    }\n",
       "\n",
       "    .dataframe thead th {\n",
       "        text-align: right;\n",
       "    }\n",
       "</style>\n",
       "<table border=\"1\" class=\"dataframe\">\n",
       "  <thead>\n",
       "    <tr style=\"text-align: right;\">\n",
       "      <th></th>\n",
       "      <th>Uf</th>\n",
       "      <th>IBGE</th>\n",
       "      <th>Municipio</th>\n",
       "      <th>Cadastros</th>\n",
       "      <th>Ano</th>\n",
       "    </tr>\n",
       "  </thead>\n",
       "  <tbody>\n",
       "    <tr>\n",
       "      <th>267074</th>\n",
       "      <td>RO</td>\n",
       "      <td>110015</td>\n",
       "      <td>OURO PRETO DO OESTE</td>\n",
       "      <td>39901</td>\n",
       "      <td>2024</td>\n",
       "    </tr>\n",
       "    <tr>\n",
       "      <th>267075</th>\n",
       "      <td>RO</td>\n",
       "      <td>110050</td>\n",
       "      <td>NOVO HORIZONTE DO OESTE</td>\n",
       "      <td>8608</td>\n",
       "      <td>2024</td>\n",
       "    </tr>\n",
       "    <tr>\n",
       "      <th>267076</th>\n",
       "      <td>PR</td>\n",
       "      <td>410720</td>\n",
       "      <td>DOIS VIZINHOS</td>\n",
       "      <td>45748</td>\n",
       "      <td>2024</td>\n",
       "    </tr>\n",
       "    <tr>\n",
       "      <th>267077</th>\n",
       "      <td>RS</td>\n",
       "      <td>430520</td>\n",
       "      <td>CERRO LARGO</td>\n",
       "      <td>13600</td>\n",
       "      <td>2024</td>\n",
       "    </tr>\n",
       "    <tr>\n",
       "      <th>267078</th>\n",
       "      <td>RS</td>\n",
       "      <td>430580</td>\n",
       "      <td>CONSTANTINA</td>\n",
       "      <td>11228</td>\n",
       "      <td>2024</td>\n",
       "    </tr>\n",
       "    <tr>\n",
       "      <th>...</th>\n",
       "      <td>...</td>\n",
       "      <td>...</td>\n",
       "      <td>...</td>\n",
       "      <td>...</td>\n",
       "      <td>...</td>\n",
       "    </tr>\n",
       "    <tr>\n",
       "      <th>272639</th>\n",
       "      <td>CE</td>\n",
       "      <td>230990</td>\n",
       "      <td>PACUJÁ</td>\n",
       "      <td>6760</td>\n",
       "      <td>2024</td>\n",
       "    </tr>\n",
       "    <tr>\n",
       "      <th>272640</th>\n",
       "      <td>PB</td>\n",
       "      <td>251385</td>\n",
       "      <td>SANTO ANDRÉ</td>\n",
       "      <td>3139</td>\n",
       "      <td>2024</td>\n",
       "    </tr>\n",
       "    <tr>\n",
       "      <th>272641</th>\n",
       "      <td>MG</td>\n",
       "      <td>310040</td>\n",
       "      <td>ACAIACA</td>\n",
       "      <td>4582</td>\n",
       "      <td>2024</td>\n",
       "    </tr>\n",
       "    <tr>\n",
       "      <th>272642</th>\n",
       "      <td>MG</td>\n",
       "      <td>313540</td>\n",
       "      <td>JECEABA</td>\n",
       "      <td>6350</td>\n",
       "      <td>2024</td>\n",
       "    </tr>\n",
       "    <tr>\n",
       "      <th>272643</th>\n",
       "      <td>TO</td>\n",
       "      <td>171889</td>\n",
       "      <td>SANTA RITA DO TOCANTINS</td>\n",
       "      <td>2613</td>\n",
       "      <td>2024</td>\n",
       "    </tr>\n",
       "  </tbody>\n",
       "</table>\n",
       "<p>5570 rows × 5 columns</p>\n",
       "</div>"
      ],
      "text/plain": [
       "        Uf    IBGE                Municipio  Cadastros   Ano\n",
       "267074  RO  110015      OURO PRETO DO OESTE      39901  2024\n",
       "267075  RO  110050  NOVO HORIZONTE DO OESTE       8608  2024\n",
       "267076  PR  410720            DOIS VIZINHOS      45748  2024\n",
       "267077  RS  430520              CERRO LARGO      13600  2024\n",
       "267078  RS  430580              CONSTANTINA      11228  2024\n",
       "...     ..     ...                      ...        ...   ...\n",
       "272639  CE  230990                   PACUJÁ       6760  2024\n",
       "272640  PB  251385              SANTO ANDRÉ       3139  2024\n",
       "272641  MG  310040                  ACAIACA       4582  2024\n",
       "272642  MG  313540                  JECEABA       6350  2024\n",
       "272643  TO  171889  SANTA RITA DO TOCANTINS       2613  2024\n",
       "\n",
       "[5570 rows x 5 columns]"
      ]
     },
     "execution_count": 72,
     "metadata": {},
     "output_type": "execute_result"
    }
   ],
   "source": [
    "# Filtrar pelos dados do último ano\n",
    "cadastro_df = df\n",
    "cadastro_ultimo_ano = cadastro_df[cadastro_df['Ano'] == cadastro_df['Ano'].max()]\n",
    "\n",
    "# Remover coluna Mes\n",
    "cadastro_ultimo_ano = cadastro_ultimo_ano.drop(columns=['Mes'])\n",
    "\n",
    "# remover duplicados\n",
    "cadastro_ultimo_ano = cadastro_ultimo_ano.drop_duplicates(subset=['IBGE'], keep='last')\n",
    "\n",
    "# Converter para JSON\n",
    "cadastro_ultimo_ano.to_json('data/cadastros.json', orient='records')\n",
    "\n",
    "cadastro_ultimo_ano"
   ]
  },
  {
   "cell_type": "code",
   "execution_count": 73,
   "metadata": {
    "vscode": {
     "languageId": "ruby"
    }
   },
   "outputs": [
    {
     "data": {
      "text/html": [
       "<div>\n",
       "<style scoped>\n",
       "    .dataframe tbody tr th:only-of-type {\n",
       "        vertical-align: middle;\n",
       "    }\n",
       "\n",
       "    .dataframe tbody tr th {\n",
       "        vertical-align: top;\n",
       "    }\n",
       "\n",
       "    .dataframe thead th {\n",
       "        text-align: right;\n",
       "    }\n",
       "</style>\n",
       "<table border=\"1\" class=\"dataframe\">\n",
       "  <thead>\n",
       "    <tr style=\"text-align: right;\">\n",
       "      <th></th>\n",
       "      <th>Uf</th>\n",
       "      <th>IBGE</th>\n",
       "      <th>Municipio</th>\n",
       "      <th>Cadastros</th>\n",
       "      <th>Ano</th>\n",
       "    </tr>\n",
       "  </thead>\n",
       "  <tbody>\n",
       "    <tr>\n",
       "      <th>267074</th>\n",
       "      <td>RO</td>\n",
       "      <td>110015</td>\n",
       "      <td>OURO PRETO DO OESTE</td>\n",
       "      <td>39901</td>\n",
       "      <td>2024</td>\n",
       "    </tr>\n",
       "    <tr>\n",
       "      <th>267075</th>\n",
       "      <td>RO</td>\n",
       "      <td>110050</td>\n",
       "      <td>NOVO HORIZONTE DO OESTE</td>\n",
       "      <td>8608</td>\n",
       "      <td>2024</td>\n",
       "    </tr>\n",
       "    <tr>\n",
       "      <th>267076</th>\n",
       "      <td>PR</td>\n",
       "      <td>410720</td>\n",
       "      <td>DOIS VIZINHOS</td>\n",
       "      <td>45748</td>\n",
       "      <td>2024</td>\n",
       "    </tr>\n",
       "    <tr>\n",
       "      <th>267077</th>\n",
       "      <td>RS</td>\n",
       "      <td>430520</td>\n",
       "      <td>CERRO LARGO</td>\n",
       "      <td>13600</td>\n",
       "      <td>2024</td>\n",
       "    </tr>\n",
       "    <tr>\n",
       "      <th>267078</th>\n",
       "      <td>RS</td>\n",
       "      <td>430580</td>\n",
       "      <td>CONSTANTINA</td>\n",
       "      <td>11228</td>\n",
       "      <td>2024</td>\n",
       "    </tr>\n",
       "    <tr>\n",
       "      <th>...</th>\n",
       "      <td>...</td>\n",
       "      <td>...</td>\n",
       "      <td>...</td>\n",
       "      <td>...</td>\n",
       "      <td>...</td>\n",
       "    </tr>\n",
       "    <tr>\n",
       "      <th>272639</th>\n",
       "      <td>CE</td>\n",
       "      <td>230990</td>\n",
       "      <td>PACUJÁ</td>\n",
       "      <td>6760</td>\n",
       "      <td>2024</td>\n",
       "    </tr>\n",
       "    <tr>\n",
       "      <th>272640</th>\n",
       "      <td>PB</td>\n",
       "      <td>251385</td>\n",
       "      <td>SANTO ANDRÉ</td>\n",
       "      <td>3139</td>\n",
       "      <td>2024</td>\n",
       "    </tr>\n",
       "    <tr>\n",
       "      <th>272641</th>\n",
       "      <td>MG</td>\n",
       "      <td>310040</td>\n",
       "      <td>ACAIACA</td>\n",
       "      <td>4582</td>\n",
       "      <td>2024</td>\n",
       "    </tr>\n",
       "    <tr>\n",
       "      <th>272642</th>\n",
       "      <td>MG</td>\n",
       "      <td>313540</td>\n",
       "      <td>JECEABA</td>\n",
       "      <td>6350</td>\n",
       "      <td>2024</td>\n",
       "    </tr>\n",
       "    <tr>\n",
       "      <th>272643</th>\n",
       "      <td>TO</td>\n",
       "      <td>171889</td>\n",
       "      <td>SANTA RITA DO TOCANTINS</td>\n",
       "      <td>2613</td>\n",
       "      <td>2024</td>\n",
       "    </tr>\n",
       "  </tbody>\n",
       "</table>\n",
       "<p>5570 rows × 5 columns</p>\n",
       "</div>"
      ],
      "text/plain": [
       "        Uf    IBGE                Municipio  Cadastros   Ano\n",
       "267074  RO  110015      OURO PRETO DO OESTE      39901  2024\n",
       "267075  RO  110050  NOVO HORIZONTE DO OESTE       8608  2024\n",
       "267076  PR  410720            DOIS VIZINHOS      45748  2024\n",
       "267077  RS  430520              CERRO LARGO      13600  2024\n",
       "267078  RS  430580              CONSTANTINA      11228  2024\n",
       "...     ..     ...                      ...        ...   ...\n",
       "272639  CE  230990                   PACUJÁ       6760  2024\n",
       "272640  PB  251385              SANTO ANDRÉ       3139  2024\n",
       "272641  MG  310040                  ACAIACA       4582  2024\n",
       "272642  MG  313540                  JECEABA       6350  2024\n",
       "272643  TO  171889  SANTA RITA DO TOCANTINS       2613  2024\n",
       "\n",
       "[5570 rows x 5 columns]"
      ]
     },
     "execution_count": 73,
     "metadata": {},
     "output_type": "execute_result"
    }
   ],
   "source": [
    "cadastro_ultimo_ano.drop_duplicates(subset=['IBGE'], keep='last')\n"
   ]
  },
  {
   "cell_type": "code",
   "execution_count": 19,
   "metadata": {},
   "outputs": [
    {
     "name": "stdout",
     "output_type": "stream",
     "text": [
      "A população é 931961\n"
     ]
    }
   ],
   "source": [
    "import json\n",
    "\n",
    "def get_population(estado, municipio):\n",
    "    with open('data/cadastros.json', 'r', encoding='utf-8') as file:\n",
    "        cadastros = json.load(file)\n",
    "    \n",
    "    if municipio is None and estado is None:\n",
    "        # soma de todas as populações\n",
    "        total = 0\n",
    "        for item in cadastros:\n",
    "            total += item['Cadastros']\n",
    "        return total\n",
    "    \n",
    "    if municipio is None:\n",
    "        # soma da população do estado\n",
    "        total = 0\n",
    "        for item in cadastros:\n",
    "            if item['Uf'] == estado:\n",
    "                total += item['Cadastros']\n",
    "        return total\n",
    "\n",
    "    for item in cadastros:\n",
    "        if item['Uf'] == estado and item['Municipio'] == municipio:\n",
    "            return item['Cadastros']\n",
    "    \n",
    "    return None\n",
    "\n",
    "\n",
    "populacao = get_population('SP', 'CAMPINAS')\n",
    "print(f'A população é {populacao}')"
   ]
  },
  {
   "cell_type": "code",
   "execution_count": 74,
   "metadata": {
    "vscode": {
     "languageId": "ruby"
    }
   },
   "outputs": [],
   "source": [
    "# Converter para JSON\n",
    "cadastro_ultimo_ano.to_json('data/cadastros.json', orient='records')"
   ]
  },
  {
   "cell_type": "code",
   "execution_count": 15,
   "metadata": {
    "vscode": {
     "languageId": "ruby"
    }
   },
   "outputs": [
    {
     "data": {
      "text/plain": [
       "'../mapas/Estados/AM/AM_Municipios_2022.shp'"
      ]
     },
     "execution_count": 15,
     "metadata": {},
     "output_type": "execute_result"
    }
   ],
   "source": [
    "import os\n",
    "\n",
    "estado = 'AM'\n",
    "\n",
    "# get shapefile\n",
    "arquivos = os.listdir(f'../mapas/Estados/{estado}')\n",
    "\n",
    "shapefile = [arquivo for arquivo in arquivos if arquivo.endswith('.shp')][0]\n",
    "shapefile = f'../mapas/Estados/{estado}/{shapefile}'\n",
    "shapefile"
   ]
  },
  {
   "cell_type": "code",
   "execution_count": null,
   "metadata": {},
   "outputs": [],
   "source": [
    "import os\n",
    "\n",
    "find /caminho/do/diretorio -type f -size +100M\n",
    "# Listar todos os arquivos .zip no diretório\n",
    "zip_files = [arquivo for arquivo in arquivos if arquivo.endswith('.zip')]\n",
    "\n",
    "# Comando para descompactar cada arquivo .zip\n",
    "for zip_file in zip_files:\n",
    "    os.system(f'unzip {zip_file} -d /caminho/do/diretorio')"
   ]
  },
  {
   "cell_type": "code",
   "execution_count": 17,
   "metadata": {
    "vscode": {
     "languageId": "ruby"
    }
   },
   "outputs": [
    {
     "data": {
      "text/html": [
       "<div>\n",
       "<style scoped>\n",
       "    .dataframe tbody tr th:only-of-type {\n",
       "        vertical-align: middle;\n",
       "    }\n",
       "\n",
       "    .dataframe tbody tr th {\n",
       "        vertical-align: top;\n",
       "    }\n",
       "\n",
       "    .dataframe thead th {\n",
       "        text-align: right;\n",
       "    }\n",
       "</style>\n",
       "<table border=\"1\" class=\"dataframe\">\n",
       "  <thead>\n",
       "    <tr style=\"text-align: right;\">\n",
       "      <th></th>\n",
       "      <th>CD_MUN</th>\n",
       "      <th>NM_MUN</th>\n",
       "      <th>SIGLA_UF</th>\n",
       "      <th>AREA_KM2</th>\n",
       "      <th>geometry</th>\n",
       "    </tr>\n",
       "  </thead>\n",
       "  <tbody>\n",
       "    <tr>\n",
       "      <th>0</th>\n",
       "      <td>1300029</td>\n",
       "      <td>Alvarães</td>\n",
       "      <td>AM</td>\n",
       "      <td>5923.461</td>\n",
       "      <td>POLYGON ((-64.71229 -3.27608, -64.7162 -3.2769...</td>\n",
       "    </tr>\n",
       "    <tr>\n",
       "      <th>1</th>\n",
       "      <td>1300060</td>\n",
       "      <td>Amaturá</td>\n",
       "      <td>AM</td>\n",
       "      <td>4754.109</td>\n",
       "      <td>POLYGON ((-67.94285 -3.32959, -67.87343 -3.332...</td>\n",
       "    </tr>\n",
       "    <tr>\n",
       "      <th>2</th>\n",
       "      <td>1300086</td>\n",
       "      <td>Anamã</td>\n",
       "      <td>AM</td>\n",
       "      <td>2446.121</td>\n",
       "      <td>POLYGON ((-61.51715 -3.6848, -61.54102 -3.6842...</td>\n",
       "    </tr>\n",
       "    <tr>\n",
       "      <th>3</th>\n",
       "      <td>1300102</td>\n",
       "      <td>Anori</td>\n",
       "      <td>AM</td>\n",
       "      <td>6036.380</td>\n",
       "      <td>POLYGON ((-61.86552 -3.97394, -61.88421 -3.965...</td>\n",
       "    </tr>\n",
       "    <tr>\n",
       "      <th>4</th>\n",
       "      <td>1300144</td>\n",
       "      <td>Apuí</td>\n",
       "      <td>AM</td>\n",
       "      <td>54240.545</td>\n",
       "      <td>POLYGON ((-60.07249 -8.80016, -60.08515 -8.800...</td>\n",
       "    </tr>\n",
       "    <tr>\n",
       "      <th>...</th>\n",
       "      <td>...</td>\n",
       "      <td>...</td>\n",
       "      <td>...</td>\n",
       "      <td>...</td>\n",
       "      <td>...</td>\n",
       "    </tr>\n",
       "    <tr>\n",
       "      <th>57</th>\n",
       "      <td>1304203</td>\n",
       "      <td>Tefé</td>\n",
       "      <td>AM</td>\n",
       "      <td>23692.223</td>\n",
       "      <td>POLYGON ((-64.45763 -3.42909, -64.45566 -3.434...</td>\n",
       "    </tr>\n",
       "    <tr>\n",
       "      <th>58</th>\n",
       "      <td>1304237</td>\n",
       "      <td>Tonantins</td>\n",
       "      <td>AM</td>\n",
       "      <td>6446.894</td>\n",
       "      <td>POLYGON ((-67.29106 -2.58411, -67.29104 -2.603...</td>\n",
       "    </tr>\n",
       "    <tr>\n",
       "      <th>59</th>\n",
       "      <td>1304260</td>\n",
       "      <td>Uarini</td>\n",
       "      <td>AM</td>\n",
       "      <td>10274.677</td>\n",
       "      <td>POLYGON ((-64.89493 -2.86025, -64.89588 -2.865...</td>\n",
       "    </tr>\n",
       "    <tr>\n",
       "      <th>60</th>\n",
       "      <td>1304302</td>\n",
       "      <td>Urucará</td>\n",
       "      <td>AM</td>\n",
       "      <td>27901.962</td>\n",
       "      <td>POLYGON ((-57.68172 -2.23394, -57.67938 -2.234...</td>\n",
       "    </tr>\n",
       "    <tr>\n",
       "      <th>61</th>\n",
       "      <td>1304401</td>\n",
       "      <td>Urucurituba</td>\n",
       "      <td>AM</td>\n",
       "      <td>2886.494</td>\n",
       "      <td>POLYGON ((-58.1729 -3.11253, -58.1728 -3.11113...</td>\n",
       "    </tr>\n",
       "  </tbody>\n",
       "</table>\n",
       "<p>62 rows × 5 columns</p>\n",
       "</div>"
      ],
      "text/plain": [
       "     CD_MUN       NM_MUN SIGLA_UF   AREA_KM2  \\\n",
       "0   1300029     Alvarães       AM   5923.461   \n",
       "1   1300060      Amaturá       AM   4754.109   \n",
       "2   1300086        Anamã       AM   2446.121   \n",
       "3   1300102        Anori       AM   6036.380   \n",
       "4   1300144         Apuí       AM  54240.545   \n",
       "..      ...          ...      ...        ...   \n",
       "57  1304203         Tefé       AM  23692.223   \n",
       "58  1304237    Tonantins       AM   6446.894   \n",
       "59  1304260       Uarini       AM  10274.677   \n",
       "60  1304302      Urucará       AM  27901.962   \n",
       "61  1304401  Urucurituba       AM   2886.494   \n",
       "\n",
       "                                             geometry  \n",
       "0   POLYGON ((-64.71229 -3.27608, -64.7162 -3.2769...  \n",
       "1   POLYGON ((-67.94285 -3.32959, -67.87343 -3.332...  \n",
       "2   POLYGON ((-61.51715 -3.6848, -61.54102 -3.6842...  \n",
       "3   POLYGON ((-61.86552 -3.97394, -61.88421 -3.965...  \n",
       "4   POLYGON ((-60.07249 -8.80016, -60.08515 -8.800...  \n",
       "..                                                ...  \n",
       "57  POLYGON ((-64.45763 -3.42909, -64.45566 -3.434...  \n",
       "58  POLYGON ((-67.29106 -2.58411, -67.29104 -2.603...  \n",
       "59  POLYGON ((-64.89493 -2.86025, -64.89588 -2.865...  \n",
       "60  POLYGON ((-57.68172 -2.23394, -57.67938 -2.234...  \n",
       "61  POLYGON ((-58.1729 -3.11253, -58.1728 -3.11113...  \n",
       "\n",
       "[62 rows x 5 columns]"
      ]
     },
     "execution_count": 17,
     "metadata": {},
     "output_type": "execute_result"
    }
   ],
   "source": [
    "import geopandas as gpd\n",
    "\n",
    "gpd.read_file(shapefile)"
   ]
  },
  {
   "cell_type": "code",
   "execution_count": 18,
   "metadata": {
    "vscode": {
     "languageId": "ruby"
    }
   },
   "outputs": [
    {
     "data": {
      "text/plain": [
       "'Alvarães'"
      ]
     },
     "execution_count": 18,
     "metadata": {},
     "output_type": "execute_result"
    }
   ],
   "source": [
    "mapa_mun = gpd.read_file(shapefile)\n",
    "\n",
    "mapa_mun.iloc[0]['NM_MUN']"
   ]
  },
  {
   "cell_type": "code",
   "execution_count": 25,
   "metadata": {
    "vscode": {
     "languageId": "ruby"
    }
   },
   "outputs": [
    {
     "data": {
      "application/vnd.plotly.v1+json": {
       "config": {
        "plotlyServerURL": "https://plot.ly"
       },
       "data": [
        {
         "coloraxis": "coloraxis",
         "customdata": [
          [
           "Alvarães",
           "AM",
           1
          ]
         ],
         "geo": "geo",
         "geojson": {
          "bbox": [
           -65.925458208,
           -4.29267145099993,
           -64.671155217,
           -3.05655841499993
          ],
          "features": [
           {
            "bbox": [
             -65.925458208,
             -4.29267145099993,
             -64.671155217,
             -3.05655841499993
            ],
            "geometry": {
             "coordinates": [
              [
               [
                -64.712286718,
                -3.27608498199993
               ],
               [
                -64.725798217,
                -3.29504295699996
               ],
               [
                -64.788803161,
                -3.31656464199995
               ],
               [
                -64.849884242,
                -3.38163406299998
               ],
               [
                -64.8858776169999,
                -3.39267452799993
               ],
               [
                -64.8955969039999,
                -3.43107108699996
               ],
               [
                -64.945490862,
                -3.48743738699994
               ],
               [
                -64.9749732769999,
                -3.49041907999998
               ],
               [
                -64.9803820289999,
                -3.51043741699993
               ],
               [
                -64.960963556,
                -3.53451597499998
               ],
               [
                -64.992429398,
                -3.56971656699994
               ],
               [
                -64.972106805,
                -3.62621112499994
               ],
               [
                -65.03781104,
                -3.66439632999993
               ],
               [
                -65.013378454,
                -3.68708594099996
               ],
               [
                -65.030070875,
                -3.72725101099996
               ],
               [
                -65.019494473,
                -3.78360561499994
               ],
               [
                -65.093438412,
                -3.79764720999998
               ],
               [
                -65.128481525,
                -3.85556580899993
               ],
               [
                -65.1187111259999,
                -3.87017952599996
               ],
               [
                -65.15714786,
                -3.88776613499994
               ],
               [
                -65.157641755,
                -3.90547361999995
               ],
               [
                -65.1676387209999,
                -3.89646530999994
               ],
               [
                -65.2540999719999,
                -3.95422458299993
               ],
               [
                -65.336016365,
                -3.97084070999995
               ],
               [
                -65.353495542,
                -3.99497484399996
               ],
               [
                -65.391051166,
                -4.00583136799997
               ],
               [
                -65.397803557,
                -4.02772683299997
               ],
               [
                -65.480028889,
                -4.05056150999997
               ],
               [
                -65.515652189,
                -4.08785806299994
               ],
               [
                -65.657126042,
                -4.12857208999998
               ],
               [
                -65.6760815389999,
                -4.16275967199994
               ],
               [
                -65.872699606,
                -4.25260075399996
               ],
               [
                -65.908873753,
                -4.29267145099993
               ],
               [
                -65.925458208,
                -4.26091053699997
               ],
               [
                -65.9160138999999,
                -4.21728497399994
               ],
               [
                -65.8659301009999,
                -4.16979629299993
               ],
               [
                -65.87019928,
                -4.13289881799994
               ],
               [
                -65.840620375,
                -4.06897978599994
               ],
               [
                -65.863392802,
                -3.99764666599998
               ],
               [
                -65.855476355,
                -3.95786767999994
               ],
               [
                -65.802698613,
                -3.89096050499995
               ],
               [
                -65.784007984,
                -3.83783853599994
               ],
               [
                -65.724065851,
                -3.80754593699993
               ],
               [
                -65.707367156,
                -3.73805584199994
               ],
               [
                -65.658668927,
                -3.69264187999994
               ],
               [
                -65.6472269019999,
                -3.62532959399994
               ],
               [
                -65.542063833,
                -3.62493587199998
               ],
               [
                -65.50261869,
                -3.58105896899997
               ],
               [
                -65.474500361,
                -3.60041405199996
               ],
               [
                -65.426111712,
                -3.57566076999996
               ],
               [
                -65.360642237,
                -3.49721804799998
               ],
               [
                -65.2173125689999,
                -3.46506231499995
               ],
               [
                -65.177286177,
                -3.43882207399997
               ],
               [
                -65.157446711,
                -3.38936569599997
               ],
               [
                -65.125250302,
                -3.38249581099996
               ],
               [
                -65.067723385,
                -3.30209435899997
               ],
               [
                -65.047755082,
                -3.19419468199993
               ],
               [
                -64.974755575,
                -3.09352944999995
               ],
               [
                -64.973978141,
                -3.05655841499993
               ],
               [
                -64.934051075,
                -3.06508311799996
               ],
               [
                -64.891920574,
                -3.10018449999995
               ],
               [
                -64.826011262,
                -3.11222285899993
               ],
               [
                -64.8033806179999,
                -3.14939191599996
               ],
               [
                -64.7031677799999,
                -3.22186872699996
               ],
               [
                -64.671155217,
                -3.27244175799996
               ],
               [
                -64.712286718,
                -3.27608498199993
               ]
              ]
             ],
             "type": "Polygon"
            },
            "id": "0",
            "properties": {},
            "type": "Feature"
           }
          ],
          "type": "FeatureCollection"
         },
         "hovertemplate": "<b>%{hovertext}</b><extra></extra>",
         "hovertext": [
          "Alvarães"
         ],
         "locations": [
          0
         ],
         "name": "",
         "type": "choropleth",
         "z": [
          1
         ]
        }
       ],
       "layout": {
        "coloraxis": {
         "colorbar": {
          "title": {
           "text": "value"
          }
         },
         "colorscale": [
          [
           0,
           "#80B0DC"
          ],
          [
           0.5,
           "#80B0DC"
          ],
          [
           1,
           "#80B0DC"
          ]
         ],
         "showscale": false
        },
        "geo": {
         "center": {},
         "domain": {
          "x": [
           0,
           1
          ],
          "y": [
           0,
           1
          ]
         },
         "fitbounds": "locations",
         "visible": false
        },
        "legend": {
         "tracegroupgap": 0
        },
        "margin": {
         "b": 0,
         "l": 0,
         "r": 0,
         "t": 50
        },
        "template": {
         "data": {
          "bar": [
           {
            "error_x": {
             "color": "#2a3f5f"
            },
            "error_y": {
             "color": "#2a3f5f"
            },
            "marker": {
             "line": {
              "color": "#E5ECF6",
              "width": 0.5
             },
             "pattern": {
              "fillmode": "overlay",
              "size": 10,
              "solidity": 0.2
             }
            },
            "type": "bar"
           }
          ],
          "barpolar": [
           {
            "marker": {
             "line": {
              "color": "#E5ECF6",
              "width": 0.5
             },
             "pattern": {
              "fillmode": "overlay",
              "size": 10,
              "solidity": 0.2
             }
            },
            "type": "barpolar"
           }
          ],
          "carpet": [
           {
            "aaxis": {
             "endlinecolor": "#2a3f5f",
             "gridcolor": "white",
             "linecolor": "white",
             "minorgridcolor": "white",
             "startlinecolor": "#2a3f5f"
            },
            "baxis": {
             "endlinecolor": "#2a3f5f",
             "gridcolor": "white",
             "linecolor": "white",
             "minorgridcolor": "white",
             "startlinecolor": "#2a3f5f"
            },
            "type": "carpet"
           }
          ],
          "choropleth": [
           {
            "colorbar": {
             "outlinewidth": 0,
             "ticks": ""
            },
            "type": "choropleth"
           }
          ],
          "contour": [
           {
            "colorbar": {
             "outlinewidth": 0,
             "ticks": ""
            },
            "colorscale": [
             [
              0,
              "#0d0887"
             ],
             [
              0.1111111111111111,
              "#46039f"
             ],
             [
              0.2222222222222222,
              "#7201a8"
             ],
             [
              0.3333333333333333,
              "#9c179e"
             ],
             [
              0.4444444444444444,
              "#bd3786"
             ],
             [
              0.5555555555555556,
              "#d8576b"
             ],
             [
              0.6666666666666666,
              "#ed7953"
             ],
             [
              0.7777777777777778,
              "#fb9f3a"
             ],
             [
              0.8888888888888888,
              "#fdca26"
             ],
             [
              1,
              "#f0f921"
             ]
            ],
            "type": "contour"
           }
          ],
          "contourcarpet": [
           {
            "colorbar": {
             "outlinewidth": 0,
             "ticks": ""
            },
            "type": "contourcarpet"
           }
          ],
          "heatmap": [
           {
            "colorbar": {
             "outlinewidth": 0,
             "ticks": ""
            },
            "colorscale": [
             [
              0,
              "#0d0887"
             ],
             [
              0.1111111111111111,
              "#46039f"
             ],
             [
              0.2222222222222222,
              "#7201a8"
             ],
             [
              0.3333333333333333,
              "#9c179e"
             ],
             [
              0.4444444444444444,
              "#bd3786"
             ],
             [
              0.5555555555555556,
              "#d8576b"
             ],
             [
              0.6666666666666666,
              "#ed7953"
             ],
             [
              0.7777777777777778,
              "#fb9f3a"
             ],
             [
              0.8888888888888888,
              "#fdca26"
             ],
             [
              1,
              "#f0f921"
             ]
            ],
            "type": "heatmap"
           }
          ],
          "heatmapgl": [
           {
            "colorbar": {
             "outlinewidth": 0,
             "ticks": ""
            },
            "colorscale": [
             [
              0,
              "#0d0887"
             ],
             [
              0.1111111111111111,
              "#46039f"
             ],
             [
              0.2222222222222222,
              "#7201a8"
             ],
             [
              0.3333333333333333,
              "#9c179e"
             ],
             [
              0.4444444444444444,
              "#bd3786"
             ],
             [
              0.5555555555555556,
              "#d8576b"
             ],
             [
              0.6666666666666666,
              "#ed7953"
             ],
             [
              0.7777777777777778,
              "#fb9f3a"
             ],
             [
              0.8888888888888888,
              "#fdca26"
             ],
             [
              1,
              "#f0f921"
             ]
            ],
            "type": "heatmapgl"
           }
          ],
          "histogram": [
           {
            "marker": {
             "pattern": {
              "fillmode": "overlay",
              "size": 10,
              "solidity": 0.2
             }
            },
            "type": "histogram"
           }
          ],
          "histogram2d": [
           {
            "colorbar": {
             "outlinewidth": 0,
             "ticks": ""
            },
            "colorscale": [
             [
              0,
              "#0d0887"
             ],
             [
              0.1111111111111111,
              "#46039f"
             ],
             [
              0.2222222222222222,
              "#7201a8"
             ],
             [
              0.3333333333333333,
              "#9c179e"
             ],
             [
              0.4444444444444444,
              "#bd3786"
             ],
             [
              0.5555555555555556,
              "#d8576b"
             ],
             [
              0.6666666666666666,
              "#ed7953"
             ],
             [
              0.7777777777777778,
              "#fb9f3a"
             ],
             [
              0.8888888888888888,
              "#fdca26"
             ],
             [
              1,
              "#f0f921"
             ]
            ],
            "type": "histogram2d"
           }
          ],
          "histogram2dcontour": [
           {
            "colorbar": {
             "outlinewidth": 0,
             "ticks": ""
            },
            "colorscale": [
             [
              0,
              "#0d0887"
             ],
             [
              0.1111111111111111,
              "#46039f"
             ],
             [
              0.2222222222222222,
              "#7201a8"
             ],
             [
              0.3333333333333333,
              "#9c179e"
             ],
             [
              0.4444444444444444,
              "#bd3786"
             ],
             [
              0.5555555555555556,
              "#d8576b"
             ],
             [
              0.6666666666666666,
              "#ed7953"
             ],
             [
              0.7777777777777778,
              "#fb9f3a"
             ],
             [
              0.8888888888888888,
              "#fdca26"
             ],
             [
              1,
              "#f0f921"
             ]
            ],
            "type": "histogram2dcontour"
           }
          ],
          "mesh3d": [
           {
            "colorbar": {
             "outlinewidth": 0,
             "ticks": ""
            },
            "type": "mesh3d"
           }
          ],
          "parcoords": [
           {
            "line": {
             "colorbar": {
              "outlinewidth": 0,
              "ticks": ""
             }
            },
            "type": "parcoords"
           }
          ],
          "pie": [
           {
            "automargin": true,
            "type": "pie"
           }
          ],
          "scatter": [
           {
            "fillpattern": {
             "fillmode": "overlay",
             "size": 10,
             "solidity": 0.2
            },
            "type": "scatter"
           }
          ],
          "scatter3d": [
           {
            "line": {
             "colorbar": {
              "outlinewidth": 0,
              "ticks": ""
             }
            },
            "marker": {
             "colorbar": {
              "outlinewidth": 0,
              "ticks": ""
             }
            },
            "type": "scatter3d"
           }
          ],
          "scattercarpet": [
           {
            "marker": {
             "colorbar": {
              "outlinewidth": 0,
              "ticks": ""
             }
            },
            "type": "scattercarpet"
           }
          ],
          "scattergeo": [
           {
            "marker": {
             "colorbar": {
              "outlinewidth": 0,
              "ticks": ""
             }
            },
            "type": "scattergeo"
           }
          ],
          "scattergl": [
           {
            "marker": {
             "colorbar": {
              "outlinewidth": 0,
              "ticks": ""
             }
            },
            "type": "scattergl"
           }
          ],
          "scattermapbox": [
           {
            "marker": {
             "colorbar": {
              "outlinewidth": 0,
              "ticks": ""
             }
            },
            "type": "scattermapbox"
           }
          ],
          "scatterpolar": [
           {
            "marker": {
             "colorbar": {
              "outlinewidth": 0,
              "ticks": ""
             }
            },
            "type": "scatterpolar"
           }
          ],
          "scatterpolargl": [
           {
            "marker": {
             "colorbar": {
              "outlinewidth": 0,
              "ticks": ""
             }
            },
            "type": "scatterpolargl"
           }
          ],
          "scatterternary": [
           {
            "marker": {
             "colorbar": {
              "outlinewidth": 0,
              "ticks": ""
             }
            },
            "type": "scatterternary"
           }
          ],
          "surface": [
           {
            "colorbar": {
             "outlinewidth": 0,
             "ticks": ""
            },
            "colorscale": [
             [
              0,
              "#0d0887"
             ],
             [
              0.1111111111111111,
              "#46039f"
             ],
             [
              0.2222222222222222,
              "#7201a8"
             ],
             [
              0.3333333333333333,
              "#9c179e"
             ],
             [
              0.4444444444444444,
              "#bd3786"
             ],
             [
              0.5555555555555556,
              "#d8576b"
             ],
             [
              0.6666666666666666,
              "#ed7953"
             ],
             [
              0.7777777777777778,
              "#fb9f3a"
             ],
             [
              0.8888888888888888,
              "#fdca26"
             ],
             [
              1,
              "#f0f921"
             ]
            ],
            "type": "surface"
           }
          ],
          "table": [
           {
            "cells": {
             "fill": {
              "color": "#EBF0F8"
             },
             "line": {
              "color": "white"
             }
            },
            "header": {
             "fill": {
              "color": "#C8D4E3"
             },
             "line": {
              "color": "white"
             }
            },
            "type": "table"
           }
          ]
         },
         "layout": {
          "annotationdefaults": {
           "arrowcolor": "#2a3f5f",
           "arrowhead": 0,
           "arrowwidth": 1
          },
          "autotypenumbers": "strict",
          "coloraxis": {
           "colorbar": {
            "outlinewidth": 0,
            "ticks": ""
           }
          },
          "colorscale": {
           "diverging": [
            [
             0,
             "#8e0152"
            ],
            [
             0.1,
             "#c51b7d"
            ],
            [
             0.2,
             "#de77ae"
            ],
            [
             0.3,
             "#f1b6da"
            ],
            [
             0.4,
             "#fde0ef"
            ],
            [
             0.5,
             "#f7f7f7"
            ],
            [
             0.6,
             "#e6f5d0"
            ],
            [
             0.7,
             "#b8e186"
            ],
            [
             0.8,
             "#7fbc41"
            ],
            [
             0.9,
             "#4d9221"
            ],
            [
             1,
             "#276419"
            ]
           ],
           "sequential": [
            [
             0,
             "#0d0887"
            ],
            [
             0.1111111111111111,
             "#46039f"
            ],
            [
             0.2222222222222222,
             "#7201a8"
            ],
            [
             0.3333333333333333,
             "#9c179e"
            ],
            [
             0.4444444444444444,
             "#bd3786"
            ],
            [
             0.5555555555555556,
             "#d8576b"
            ],
            [
             0.6666666666666666,
             "#ed7953"
            ],
            [
             0.7777777777777778,
             "#fb9f3a"
            ],
            [
             0.8888888888888888,
             "#fdca26"
            ],
            [
             1,
             "#f0f921"
            ]
           ],
           "sequentialminus": [
            [
             0,
             "#0d0887"
            ],
            [
             0.1111111111111111,
             "#46039f"
            ],
            [
             0.2222222222222222,
             "#7201a8"
            ],
            [
             0.3333333333333333,
             "#9c179e"
            ],
            [
             0.4444444444444444,
             "#bd3786"
            ],
            [
             0.5555555555555556,
             "#d8576b"
            ],
            [
             0.6666666666666666,
             "#ed7953"
            ],
            [
             0.7777777777777778,
             "#fb9f3a"
            ],
            [
             0.8888888888888888,
             "#fdca26"
            ],
            [
             1,
             "#f0f921"
            ]
           ]
          },
          "colorway": [
           "#636efa",
           "#EF553B",
           "#00cc96",
           "#ab63fa",
           "#FFA15A",
           "#19d3f3",
           "#FF6692",
           "#B6E880",
           "#FF97FF",
           "#FECB52"
          ],
          "font": {
           "color": "#2a3f5f"
          },
          "geo": {
           "bgcolor": "white",
           "lakecolor": "white",
           "landcolor": "#E5ECF6",
           "showlakes": true,
           "showland": true,
           "subunitcolor": "white"
          },
          "hoverlabel": {
           "align": "left"
          },
          "hovermode": "closest",
          "mapbox": {
           "style": "light"
          },
          "paper_bgcolor": "white",
          "plot_bgcolor": "#E5ECF6",
          "polar": {
           "angularaxis": {
            "gridcolor": "white",
            "linecolor": "white",
            "ticks": ""
           },
           "bgcolor": "#E5ECF6",
           "radialaxis": {
            "gridcolor": "white",
            "linecolor": "white",
            "ticks": ""
           }
          },
          "scene": {
           "xaxis": {
            "backgroundcolor": "#E5ECF6",
            "gridcolor": "white",
            "gridwidth": 2,
            "linecolor": "white",
            "showbackground": true,
            "ticks": "",
            "zerolinecolor": "white"
           },
           "yaxis": {
            "backgroundcolor": "#E5ECF6",
            "gridcolor": "white",
            "gridwidth": 2,
            "linecolor": "white",
            "showbackground": true,
            "ticks": "",
            "zerolinecolor": "white"
           },
           "zaxis": {
            "backgroundcolor": "#E5ECF6",
            "gridcolor": "white",
            "gridwidth": 2,
            "linecolor": "white",
            "showbackground": true,
            "ticks": "",
            "zerolinecolor": "white"
           }
          },
          "shapedefaults": {
           "line": {
            "color": "#2a3f5f"
           }
          },
          "ternary": {
           "aaxis": {
            "gridcolor": "white",
            "linecolor": "white",
            "ticks": ""
           },
           "baxis": {
            "gridcolor": "white",
            "linecolor": "white",
            "ticks": ""
           },
           "bgcolor": "#E5ECF6",
           "caxis": {
            "gridcolor": "white",
            "linecolor": "white",
            "ticks": ""
           }
          },
          "title": {
           "x": 0.05
          },
          "xaxis": {
           "automargin": true,
           "gridcolor": "white",
           "linecolor": "white",
           "ticks": "",
           "title": {
            "standoff": 15
           },
           "zerolinecolor": "white",
           "zerolinewidth": 2
          },
          "yaxis": {
           "automargin": true,
           "gridcolor": "white",
           "linecolor": "white",
           "ticks": "",
           "title": {
            "standoff": 15
           },
           "zerolinecolor": "white",
           "zerolinewidth": 2
          }
         }
        }
       }
      },
      "text/html": [
       "<div>                            <div id=\"7f6059de-fe67-46dc-bdaa-4f58b486316d\" class=\"plotly-graph-div\" style=\"height:525px; width:100%;\"></div>            <script type=\"text/javascript\">                require([\"plotly\"], function(Plotly) {                    window.PLOTLYENV=window.PLOTLYENV || {};                                    if (document.getElementById(\"7f6059de-fe67-46dc-bdaa-4f58b486316d\")) {                    Plotly.newPlot(                        \"7f6059de-fe67-46dc-bdaa-4f58b486316d\",                        [{\"coloraxis\":\"coloraxis\",\"customdata\":[[\"Alvarães\",\"AM\",1]],\"geo\":\"geo\",\"geojson\":{\"type\":\"FeatureCollection\",\"features\":[{\"id\":\"0\",\"type\":\"Feature\",\"properties\":{},\"geometry\":{\"type\":\"Polygon\",\"coordinates\":[[[-64.712286718,-3.27608498199993],[-64.725798217,-3.29504295699996],[-64.788803161,-3.31656464199995],[-64.849884242,-3.38163406299998],[-64.8858776169999,-3.39267452799993],[-64.8955969039999,-3.43107108699996],[-64.945490862,-3.48743738699994],[-64.9749732769999,-3.49041907999998],[-64.9803820289999,-3.51043741699993],[-64.960963556,-3.53451597499998],[-64.992429398,-3.56971656699994],[-64.972106805,-3.62621112499994],[-65.03781104,-3.66439632999993],[-65.013378454,-3.68708594099996],[-65.030070875,-3.72725101099996],[-65.019494473,-3.78360561499994],[-65.093438412,-3.79764720999998],[-65.128481525,-3.85556580899993],[-65.1187111259999,-3.87017952599996],[-65.15714786,-3.88776613499994],[-65.157641755,-3.90547361999995],[-65.1676387209999,-3.89646530999994],[-65.2540999719999,-3.95422458299993],[-65.336016365,-3.97084070999995],[-65.353495542,-3.99497484399996],[-65.391051166,-4.00583136799997],[-65.397803557,-4.02772683299997],[-65.480028889,-4.05056150999997],[-65.515652189,-4.08785806299994],[-65.657126042,-4.12857208999998],[-65.6760815389999,-4.16275967199994],[-65.872699606,-4.25260075399996],[-65.908873753,-4.29267145099993],[-65.925458208,-4.26091053699997],[-65.9160138999999,-4.21728497399994],[-65.8659301009999,-4.16979629299993],[-65.87019928,-4.13289881799994],[-65.840620375,-4.06897978599994],[-65.863392802,-3.99764666599998],[-65.855476355,-3.95786767999994],[-65.802698613,-3.89096050499995],[-65.784007984,-3.83783853599994],[-65.724065851,-3.80754593699993],[-65.707367156,-3.73805584199994],[-65.658668927,-3.69264187999994],[-65.6472269019999,-3.62532959399994],[-65.542063833,-3.62493587199998],[-65.50261869,-3.58105896899997],[-65.474500361,-3.60041405199996],[-65.426111712,-3.57566076999996],[-65.360642237,-3.49721804799998],[-65.2173125689999,-3.46506231499995],[-65.177286177,-3.43882207399997],[-65.157446711,-3.38936569599997],[-65.125250302,-3.38249581099996],[-65.067723385,-3.30209435899997],[-65.047755082,-3.19419468199993],[-64.974755575,-3.09352944999995],[-64.973978141,-3.05655841499993],[-64.934051075,-3.06508311799996],[-64.891920574,-3.10018449999995],[-64.826011262,-3.11222285899993],[-64.8033806179999,-3.14939191599996],[-64.7031677799999,-3.22186872699996],[-64.671155217,-3.27244175799996],[-64.712286718,-3.27608498199993]]]},\"bbox\":[-65.925458208,-4.29267145099993,-64.671155217,-3.05655841499993]}],\"bbox\":[-65.925458208,-4.29267145099993,-64.671155217,-3.05655841499993]},\"hovertemplate\":\"\\u003cb\\u003e%{hovertext}\\u003c\\u002fb\\u003e\\u003cextra\\u003e\\u003c\\u002fextra\\u003e\",\"hovertext\":[\"Alvarães\"],\"locations\":[0],\"name\":\"\",\"z\":[1],\"type\":\"choropleth\"}],                        {\"template\":{\"data\":{\"histogram2dcontour\":[{\"type\":\"histogram2dcontour\",\"colorbar\":{\"outlinewidth\":0,\"ticks\":\"\"},\"colorscale\":[[0.0,\"#0d0887\"],[0.1111111111111111,\"#46039f\"],[0.2222222222222222,\"#7201a8\"],[0.3333333333333333,\"#9c179e\"],[0.4444444444444444,\"#bd3786\"],[0.5555555555555556,\"#d8576b\"],[0.6666666666666666,\"#ed7953\"],[0.7777777777777778,\"#fb9f3a\"],[0.8888888888888888,\"#fdca26\"],[1.0,\"#f0f921\"]]}],\"choropleth\":[{\"type\":\"choropleth\",\"colorbar\":{\"outlinewidth\":0,\"ticks\":\"\"}}],\"histogram2d\":[{\"type\":\"histogram2d\",\"colorbar\":{\"outlinewidth\":0,\"ticks\":\"\"},\"colorscale\":[[0.0,\"#0d0887\"],[0.1111111111111111,\"#46039f\"],[0.2222222222222222,\"#7201a8\"],[0.3333333333333333,\"#9c179e\"],[0.4444444444444444,\"#bd3786\"],[0.5555555555555556,\"#d8576b\"],[0.6666666666666666,\"#ed7953\"],[0.7777777777777778,\"#fb9f3a\"],[0.8888888888888888,\"#fdca26\"],[1.0,\"#f0f921\"]]}],\"heatmap\":[{\"type\":\"heatmap\",\"colorbar\":{\"outlinewidth\":0,\"ticks\":\"\"},\"colorscale\":[[0.0,\"#0d0887\"],[0.1111111111111111,\"#46039f\"],[0.2222222222222222,\"#7201a8\"],[0.3333333333333333,\"#9c179e\"],[0.4444444444444444,\"#bd3786\"],[0.5555555555555556,\"#d8576b\"],[0.6666666666666666,\"#ed7953\"],[0.7777777777777778,\"#fb9f3a\"],[0.8888888888888888,\"#fdca26\"],[1.0,\"#f0f921\"]]}],\"heatmapgl\":[{\"type\":\"heatmapgl\",\"colorbar\":{\"outlinewidth\":0,\"ticks\":\"\"},\"colorscale\":[[0.0,\"#0d0887\"],[0.1111111111111111,\"#46039f\"],[0.2222222222222222,\"#7201a8\"],[0.3333333333333333,\"#9c179e\"],[0.4444444444444444,\"#bd3786\"],[0.5555555555555556,\"#d8576b\"],[0.6666666666666666,\"#ed7953\"],[0.7777777777777778,\"#fb9f3a\"],[0.8888888888888888,\"#fdca26\"],[1.0,\"#f0f921\"]]}],\"contourcarpet\":[{\"type\":\"contourcarpet\",\"colorbar\":{\"outlinewidth\":0,\"ticks\":\"\"}}],\"contour\":[{\"type\":\"contour\",\"colorbar\":{\"outlinewidth\":0,\"ticks\":\"\"},\"colorscale\":[[0.0,\"#0d0887\"],[0.1111111111111111,\"#46039f\"],[0.2222222222222222,\"#7201a8\"],[0.3333333333333333,\"#9c179e\"],[0.4444444444444444,\"#bd3786\"],[0.5555555555555556,\"#d8576b\"],[0.6666666666666666,\"#ed7953\"],[0.7777777777777778,\"#fb9f3a\"],[0.8888888888888888,\"#fdca26\"],[1.0,\"#f0f921\"]]}],\"surface\":[{\"type\":\"surface\",\"colorbar\":{\"outlinewidth\":0,\"ticks\":\"\"},\"colorscale\":[[0.0,\"#0d0887\"],[0.1111111111111111,\"#46039f\"],[0.2222222222222222,\"#7201a8\"],[0.3333333333333333,\"#9c179e\"],[0.4444444444444444,\"#bd3786\"],[0.5555555555555556,\"#d8576b\"],[0.6666666666666666,\"#ed7953\"],[0.7777777777777778,\"#fb9f3a\"],[0.8888888888888888,\"#fdca26\"],[1.0,\"#f0f921\"]]}],\"mesh3d\":[{\"type\":\"mesh3d\",\"colorbar\":{\"outlinewidth\":0,\"ticks\":\"\"}}],\"scatter\":[{\"fillpattern\":{\"fillmode\":\"overlay\",\"size\":10,\"solidity\":0.2},\"type\":\"scatter\"}],\"parcoords\":[{\"type\":\"parcoords\",\"line\":{\"colorbar\":{\"outlinewidth\":0,\"ticks\":\"\"}}}],\"scatterpolargl\":[{\"type\":\"scatterpolargl\",\"marker\":{\"colorbar\":{\"outlinewidth\":0,\"ticks\":\"\"}}}],\"bar\":[{\"error_x\":{\"color\":\"#2a3f5f\"},\"error_y\":{\"color\":\"#2a3f5f\"},\"marker\":{\"line\":{\"color\":\"#E5ECF6\",\"width\":0.5},\"pattern\":{\"fillmode\":\"overlay\",\"size\":10,\"solidity\":0.2}},\"type\":\"bar\"}],\"scattergeo\":[{\"type\":\"scattergeo\",\"marker\":{\"colorbar\":{\"outlinewidth\":0,\"ticks\":\"\"}}}],\"scatterpolar\":[{\"type\":\"scatterpolar\",\"marker\":{\"colorbar\":{\"outlinewidth\":0,\"ticks\":\"\"}}}],\"histogram\":[{\"marker\":{\"pattern\":{\"fillmode\":\"overlay\",\"size\":10,\"solidity\":0.2}},\"type\":\"histogram\"}],\"scattergl\":[{\"type\":\"scattergl\",\"marker\":{\"colorbar\":{\"outlinewidth\":0,\"ticks\":\"\"}}}],\"scatter3d\":[{\"type\":\"scatter3d\",\"line\":{\"colorbar\":{\"outlinewidth\":0,\"ticks\":\"\"}},\"marker\":{\"colorbar\":{\"outlinewidth\":0,\"ticks\":\"\"}}}],\"scattermapbox\":[{\"type\":\"scattermapbox\",\"marker\":{\"colorbar\":{\"outlinewidth\":0,\"ticks\":\"\"}}}],\"scatterternary\":[{\"type\":\"scatterternary\",\"marker\":{\"colorbar\":{\"outlinewidth\":0,\"ticks\":\"\"}}}],\"scattercarpet\":[{\"type\":\"scattercarpet\",\"marker\":{\"colorbar\":{\"outlinewidth\":0,\"ticks\":\"\"}}}],\"carpet\":[{\"aaxis\":{\"endlinecolor\":\"#2a3f5f\",\"gridcolor\":\"white\",\"linecolor\":\"white\",\"minorgridcolor\":\"white\",\"startlinecolor\":\"#2a3f5f\"},\"baxis\":{\"endlinecolor\":\"#2a3f5f\",\"gridcolor\":\"white\",\"linecolor\":\"white\",\"minorgridcolor\":\"white\",\"startlinecolor\":\"#2a3f5f\"},\"type\":\"carpet\"}],\"table\":[{\"cells\":{\"fill\":{\"color\":\"#EBF0F8\"},\"line\":{\"color\":\"white\"}},\"header\":{\"fill\":{\"color\":\"#C8D4E3\"},\"line\":{\"color\":\"white\"}},\"type\":\"table\"}],\"barpolar\":[{\"marker\":{\"line\":{\"color\":\"#E5ECF6\",\"width\":0.5},\"pattern\":{\"fillmode\":\"overlay\",\"size\":10,\"solidity\":0.2}},\"type\":\"barpolar\"}],\"pie\":[{\"automargin\":true,\"type\":\"pie\"}]},\"layout\":{\"autotypenumbers\":\"strict\",\"colorway\":[\"#636efa\",\"#EF553B\",\"#00cc96\",\"#ab63fa\",\"#FFA15A\",\"#19d3f3\",\"#FF6692\",\"#B6E880\",\"#FF97FF\",\"#FECB52\"],\"font\":{\"color\":\"#2a3f5f\"},\"hovermode\":\"closest\",\"hoverlabel\":{\"align\":\"left\"},\"paper_bgcolor\":\"white\",\"plot_bgcolor\":\"#E5ECF6\",\"polar\":{\"bgcolor\":\"#E5ECF6\",\"angularaxis\":{\"gridcolor\":\"white\",\"linecolor\":\"white\",\"ticks\":\"\"},\"radialaxis\":{\"gridcolor\":\"white\",\"linecolor\":\"white\",\"ticks\":\"\"}},\"ternary\":{\"bgcolor\":\"#E5ECF6\",\"aaxis\":{\"gridcolor\":\"white\",\"linecolor\":\"white\",\"ticks\":\"\"},\"baxis\":{\"gridcolor\":\"white\",\"linecolor\":\"white\",\"ticks\":\"\"},\"caxis\":{\"gridcolor\":\"white\",\"linecolor\":\"white\",\"ticks\":\"\"}},\"coloraxis\":{\"colorbar\":{\"outlinewidth\":0,\"ticks\":\"\"}},\"colorscale\":{\"sequential\":[[0.0,\"#0d0887\"],[0.1111111111111111,\"#46039f\"],[0.2222222222222222,\"#7201a8\"],[0.3333333333333333,\"#9c179e\"],[0.4444444444444444,\"#bd3786\"],[0.5555555555555556,\"#d8576b\"],[0.6666666666666666,\"#ed7953\"],[0.7777777777777778,\"#fb9f3a\"],[0.8888888888888888,\"#fdca26\"],[1.0,\"#f0f921\"]],\"sequentialminus\":[[0.0,\"#0d0887\"],[0.1111111111111111,\"#46039f\"],[0.2222222222222222,\"#7201a8\"],[0.3333333333333333,\"#9c179e\"],[0.4444444444444444,\"#bd3786\"],[0.5555555555555556,\"#d8576b\"],[0.6666666666666666,\"#ed7953\"],[0.7777777777777778,\"#fb9f3a\"],[0.8888888888888888,\"#fdca26\"],[1.0,\"#f0f921\"]],\"diverging\":[[0,\"#8e0152\"],[0.1,\"#c51b7d\"],[0.2,\"#de77ae\"],[0.3,\"#f1b6da\"],[0.4,\"#fde0ef\"],[0.5,\"#f7f7f7\"],[0.6,\"#e6f5d0\"],[0.7,\"#b8e186\"],[0.8,\"#7fbc41\"],[0.9,\"#4d9221\"],[1,\"#276419\"]]},\"xaxis\":{\"gridcolor\":\"white\",\"linecolor\":\"white\",\"ticks\":\"\",\"title\":{\"standoff\":15},\"zerolinecolor\":\"white\",\"automargin\":true,\"zerolinewidth\":2},\"yaxis\":{\"gridcolor\":\"white\",\"linecolor\":\"white\",\"ticks\":\"\",\"title\":{\"standoff\":15},\"zerolinecolor\":\"white\",\"automargin\":true,\"zerolinewidth\":2},\"scene\":{\"xaxis\":{\"backgroundcolor\":\"#E5ECF6\",\"gridcolor\":\"white\",\"linecolor\":\"white\",\"showbackground\":true,\"ticks\":\"\",\"zerolinecolor\":\"white\",\"gridwidth\":2},\"yaxis\":{\"backgroundcolor\":\"#E5ECF6\",\"gridcolor\":\"white\",\"linecolor\":\"white\",\"showbackground\":true,\"ticks\":\"\",\"zerolinecolor\":\"white\",\"gridwidth\":2},\"zaxis\":{\"backgroundcolor\":\"#E5ECF6\",\"gridcolor\":\"white\",\"linecolor\":\"white\",\"showbackground\":true,\"ticks\":\"\",\"zerolinecolor\":\"white\",\"gridwidth\":2}},\"shapedefaults\":{\"line\":{\"color\":\"#2a3f5f\"}},\"annotationdefaults\":{\"arrowcolor\":\"#2a3f5f\",\"arrowhead\":0,\"arrowwidth\":1},\"geo\":{\"bgcolor\":\"white\",\"landcolor\":\"#E5ECF6\",\"subunitcolor\":\"white\",\"showland\":true,\"showlakes\":true,\"lakecolor\":\"white\"},\"title\":{\"x\":0.05},\"mapbox\":{\"style\":\"light\"}}},\"geo\":{\"domain\":{\"x\":[0.0,1.0],\"y\":[0.0,1.0]},\"center\":{},\"fitbounds\":\"locations\",\"visible\":false},\"coloraxis\":{\"colorbar\":{\"title\":{\"text\":\"value\"}},\"colorscale\":[[0.0,\"#80B0DC\"],[0.5,\"#80B0DC\"],[1.0,\"#80B0DC\"]],\"showscale\":false},\"legend\":{\"tracegroupgap\":0},\"margin\":{\"t\":50,\"r\":0,\"l\":0,\"b\":0}},                        {\"responsive\": true}                    ).then(function(){\n",
       "                            \n",
       "var gd = document.getElementById('7f6059de-fe67-46dc-bdaa-4f58b486316d');\n",
       "var x = new MutationObserver(function (mutations, observer) {{\n",
       "        var display = window.getComputedStyle(gd).display;\n",
       "        if (!display || display === 'none') {{\n",
       "            console.log([gd, 'removed!']);\n",
       "            Plotly.purge(gd);\n",
       "            observer.disconnect();\n",
       "        }}\n",
       "}});\n",
       "\n",
       "// Listen for the removal of the full notebook cells\n",
       "var notebookContainer = gd.closest('#notebook-container');\n",
       "if (notebookContainer) {{\n",
       "    x.observe(notebookContainer, {childList: true});\n",
       "}}\n",
       "\n",
       "// Listen for the clearing of the current output cell\n",
       "var outputEl = gd.closest('.output');\n",
       "if (outputEl) {{\n",
       "    x.observe(outputEl, {childList: true});\n",
       "}}\n",
       "\n",
       "                        })                };                });            </script>        </div>"
      ]
     },
     "metadata": {},
     "output_type": "display_data"
    }
   ],
   "source": [
    "mapa_mun = gpd.read_file(shapefile)\n",
    "# filtrar pelo municio Alvarães\n",
    "mapa_mun = mapa_mun[mapa_mun['NM_MUN'] == 'Alvarães']\n",
    "\n",
    "mapa_mun = mapa_mun[[\"CD_MUN\", 'NM_MUN', 'SIGLA_UF',  \"geometry\"]]\n",
    "\n",
    "mapa_mun[\"geometry\"] = mapa_mun[\"geometry\"].simplify(tolerance=0.01)\n",
    "\n",
    "mapa_mun['value'] = 1\n",
    "\n",
    "\n",
    "\n",
    "fig = px.choropleth(\n",
    "    mapa_mun,\n",
    "        geojson=mapa_mun.geometry,  # Usar a geometria do shapefile\n",
    "        locations=mapa_mun.index,  # Nome da coluna do DataFrame\n",
    "        hover_name='NM_MUN',\n",
    "        hover_data={\"NM_MUN\": False,  # Mostrar nome do município\n",
    "                    \"SIGLA_UF\": False,  # Não mostrar a sigla do estado\n",
    "                    \"value\": False},\n",
    "        color='value',\n",
    "        color_continuous_scale=[\"#80B0DC\",\"#80B0DC\",\"#80B0DC\",],\n",
    "    )\n",
    "\n",
    "# Ajustar as configurações do mapa\n",
    "fig.update_geos(fitbounds=\"locations\", visible=False, )\n",
    "fig.update_layout(margin={\"r\": 0, \"t\": 50, \"l\": 0, \"b\": 0}, coloraxis_showscale=False)\n",
    "# Melhorar o hover ao remover o índice\n",
    "fig.update_traces(hovertemplate=\"<b>%{hovertext}</b><extra></extra>\")\n",
    "\n",
    "\n",
    "fig.show()"
   ]
  },
  {
   "cell_type": "code",
   "execution_count": 38,
   "metadata": {},
   "outputs": [
    {
     "name": "stderr",
     "output_type": "stream",
     "text": [
      "/home/daniel/anaconda3/lib/python3.10/site-packages/geopandas/geodataframe.py:1819: SettingWithCopyWarning:\n",
      "\n",
      "\n",
      "A value is trying to be set on a copy of a slice from a DataFrame.\n",
      "Try using .loc[row_indexer,col_indexer] = value instead\n",
      "\n",
      "See the caveats in the documentation: https://pandas.pydata.org/pandas-docs/stable/user_guide/indexing.html#returning-a-view-versus-a-copy\n",
      "\n"
     ]
    },
    {
     "ename": "ValueError",
     "evalue": "Value of 'hover_data_2' is not the name of a column in 'data_frame'. Expected one of ['SIGLA_UF', 'geometry', 'value'] but received: index\n To use the index, pass it in directly as `df.index`.",
     "output_type": "error",
     "traceback": [
      "\u001b[0;31m---------------------------------------------------------------------------\u001b[0m",
      "\u001b[0;31mValueError\u001b[0m                                Traceback (most recent call last)",
      "Cell \u001b[0;32mIn[38], line 20\u001b[0m\n\u001b[1;32m     16\u001b[0m \u001b[38;5;66;03m# Converte para GeoJSON\u001b[39;00m\n\u001b[1;32m     17\u001b[0m gdf_json \u001b[38;5;241m=\u001b[39m mapa_uf\u001b[38;5;241m.\u001b[39mto_json()\n\u001b[0;32m---> 20\u001b[0m fig \u001b[38;5;241m=\u001b[39m \u001b[43mpx\u001b[49m\u001b[38;5;241;43m.\u001b[39;49m\u001b[43mchoropleth\u001b[49m\u001b[43m(\u001b[49m\n\u001b[1;32m     21\u001b[0m \u001b[43m        \u001b[49m\u001b[43mmapa_uf\u001b[49m\u001b[43m,\u001b[49m\n\u001b[1;32m     22\u001b[0m \u001b[43m        \u001b[49m\u001b[43mgeojson\u001b[49m\u001b[38;5;241;43m=\u001b[39;49m\u001b[43mmapa_uf\u001b[49m\u001b[38;5;241;43m.\u001b[39;49m\u001b[43mgeometry\u001b[49m\u001b[43m,\u001b[49m\u001b[43m  \u001b[49m\u001b[38;5;66;43;03m# Usar a geometria do shapefile\u001b[39;49;00m\n\u001b[1;32m     23\u001b[0m \u001b[43m        \u001b[49m\u001b[43mlocations\u001b[49m\u001b[38;5;241;43m=\u001b[39;49m\u001b[43mmapa_uf\u001b[49m\u001b[38;5;241;43m.\u001b[39;49m\u001b[43mindex\u001b[49m\u001b[43m,\u001b[49m\u001b[43m  \u001b[49m\u001b[38;5;66;43;03m# Nome da coluna do DataFrame\u001b[39;49;00m\n\u001b[1;32m     24\u001b[0m \u001b[43m        \u001b[49m\u001b[43mhover_name\u001b[49m\u001b[38;5;241;43m=\u001b[39;49m\u001b[38;5;124;43m'\u001b[39;49m\u001b[38;5;124;43mSIGLA_UF\u001b[39;49m\u001b[38;5;124;43m'\u001b[39;49m\u001b[43m,\u001b[49m\n\u001b[1;32m     25\u001b[0m \u001b[43m        \u001b[49m\u001b[43mtitle\u001b[49m\u001b[38;5;241;43m=\u001b[39;49m\u001b[38;5;124;43mf\u001b[39;49m\u001b[38;5;124;43m\"\u001b[39;49m\u001b[38;5;124;43mAtendimentos de por Estado no Brasil - 2023\u001b[39;49m\u001b[38;5;124;43m\"\u001b[39;49m\u001b[43m,\u001b[49m\n\u001b[1;32m     26\u001b[0m \u001b[43m        \u001b[49m\u001b[43mhover_data\u001b[49m\u001b[38;5;241;43m=\u001b[39;49m\u001b[43m{\u001b[49m\u001b[38;5;124;43m\"\u001b[39;49m\u001b[38;5;124;43mSIGLA_UF\u001b[39;49m\u001b[38;5;124;43m\"\u001b[39;49m\u001b[43m:\u001b[49m\u001b[43m \u001b[49m\u001b[38;5;28;43;01mFalse\u001b[39;49;00m\u001b[43m,\u001b[49m\u001b[43m \u001b[49m\u001b[38;5;124;43m\"\u001b[39;49m\u001b[38;5;124;43mvalue\u001b[39;49m\u001b[38;5;124;43m\"\u001b[39;49m\u001b[43m:\u001b[49m\u001b[43m \u001b[49m\u001b[38;5;28;43;01mFalse\u001b[39;49;00m\u001b[43m,\u001b[49m\u001b[43m \u001b[49m\u001b[38;5;124;43m'\u001b[39;49m\u001b[38;5;124;43mindex\u001b[39;49m\u001b[38;5;124;43m'\u001b[39;49m\u001b[43m:\u001b[49m\u001b[43m \u001b[49m\u001b[38;5;28;43;01mFalse\u001b[39;49;00m\u001b[43m}\u001b[49m\u001b[43m,\u001b[49m\n\u001b[1;32m     27\u001b[0m \u001b[43m        \u001b[49m\u001b[43mcolor\u001b[49m\u001b[38;5;241;43m=\u001b[39;49m\u001b[38;5;124;43m'\u001b[39;49m\u001b[38;5;124;43mvalue\u001b[39;49m\u001b[38;5;124;43m'\u001b[39;49m\u001b[43m,\u001b[49m\n\u001b[1;32m     28\u001b[0m \u001b[43m        \u001b[49m\u001b[43mcolor_continuous_scale\u001b[49m\u001b[38;5;241;43m=\u001b[39;49m\u001b[43m[\u001b[49m\u001b[38;5;124;43m\"\u001b[39;49m\u001b[38;5;124;43m#B36CA3\u001b[39;49m\u001b[38;5;124;43m\"\u001b[39;49m\u001b[43m,\u001b[49m\u001b[38;5;124;43m\"\u001b[39;49m\u001b[38;5;124;43m#B36CA3\u001b[39;49m\u001b[38;5;124;43m\"\u001b[39;49m\u001b[43m,\u001b[49m\u001b[38;5;124;43m\"\u001b[39;49m\u001b[38;5;124;43m#B36CA3\u001b[39;49m\u001b[38;5;124;43m\"\u001b[39;49m\u001b[43m,\u001b[49m\u001b[43m]\u001b[49m\u001b[43m,\u001b[49m\n\u001b[1;32m     29\u001b[0m \u001b[43m    \u001b[49m\u001b[43m)\u001b[49m\n\u001b[1;32m     31\u001b[0m \u001b[38;5;66;03m# Ajustar as configurações do mapa\u001b[39;00m\n\u001b[1;32m     32\u001b[0m fig\u001b[38;5;241m.\u001b[39mupdate_geos(fitbounds\u001b[38;5;241m=\u001b[39m\u001b[38;5;124m\"\u001b[39m\u001b[38;5;124mlocations\u001b[39m\u001b[38;5;124m\"\u001b[39m, visible\u001b[38;5;241m=\u001b[39m\u001b[38;5;28;01mFalse\u001b[39;00m, )\n",
      "File \u001b[0;32m~/anaconda3/lib/python3.10/site-packages/plotly/express/_chart_types.py:1091\u001b[0m, in \u001b[0;36mchoropleth\u001b[0;34m(data_frame, lat, lon, locations, locationmode, geojson, featureidkey, color, facet_row, facet_col, facet_col_wrap, facet_row_spacing, facet_col_spacing, hover_name, hover_data, custom_data, animation_frame, animation_group, category_orders, labels, color_discrete_sequence, color_discrete_map, color_continuous_scale, range_color, color_continuous_midpoint, projection, scope, center, fitbounds, basemap_visible, title, template, width, height)\u001b[0m\n\u001b[1;32m   1051\u001b[0m \u001b[38;5;28;01mdef\u001b[39;00m \u001b[38;5;21mchoropleth\u001b[39m(\n\u001b[1;32m   1052\u001b[0m     data_frame\u001b[38;5;241m=\u001b[39m\u001b[38;5;28;01mNone\u001b[39;00m,\n\u001b[1;32m   1053\u001b[0m     lat\u001b[38;5;241m=\u001b[39m\u001b[38;5;28;01mNone\u001b[39;00m,\n\u001b[0;32m   (...)\u001b[0m\n\u001b[1;32m   1085\u001b[0m     height\u001b[38;5;241m=\u001b[39m\u001b[38;5;28;01mNone\u001b[39;00m,\n\u001b[1;32m   1086\u001b[0m ) \u001b[38;5;241m-\u001b[39m\u001b[38;5;241m>\u001b[39m go\u001b[38;5;241m.\u001b[39mFigure:\n\u001b[1;32m   1087\u001b[0m \u001b[38;5;250m    \u001b[39m\u001b[38;5;124;03m\"\"\"\u001b[39;00m\n\u001b[1;32m   1088\u001b[0m \u001b[38;5;124;03m    In a choropleth map, each row of `data_frame` is represented by a\u001b[39;00m\n\u001b[1;32m   1089\u001b[0m \u001b[38;5;124;03m    colored region mark on a map.\u001b[39;00m\n\u001b[1;32m   1090\u001b[0m \u001b[38;5;124;03m    \"\"\"\u001b[39;00m\n\u001b[0;32m-> 1091\u001b[0m     \u001b[38;5;28;01mreturn\u001b[39;00m \u001b[43mmake_figure\u001b[49m\u001b[43m(\u001b[49m\n\u001b[1;32m   1092\u001b[0m \u001b[43m        \u001b[49m\u001b[43margs\u001b[49m\u001b[38;5;241;43m=\u001b[39;49m\u001b[38;5;28;43mlocals\u001b[39;49m\u001b[43m(\u001b[49m\u001b[43m)\u001b[49m\u001b[43m,\u001b[49m\n\u001b[1;32m   1093\u001b[0m \u001b[43m        \u001b[49m\u001b[43mconstructor\u001b[49m\u001b[38;5;241;43m=\u001b[39;49m\u001b[43mgo\u001b[49m\u001b[38;5;241;43m.\u001b[39;49m\u001b[43mChoropleth\u001b[49m\u001b[43m,\u001b[49m\n\u001b[1;32m   1094\u001b[0m \u001b[43m        \u001b[49m\u001b[43mtrace_patch\u001b[49m\u001b[38;5;241;43m=\u001b[39;49m\u001b[38;5;28;43mdict\u001b[39;49m\u001b[43m(\u001b[49m\u001b[43mlocationmode\u001b[49m\u001b[38;5;241;43m=\u001b[39;49m\u001b[43mlocationmode\u001b[49m\u001b[43m)\u001b[49m\u001b[43m,\u001b[49m\n\u001b[1;32m   1095\u001b[0m \u001b[43m    \u001b[49m\u001b[43m)\u001b[49m\n",
      "File \u001b[0;32m~/anaconda3/lib/python3.10/site-packages/plotly/express/_core.py:2090\u001b[0m, in \u001b[0;36mmake_figure\u001b[0;34m(args, constructor, trace_patch, layout_patch)\u001b[0m\n\u001b[1;32m   2087\u001b[0m layout_patch \u001b[38;5;241m=\u001b[39m layout_patch \u001b[38;5;129;01mor\u001b[39;00m {}\n\u001b[1;32m   2088\u001b[0m apply_default_cascade(args)\n\u001b[0;32m-> 2090\u001b[0m args \u001b[38;5;241m=\u001b[39m \u001b[43mbuild_dataframe\u001b[49m\u001b[43m(\u001b[49m\u001b[43margs\u001b[49m\u001b[43m,\u001b[49m\u001b[43m \u001b[49m\u001b[43mconstructor\u001b[49m\u001b[43m)\u001b[49m\n\u001b[1;32m   2091\u001b[0m \u001b[38;5;28;01mif\u001b[39;00m constructor \u001b[38;5;129;01min\u001b[39;00m [go\u001b[38;5;241m.\u001b[39mTreemap, go\u001b[38;5;241m.\u001b[39mSunburst, go\u001b[38;5;241m.\u001b[39mIcicle] \u001b[38;5;129;01mand\u001b[39;00m args[\u001b[38;5;124m\"\u001b[39m\u001b[38;5;124mpath\u001b[39m\u001b[38;5;124m\"\u001b[39m] \u001b[38;5;129;01mis\u001b[39;00m \u001b[38;5;129;01mnot\u001b[39;00m \u001b[38;5;28;01mNone\u001b[39;00m:\n\u001b[1;32m   2092\u001b[0m     args \u001b[38;5;241m=\u001b[39m process_dataframe_hierarchy(args)\n",
      "File \u001b[0;32m~/anaconda3/lib/python3.10/site-packages/plotly/express/_core.py:1492\u001b[0m, in \u001b[0;36mbuild_dataframe\u001b[0;34m(args, constructor)\u001b[0m\n\u001b[1;32m   1489\u001b[0m     args[\u001b[38;5;124m\"\u001b[39m\u001b[38;5;124mcolor\u001b[39m\u001b[38;5;124m\"\u001b[39m] \u001b[38;5;241m=\u001b[39m \u001b[38;5;28;01mNone\u001b[39;00m\n\u001b[1;32m   1490\u001b[0m \u001b[38;5;66;03m# now that things have been prepped, we do the systematic rewriting of `args`\u001b[39;00m\n\u001b[0;32m-> 1492\u001b[0m df_output, wide_id_vars \u001b[38;5;241m=\u001b[39m \u001b[43mprocess_args_into_dataframe\u001b[49m\u001b[43m(\u001b[49m\n\u001b[1;32m   1493\u001b[0m \u001b[43m    \u001b[49m\u001b[43margs\u001b[49m\u001b[43m,\u001b[49m\u001b[43m \u001b[49m\u001b[43mwide_mode\u001b[49m\u001b[43m,\u001b[49m\u001b[43m \u001b[49m\u001b[43mvar_name\u001b[49m\u001b[43m,\u001b[49m\u001b[43m \u001b[49m\u001b[43mvalue_name\u001b[49m\n\u001b[1;32m   1494\u001b[0m \u001b[43m\u001b[49m\u001b[43m)\u001b[49m\n\u001b[1;32m   1496\u001b[0m \u001b[38;5;66;03m# now that `df_output` exists and `args` contains only references, we complete\u001b[39;00m\n\u001b[1;32m   1497\u001b[0m \u001b[38;5;66;03m# the special-case and wide-mode handling by further rewriting args and/or mutating\u001b[39;00m\n\u001b[1;32m   1498\u001b[0m \u001b[38;5;66;03m# df_output\u001b[39;00m\n\u001b[1;32m   1500\u001b[0m count_name \u001b[38;5;241m=\u001b[39m _escape_col_name(df_output, \u001b[38;5;124m\"\u001b[39m\u001b[38;5;124mcount\u001b[39m\u001b[38;5;124m\"\u001b[39m, [var_name, value_name])\n",
      "File \u001b[0;32m~/anaconda3/lib/python3.10/site-packages/plotly/express/_core.py:1213\u001b[0m, in \u001b[0;36mprocess_args_into_dataframe\u001b[0;34m(args, wide_mode, var_name, value_name)\u001b[0m\n\u001b[1;32m   1211\u001b[0m         \u001b[38;5;28;01mif\u001b[39;00m argument \u001b[38;5;241m==\u001b[39m \u001b[38;5;124m\"\u001b[39m\u001b[38;5;124mindex\u001b[39m\u001b[38;5;124m\"\u001b[39m:\n\u001b[1;32m   1212\u001b[0m             err_msg \u001b[38;5;241m+\u001b[39m\u001b[38;5;241m=\u001b[39m \u001b[38;5;124m\"\u001b[39m\u001b[38;5;130;01m\\n\u001b[39;00m\u001b[38;5;124m To use the index, pass it in directly as `df.index`.\u001b[39m\u001b[38;5;124m\"\u001b[39m\n\u001b[0;32m-> 1213\u001b[0m         \u001b[38;5;28;01mraise\u001b[39;00m \u001b[38;5;167;01mValueError\u001b[39;00m(err_msg)\n\u001b[1;32m   1214\u001b[0m \u001b[38;5;28;01melif\u001b[39;00m length \u001b[38;5;129;01mand\u001b[39;00m \u001b[38;5;28mlen\u001b[39m(df_input[argument]) \u001b[38;5;241m!=\u001b[39m length:\n\u001b[1;32m   1215\u001b[0m     \u001b[38;5;28;01mraise\u001b[39;00m \u001b[38;5;167;01mValueError\u001b[39;00m(\n\u001b[1;32m   1216\u001b[0m         \u001b[38;5;124m\"\u001b[39m\u001b[38;5;124mAll arguments should have the same length. \u001b[39m\u001b[38;5;124m\"\u001b[39m\n\u001b[1;32m   1217\u001b[0m         \u001b[38;5;124m\"\u001b[39m\u001b[38;5;124mThe length of column argument `df[\u001b[39m\u001b[38;5;132;01m%s\u001b[39;00m\u001b[38;5;124m]` is \u001b[39m\u001b[38;5;132;01m%d\u001b[39;00m\u001b[38;5;124m, whereas the \u001b[39m\u001b[38;5;124m\"\u001b[39m\n\u001b[0;32m   (...)\u001b[0m\n\u001b[1;32m   1224\u001b[0m         )\n\u001b[1;32m   1225\u001b[0m     )\n",
      "\u001b[0;31mValueError\u001b[0m: Value of 'hover_data_2' is not the name of a column in 'data_frame'. Expected one of ['SIGLA_UF', 'geometry', 'value'] but received: index\n To use the index, pass it in directly as `df.index`."
     ]
    }
   ],
   "source": [
    "import geopandas as gpd\n",
    "import plotly.express as px\n",
    "\n",
    "# shapefile_uf = \"../mapas/BR_UF_2022/BR_UF_2022.shp\"\n",
    "\n",
    "#pegar o caminho do arquivo\n",
    "\n",
    "\n",
    "\n",
    "shapefile_uf = \"mapas/Estados/BR_UF_2022.shp\"\n",
    "brasil_estados = gpd.read_file(shapefile)\n",
    "\n",
    "\n",
    "mapa_uf = brasil_estados[[\"SIGLA_UF\", \"geometry\"]]\n",
    "\n",
    "mapa_uf[\"geometry\"] = brasil_estados[\"geometry\"].simplify(tolerance=0.01)\n",
    "\n",
    "# gerar um valor aleatório para cada estado\n",
    "import random\n",
    "mapa_uf['value'] = 1\n",
    "\n",
    "# Converte para GeoJSON\n",
    "gdf_json = mapa_uf.to_json()\n",
    "\n",
    "\n",
    "fig = px.choropleth(\n",
    "        mapa_uf,\n",
    "        geojson=mapa_uf.geometry,  # Usar a geometria do shapefile\n",
    "        locations=mapa_uf.index,  # Nome da coluna do DataFrame\n",
    "        hover_name='SIGLA_UF',\n",
    "        title=f\"Atendimentos de por Estado no Brasil - 2023\",\n",
    "        hover_data={\"SIGLA_UF\": False, \"value\": False, 'index': False},\n",
    "        color='value',\n",
    "        color_continuous_scale=[\"#B36CA3\",\"#B36CA3\",\"#B36CA3\",],\n",
    "    )\n",
    "\n",
    "# Ajustar as configurações do mapa\n",
    "fig.update_geos(fitbounds=\"locations\", visible=False, )\n",
    "fig.update_layout(margin={\"r\": 0, \"t\": 50, \"l\": 0, \"b\": 0}, coloraxis_showscale=False)\n",
    "\n",
    "\n",
    "fig.show()"
   ]
  },
  {
   "cell_type": "code",
   "execution_count": 23,
   "metadata": {},
   "outputs": [
    {
     "data": {
      "text/plain": [
       "{0: 'AC',\n",
       " 1: 'AM',\n",
       " 2: 'PA',\n",
       " 3: 'AP',\n",
       " 4: 'TO',\n",
       " 5: 'MA',\n",
       " 6: 'PI',\n",
       " 7: 'CE',\n",
       " 8: 'RN',\n",
       " 9: 'PB',\n",
       " 10: 'PE',\n",
       " 11: 'AL',\n",
       " 12: 'SE',\n",
       " 13: 'BA',\n",
       " 14: 'MG',\n",
       " 15: 'ES',\n",
       " 16: 'RJ',\n",
       " 17: 'SP',\n",
       " 18: 'PR',\n",
       " 19: 'SC',\n",
       " 20: 'RS',\n",
       " 21: 'MS',\n",
       " 22: 'MT',\n",
       " 23: 'GO',\n",
       " 24: 'DF',\n",
       " 25: 'RO',\n",
       " 26: 'RR'}"
      ]
     },
     "execution_count": 23,
     "metadata": {},
     "output_type": "execute_result"
    }
   ],
   "source": [
    "# criar uma lista com os estados e os indices do dataframe\n",
    "estados = mapa_uf['SIGLA_UF'].tolist()\n",
    "indices = mapa_uf.index.tolist()\n",
    "\n",
    "# criar um dicionário com os estados e os indices\n",
    "estados_indices = dict(zip(indices, estados))\n",
    "estados_indices"
   ]
  },
  {
   "cell_type": "code",
   "execution_count": 4,
   "metadata": {},
   "outputs": [],
   "source": [
    "# Mapeamento dos meses para seus números correspondentes\n",
    "mes_map = {\n",
    "    \"JAN\": 1,\n",
    "    \"FEV\": 2,\n",
    "    \"MAR\": 3,\n",
    "    \"ABR\": 4,\n",
    "    \"MAI\": 5,\n",
    "    \"JUN\": 6,\n",
    "    \"JUL\": 7,\n",
    "    \"AGO\": 8,\n",
    "    \"SET\": 9,\n",
    "    \"OUT\": 10,\n",
    "    \"NOV\": 11,\n",
    "    \"DEZ\": 12,\n",
    "}\n",
    "# Mapeamento dos meses para seus trimestres correspondentes\n",
    "trimestre_map = {\n",
    "    \"JAN\": \"T1\",\n",
    "    \"FEV\": \"T1\",\n",
    "    \"MAR\": \"T1\",\n",
    "    \"ABR\": \"T2\",\n",
    "    \"MAI\": \"T2\",\n",
    "    \"JUN\": \"T2\",\n",
    "    \"JUL\": \"T3\",\n",
    "    \"AGO\": \"T3\",\n",
    "    \"SET\": \"T3\",\n",
    "    \"OUT\": \"T4\",\n",
    "    \"NOV\": \"T4\",\n",
    "    \"DEZ\": \"T4\",\n",
    "}\n",
    "\n",
    "trimestre_map_num = {\n",
    "    1 : \"T1\",\n",
    "    2 : \"T1\",\n",
    "    3 : \"T1\",\n",
    "    4 : \"T2\",\n",
    "    5 : \"T2\",\n",
    "    6 : \"T2\",\n",
    "    7 : \"T3\",\n",
    "    8 : \"T3\",\n",
    "    9 : \"T3\",\n",
    "    10 : \"T4\",\n",
    "    11 : \"T4\",\n",
    "    12 : \"T4\",\n",
    "}\n",
    "\n",
    "def update_layout_chart(chart, title, type):\n",
    "    # Para atualizar o layout do gráfico\n",
    "    #    chart -> o gráfico que vamos alterar\n",
    "    #    title -> string com o nome que deve aparecer no label do gráfico\n",
    "    #    type -> string para saber em qual agregação estamos ['brasil', 'estado', 'regiao_saude', 'municipio']\n",
    "    # retorna o gráfico atualizado\n",
    "\n",
    "    color = type_color_map.get(type, [None])[1]\n",
    "\n",
    "    chart.update_traces(\n",
    "        textposition=\"outside\",\n",
    "        marker_color=color,\n",
    "        hoverlabel=dict(bgcolor=\"#FFFFFF\", font_color=\"#343A40\", font_size=12),\n",
    "        hovertemplate=f\"<b>%{{y:,.0f}}</b><br>{title} em %{{x}}<extra></extra>\",\n",
    "    )\n",
    "\n",
    "    chart.update_layout(\n",
    "        xaxis_title=None,\n",
    "        yaxis_title=None,\n",
    "        plot_bgcolor=\"#FFFFFF\",\n",
    "        yaxis=dict(showticklabels=False),\n",
    "        margin=dict(l=35, r=35, t=60, b=40),\n",
    "    )\n",
    "\n",
    "    return chart\n",
    "\n",
    "def get_df_atendimentos(json_data, populacao=None):\n",
    "    \"\"\"Função para transformar um json de atendimento em um df que será utilizado para gerar os gráficos\"\"\"\n",
    "    # Para transformar um json de atendimento em um df que será utilizado para gerar os gráficos\n",
    "    #    json_data -> json que contem os dados de atendimento\n",
    "    # retorna o df\n",
    "    dados = []\n",
    "\n",
    "    # Iterar sobre os diferentes tipos (enfermeiro, médico, etc.)\n",
    "    for profissional, anos in json_data.items():\n",
    "        # Iterar sobre os anos (2013, 2014, etc.)\n",
    "        for ano, meses in anos.items():\n",
    "            # Iterar sobre os meses e seus valores\n",
    "            for mes, valor in meses.items():\n",
    "                # Adicionar uma linha para cada entrada\n",
    "                dados.append(\n",
    "                    [\n",
    "                        profissional,\n",
    "                        int(ano),\n",
    "                        trimestre_map[mes],\n",
    "                        mes_map[mes],\n",
    "                        valor,\n",
    "                    ]\n",
    "                )\n",
    "\n",
    "    # Criar o DataFrame com as colunas: profissional, ano, mês, valor\n",
    "    df = pd.DataFrame(\n",
    "        dados, columns=[\"profissional\", \"ano\", \"trimestre\", \"mes\", \"valor\"]\n",
    "    )\n",
    "    # df['trimestre'] = df['mes'].apply(calcular_trimestre)\n",
    "    df[\"ano_mes\"] = df[\"mes\"].astype(str) + \"/\" + df[\"ano\"].astype(str)\n",
    "    df[\"ano_trimestre\"] = (\n",
    "        df[\"trimestre\"].astype(str) + \"/\" + df[\"ano\"].astype(str)\n",
    "    )\n",
    "\n",
    "    # normalizar valores pelo total da população (1000 habitantes)\n",
    "    if populacao is not None:\n",
    "        populacao = populacao / 1000\n",
    "        df[\"valor\"] = df[\"valor\"] / populacao\n",
    "        df[\"valor\"] = df[\"valor\"].astype(int)\n",
    "\n",
    "    return df\n",
    "\n",
    "def get_atendimentos(estado, cidade):\n",
    "    \"\"\"Função para obter os dados de atendimentos\"\"\"\n",
    "    url = \"https://dash-saude-mongo.elsvital.dev/api/v1/atendimentos\"\n",
    "    if estado is not None:\n",
    "        url = f\"https://dash-saude-mongo.elsvital.dev/api/v1/atendimentos/states/{estado}\"\n",
    "    if cidade is not None:\n",
    "        ibge_code = get_ibge_code(estado, cidade)\n",
    "        url = f\"https://dash-saude-mongo.elsvital.dev/api/v1/atendimentos/cities/{ibge_code}\"\n",
    "\n",
    "    print(\"Fazendo request para:\", url)\n",
    "\n",
    "    headers = {\"accept\": \"application/json\"}\n",
    "\n",
    "    response = requests.get(url, headers=headers)\n",
    "\n",
    "    if response.status_code == 200:\n",
    "        return response.json()\n",
    "    else:\n",
    "        print(response.status_code)\n",
    "        print(response.text)\n",
    "        return None\n",
    "\n",
    "type_color_map = {\n",
    "    \"brasil\": [\"#B36CA3\", \"#632956\", \"#3B032F\"],\n",
    "    \"estado\": [\"#80B0DC\", \"#34679A\", \"#11173F\"],\n",
    "    \"regiao_saude\": [\"#97C471\", \"#2B7B6F\", \"#11302B\"],\n",
    "    \"municipio\": [\"#FFC20D\", \"#F7941C\", \"#A7620E\"],\n",
    "}"
   ]
  },
  {
   "cell_type": "code",
   "execution_count": 9,
   "metadata": {},
   "outputs": [
    {
     "name": "stdout",
     "output_type": "stream",
     "text": [
      "Fazendo request para: https://dash-saude-mongo.elsvital.dev/api/v1/atendimentos\n"
     ]
    }
   ],
   "source": [
    "import requests\n",
    "import pandas as pd\n",
    "import plotly.express as px\n",
    "\n",
    "def get_chart_by_quarter(df, title, type):\n",
    "    # Retorna o gráfico de barras com o total acumulado dos últimos 6 trimestres de dados\n",
    "    #    df -> dados para gerar o gráfico que deve conter ['ano_trimestre', 'ano', 'trimestre', 'valor']\n",
    "    #    title -> string com o nome que deve aparecer no label do gráfico\n",
    "    #    type -> string para saber em qual agregação estamos ['brasil', 'estado', 'regiao_saude', 'municipio']\n",
    "    # retorna o gráfico gerado\n",
    "\n",
    "    # Agrupar os dados por ano e quarter somando os valores\n",
    "    df_grouped = (\n",
    "        df.groupby([\"ano_trimestre\", \"ano\", \"trimestre\"], observed=True)[\n",
    "            \"valor\"\n",
    "        ]\n",
    "        .sum()\n",
    "        .reset_index()\n",
    "    )\n",
    "    df_grouped[\"ano_order\"] = df_grouped[\"ano\"].astype(str) + df_grouped[\n",
    "        \"trimestre\"\n",
    "    ].astype(str).str.replace(\"T\", \"\")\n",
    "    df_grouped = df_grouped.sort_values(\"ano_order\")\n",
    "    df_filtered = df_grouped.tail(12)\n",
    "\n",
    "    # Criar gráfico de barras\n",
    "    chart = px.bar(\n",
    "        df_filtered,\n",
    "        x=\"ano_trimestre\",\n",
    "        y=\"valor\",\n",
    "        text_auto=\".2s\",\n",
    "        title=f\"{title.capitalize()} por Trimestre\",\n",
    "    )\n",
    "\n",
    "    # Atualizar para o layout padrão\n",
    "    chart = update_layout_chart(chart, title, type)\n",
    "\n",
    "\n",
    "    return chart\n",
    "\n",
    "atendimentos = get_atendimentos(None, None)\n",
    "df = get_df_atendimentos(atendimentos)\n",
    "chart = get_chart_by_quarter(df, 'Atendimentos', 'brasil')"
   ]
  },
  {
   "cell_type": "code",
   "execution_count": 103,
   "metadata": {},
   "outputs": [
    {
     "data": {
      "application/vnd.plotly.v1+json": {
       "config": {
        "plotlyServerURL": "https://plot.ly"
       },
       "data": [
        {
         "alignmentgroup": "True",
         "hoverlabel": {
          "bgcolor": "#FFFFFF",
          "font": {
           "color": "#343A40",
           "size": 12
          }
         },
         "hovertemplate": "<b>%{y:,.0f}</b><br> em %{x}<extra></extra>",
         "legendgroup": "",
         "marker": {
          "color": "#632956",
          "pattern": {
           "shape": ""
          }
         },
         "name": "",
         "offsetgroup": "",
         "orientation": "v",
         "showlegend": false,
         "textposition": "outside",
         "texttemplate": "%{y:.2s}",
         "type": "bar",
         "x": [
          "T4/2021",
          "T1/2022",
          "T2/2022",
          "T3/2022",
          "T4/2022",
          "T1/2023",
          "T2/2023",
          "T3/2023",
          "T4/2023",
          "T1/2024",
          "T2/2024",
          "T3/2024"
         ],
         "xaxis": "x",
         "y": [
          59877085,
          66663425,
          72487341,
          78582799,
          72116756,
          78798294,
          87688978,
          88413648,
          82196154,
          84369588,
          95275638,
          30187772
         ],
         "yaxis": "y"
        }
       ],
       "layout": {
        "barmode": "relative",
        "legend": {
         "tracegroupgap": 0
        },
        "margin": {
         "b": 40,
         "l": 35,
         "r": 35,
         "t": 60
        },
        "plot_bgcolor": "#FFFFFF",
        "template": {
         "data": {
          "bar": [
           {
            "error_x": {
             "color": "#2a3f5f"
            },
            "error_y": {
             "color": "#2a3f5f"
            },
            "marker": {
             "line": {
              "color": "#E5ECF6",
              "width": 0.5
             },
             "pattern": {
              "fillmode": "overlay",
              "size": 10,
              "solidity": 0.2
             }
            },
            "type": "bar"
           }
          ],
          "barpolar": [
           {
            "marker": {
             "line": {
              "color": "#E5ECF6",
              "width": 0.5
             },
             "pattern": {
              "fillmode": "overlay",
              "size": 10,
              "solidity": 0.2
             }
            },
            "type": "barpolar"
           }
          ],
          "carpet": [
           {
            "aaxis": {
             "endlinecolor": "#2a3f5f",
             "gridcolor": "white",
             "linecolor": "white",
             "minorgridcolor": "white",
             "startlinecolor": "#2a3f5f"
            },
            "baxis": {
             "endlinecolor": "#2a3f5f",
             "gridcolor": "white",
             "linecolor": "white",
             "minorgridcolor": "white",
             "startlinecolor": "#2a3f5f"
            },
            "type": "carpet"
           }
          ],
          "choropleth": [
           {
            "colorbar": {
             "outlinewidth": 0,
             "ticks": ""
            },
            "type": "choropleth"
           }
          ],
          "contour": [
           {
            "colorbar": {
             "outlinewidth": 0,
             "ticks": ""
            },
            "colorscale": [
             [
              0,
              "#0d0887"
             ],
             [
              0.1111111111111111,
              "#46039f"
             ],
             [
              0.2222222222222222,
              "#7201a8"
             ],
             [
              0.3333333333333333,
              "#9c179e"
             ],
             [
              0.4444444444444444,
              "#bd3786"
             ],
             [
              0.5555555555555556,
              "#d8576b"
             ],
             [
              0.6666666666666666,
              "#ed7953"
             ],
             [
              0.7777777777777778,
              "#fb9f3a"
             ],
             [
              0.8888888888888888,
              "#fdca26"
             ],
             [
              1,
              "#f0f921"
             ]
            ],
            "type": "contour"
           }
          ],
          "contourcarpet": [
           {
            "colorbar": {
             "outlinewidth": 0,
             "ticks": ""
            },
            "type": "contourcarpet"
           }
          ],
          "heatmap": [
           {
            "colorbar": {
             "outlinewidth": 0,
             "ticks": ""
            },
            "colorscale": [
             [
              0,
              "#0d0887"
             ],
             [
              0.1111111111111111,
              "#46039f"
             ],
             [
              0.2222222222222222,
              "#7201a8"
             ],
             [
              0.3333333333333333,
              "#9c179e"
             ],
             [
              0.4444444444444444,
              "#bd3786"
             ],
             [
              0.5555555555555556,
              "#d8576b"
             ],
             [
              0.6666666666666666,
              "#ed7953"
             ],
             [
              0.7777777777777778,
              "#fb9f3a"
             ],
             [
              0.8888888888888888,
              "#fdca26"
             ],
             [
              1,
              "#f0f921"
             ]
            ],
            "type": "heatmap"
           }
          ],
          "heatmapgl": [
           {
            "colorbar": {
             "outlinewidth": 0,
             "ticks": ""
            },
            "colorscale": [
             [
              0,
              "#0d0887"
             ],
             [
              0.1111111111111111,
              "#46039f"
             ],
             [
              0.2222222222222222,
              "#7201a8"
             ],
             [
              0.3333333333333333,
              "#9c179e"
             ],
             [
              0.4444444444444444,
              "#bd3786"
             ],
             [
              0.5555555555555556,
              "#d8576b"
             ],
             [
              0.6666666666666666,
              "#ed7953"
             ],
             [
              0.7777777777777778,
              "#fb9f3a"
             ],
             [
              0.8888888888888888,
              "#fdca26"
             ],
             [
              1,
              "#f0f921"
             ]
            ],
            "type": "heatmapgl"
           }
          ],
          "histogram": [
           {
            "marker": {
             "pattern": {
              "fillmode": "overlay",
              "size": 10,
              "solidity": 0.2
             }
            },
            "type": "histogram"
           }
          ],
          "histogram2d": [
           {
            "colorbar": {
             "outlinewidth": 0,
             "ticks": ""
            },
            "colorscale": [
             [
              0,
              "#0d0887"
             ],
             [
              0.1111111111111111,
              "#46039f"
             ],
             [
              0.2222222222222222,
              "#7201a8"
             ],
             [
              0.3333333333333333,
              "#9c179e"
             ],
             [
              0.4444444444444444,
              "#bd3786"
             ],
             [
              0.5555555555555556,
              "#d8576b"
             ],
             [
              0.6666666666666666,
              "#ed7953"
             ],
             [
              0.7777777777777778,
              "#fb9f3a"
             ],
             [
              0.8888888888888888,
              "#fdca26"
             ],
             [
              1,
              "#f0f921"
             ]
            ],
            "type": "histogram2d"
           }
          ],
          "histogram2dcontour": [
           {
            "colorbar": {
             "outlinewidth": 0,
             "ticks": ""
            },
            "colorscale": [
             [
              0,
              "#0d0887"
             ],
             [
              0.1111111111111111,
              "#46039f"
             ],
             [
              0.2222222222222222,
              "#7201a8"
             ],
             [
              0.3333333333333333,
              "#9c179e"
             ],
             [
              0.4444444444444444,
              "#bd3786"
             ],
             [
              0.5555555555555556,
              "#d8576b"
             ],
             [
              0.6666666666666666,
              "#ed7953"
             ],
             [
              0.7777777777777778,
              "#fb9f3a"
             ],
             [
              0.8888888888888888,
              "#fdca26"
             ],
             [
              1,
              "#f0f921"
             ]
            ],
            "type": "histogram2dcontour"
           }
          ],
          "mesh3d": [
           {
            "colorbar": {
             "outlinewidth": 0,
             "ticks": ""
            },
            "type": "mesh3d"
           }
          ],
          "parcoords": [
           {
            "line": {
             "colorbar": {
              "outlinewidth": 0,
              "ticks": ""
             }
            },
            "type": "parcoords"
           }
          ],
          "pie": [
           {
            "automargin": true,
            "type": "pie"
           }
          ],
          "scatter": [
           {
            "fillpattern": {
             "fillmode": "overlay",
             "size": 10,
             "solidity": 0.2
            },
            "type": "scatter"
           }
          ],
          "scatter3d": [
           {
            "line": {
             "colorbar": {
              "outlinewidth": 0,
              "ticks": ""
             }
            },
            "marker": {
             "colorbar": {
              "outlinewidth": 0,
              "ticks": ""
             }
            },
            "type": "scatter3d"
           }
          ],
          "scattercarpet": [
           {
            "marker": {
             "colorbar": {
              "outlinewidth": 0,
              "ticks": ""
             }
            },
            "type": "scattercarpet"
           }
          ],
          "scattergeo": [
           {
            "marker": {
             "colorbar": {
              "outlinewidth": 0,
              "ticks": ""
             }
            },
            "type": "scattergeo"
           }
          ],
          "scattergl": [
           {
            "marker": {
             "colorbar": {
              "outlinewidth": 0,
              "ticks": ""
             }
            },
            "type": "scattergl"
           }
          ],
          "scattermapbox": [
           {
            "marker": {
             "colorbar": {
              "outlinewidth": 0,
              "ticks": ""
             }
            },
            "type": "scattermapbox"
           }
          ],
          "scatterpolar": [
           {
            "marker": {
             "colorbar": {
              "outlinewidth": 0,
              "ticks": ""
             }
            },
            "type": "scatterpolar"
           }
          ],
          "scatterpolargl": [
           {
            "marker": {
             "colorbar": {
              "outlinewidth": 0,
              "ticks": ""
             }
            },
            "type": "scatterpolargl"
           }
          ],
          "scatterternary": [
           {
            "marker": {
             "colorbar": {
              "outlinewidth": 0,
              "ticks": ""
             }
            },
            "type": "scatterternary"
           }
          ],
          "surface": [
           {
            "colorbar": {
             "outlinewidth": 0,
             "ticks": ""
            },
            "colorscale": [
             [
              0,
              "#0d0887"
             ],
             [
              0.1111111111111111,
              "#46039f"
             ],
             [
              0.2222222222222222,
              "#7201a8"
             ],
             [
              0.3333333333333333,
              "#9c179e"
             ],
             [
              0.4444444444444444,
              "#bd3786"
             ],
             [
              0.5555555555555556,
              "#d8576b"
             ],
             [
              0.6666666666666666,
              "#ed7953"
             ],
             [
              0.7777777777777778,
              "#fb9f3a"
             ],
             [
              0.8888888888888888,
              "#fdca26"
             ],
             [
              1,
              "#f0f921"
             ]
            ],
            "type": "surface"
           }
          ],
          "table": [
           {
            "cells": {
             "fill": {
              "color": "#EBF0F8"
             },
             "line": {
              "color": "white"
             }
            },
            "header": {
             "fill": {
              "color": "#C8D4E3"
             },
             "line": {
              "color": "white"
             }
            },
            "type": "table"
           }
          ]
         },
         "layout": {
          "annotationdefaults": {
           "arrowcolor": "#2a3f5f",
           "arrowhead": 0,
           "arrowwidth": 1
          },
          "autotypenumbers": "strict",
          "coloraxis": {
           "colorbar": {
            "outlinewidth": 0,
            "ticks": ""
           }
          },
          "colorscale": {
           "diverging": [
            [
             0,
             "#8e0152"
            ],
            [
             0.1,
             "#c51b7d"
            ],
            [
             0.2,
             "#de77ae"
            ],
            [
             0.3,
             "#f1b6da"
            ],
            [
             0.4,
             "#fde0ef"
            ],
            [
             0.5,
             "#f7f7f7"
            ],
            [
             0.6,
             "#e6f5d0"
            ],
            [
             0.7,
             "#b8e186"
            ],
            [
             0.8,
             "#7fbc41"
            ],
            [
             0.9,
             "#4d9221"
            ],
            [
             1,
             "#276419"
            ]
           ],
           "sequential": [
            [
             0,
             "#0d0887"
            ],
            [
             0.1111111111111111,
             "#46039f"
            ],
            [
             0.2222222222222222,
             "#7201a8"
            ],
            [
             0.3333333333333333,
             "#9c179e"
            ],
            [
             0.4444444444444444,
             "#bd3786"
            ],
            [
             0.5555555555555556,
             "#d8576b"
            ],
            [
             0.6666666666666666,
             "#ed7953"
            ],
            [
             0.7777777777777778,
             "#fb9f3a"
            ],
            [
             0.8888888888888888,
             "#fdca26"
            ],
            [
             1,
             "#f0f921"
            ]
           ],
           "sequentialminus": [
            [
             0,
             "#0d0887"
            ],
            [
             0.1111111111111111,
             "#46039f"
            ],
            [
             0.2222222222222222,
             "#7201a8"
            ],
            [
             0.3333333333333333,
             "#9c179e"
            ],
            [
             0.4444444444444444,
             "#bd3786"
            ],
            [
             0.5555555555555556,
             "#d8576b"
            ],
            [
             0.6666666666666666,
             "#ed7953"
            ],
            [
             0.7777777777777778,
             "#fb9f3a"
            ],
            [
             0.8888888888888888,
             "#fdca26"
            ],
            [
             1,
             "#f0f921"
            ]
           ]
          },
          "colorway": [
           "#636efa",
           "#EF553B",
           "#00cc96",
           "#ab63fa",
           "#FFA15A",
           "#19d3f3",
           "#FF6692",
           "#B6E880",
           "#FF97FF",
           "#FECB52"
          ],
          "font": {
           "color": "#2a3f5f"
          },
          "geo": {
           "bgcolor": "white",
           "lakecolor": "white",
           "landcolor": "#E5ECF6",
           "showlakes": true,
           "showland": true,
           "subunitcolor": "white"
          },
          "hoverlabel": {
           "align": "left"
          },
          "hovermode": "closest",
          "mapbox": {
           "style": "light"
          },
          "paper_bgcolor": "white",
          "plot_bgcolor": "#E5ECF6",
          "polar": {
           "angularaxis": {
            "gridcolor": "white",
            "linecolor": "white",
            "ticks": ""
           },
           "bgcolor": "#E5ECF6",
           "radialaxis": {
            "gridcolor": "white",
            "linecolor": "white",
            "ticks": ""
           }
          },
          "scene": {
           "xaxis": {
            "backgroundcolor": "#E5ECF6",
            "gridcolor": "white",
            "gridwidth": 2,
            "linecolor": "white",
            "showbackground": true,
            "ticks": "",
            "zerolinecolor": "white"
           },
           "yaxis": {
            "backgroundcolor": "#E5ECF6",
            "gridcolor": "white",
            "gridwidth": 2,
            "linecolor": "white",
            "showbackground": true,
            "ticks": "",
            "zerolinecolor": "white"
           },
           "zaxis": {
            "backgroundcolor": "#E5ECF6",
            "gridcolor": "white",
            "gridwidth": 2,
            "linecolor": "white",
            "showbackground": true,
            "ticks": "",
            "zerolinecolor": "white"
           }
          },
          "shapedefaults": {
           "line": {
            "color": "#2a3f5f"
           }
          },
          "ternary": {
           "aaxis": {
            "gridcolor": "white",
            "linecolor": "white",
            "ticks": ""
           },
           "baxis": {
            "gridcolor": "white",
            "linecolor": "white",
            "ticks": ""
           },
           "bgcolor": "#E5ECF6",
           "caxis": {
            "gridcolor": "white",
            "linecolor": "white",
            "ticks": ""
           }
          },
          "title": {
           "x": 0.05
          },
          "xaxis": {
           "automargin": true,
           "gridcolor": "white",
           "linecolor": "white",
           "ticks": "",
           "title": {
            "standoff": 15
           },
           "zerolinecolor": "white",
           "zerolinewidth": 2
          },
          "yaxis": {
           "automargin": true,
           "gridcolor": "white",
           "linecolor": "white",
           "ticks": "",
           "title": {
            "standoff": 15
           },
           "zerolinecolor": "white",
           "zerolinewidth": 2
          }
         }
        },
        "title": {
         "text": " por Trimestre"
        },
        "xaxis": {
         "anchor": "y",
         "domain": [
          0,
          1
         ],
         "title": {}
        },
        "yaxis": {
         "anchor": "x",
         "domain": [
          0,
          1
         ],
         "showticklabels": false,
         "title": {}
        }
       }
      },
      "text/html": [
       "<div>                            <div id=\"c414467b-2d1a-4546-96fd-1c09b5c19095\" class=\"plotly-graph-div\" style=\"height:525px; width:100%;\"></div>            <script type=\"text/javascript\">                require([\"plotly\"], function(Plotly) {                    window.PLOTLYENV=window.PLOTLYENV || {};                                    if (document.getElementById(\"c414467b-2d1a-4546-96fd-1c09b5c19095\")) {                    Plotly.newPlot(                        \"c414467b-2d1a-4546-96fd-1c09b5c19095\",                        [{\"alignmentgroup\":\"True\",\"hovertemplate\":\"\\u003cb\\u003e%{y:,.0f}\\u003c\\u002fb\\u003e\\u003cbr\\u003e em %{x}\\u003cextra\\u003e\\u003c\\u002fextra\\u003e\",\"legendgroup\":\"\",\"marker\":{\"color\":\"#632956\",\"pattern\":{\"shape\":\"\"}},\"name\":\"\",\"offsetgroup\":\"\",\"orientation\":\"v\",\"showlegend\":false,\"textposition\":\"outside\",\"texttemplate\":\"%{y:.2s}\",\"x\":[\"T4\\u002f2021\",\"T1\\u002f2022\",\"T2\\u002f2022\",\"T3\\u002f2022\",\"T4\\u002f2022\",\"T1\\u002f2023\",\"T2\\u002f2023\",\"T3\\u002f2023\",\"T4\\u002f2023\",\"T1\\u002f2024\",\"T2\\u002f2024\",\"T3\\u002f2024\"],\"xaxis\":\"x\",\"y\":[59877085,66663425,72487341,78582799,72116756,78798294,87688978,88413648,82196154,84369588,95275638,30187772],\"yaxis\":\"y\",\"type\":\"bar\",\"hoverlabel\":{\"font\":{\"color\":\"#343A40\",\"size\":12},\"bgcolor\":\"#FFFFFF\"}}],                        {\"template\":{\"data\":{\"histogram2dcontour\":[{\"type\":\"histogram2dcontour\",\"colorbar\":{\"outlinewidth\":0,\"ticks\":\"\"},\"colorscale\":[[0.0,\"#0d0887\"],[0.1111111111111111,\"#46039f\"],[0.2222222222222222,\"#7201a8\"],[0.3333333333333333,\"#9c179e\"],[0.4444444444444444,\"#bd3786\"],[0.5555555555555556,\"#d8576b\"],[0.6666666666666666,\"#ed7953\"],[0.7777777777777778,\"#fb9f3a\"],[0.8888888888888888,\"#fdca26\"],[1.0,\"#f0f921\"]]}],\"choropleth\":[{\"type\":\"choropleth\",\"colorbar\":{\"outlinewidth\":0,\"ticks\":\"\"}}],\"histogram2d\":[{\"type\":\"histogram2d\",\"colorbar\":{\"outlinewidth\":0,\"ticks\":\"\"},\"colorscale\":[[0.0,\"#0d0887\"],[0.1111111111111111,\"#46039f\"],[0.2222222222222222,\"#7201a8\"],[0.3333333333333333,\"#9c179e\"],[0.4444444444444444,\"#bd3786\"],[0.5555555555555556,\"#d8576b\"],[0.6666666666666666,\"#ed7953\"],[0.7777777777777778,\"#fb9f3a\"],[0.8888888888888888,\"#fdca26\"],[1.0,\"#f0f921\"]]}],\"heatmap\":[{\"type\":\"heatmap\",\"colorbar\":{\"outlinewidth\":0,\"ticks\":\"\"},\"colorscale\":[[0.0,\"#0d0887\"],[0.1111111111111111,\"#46039f\"],[0.2222222222222222,\"#7201a8\"],[0.3333333333333333,\"#9c179e\"],[0.4444444444444444,\"#bd3786\"],[0.5555555555555556,\"#d8576b\"],[0.6666666666666666,\"#ed7953\"],[0.7777777777777778,\"#fb9f3a\"],[0.8888888888888888,\"#fdca26\"],[1.0,\"#f0f921\"]]}],\"heatmapgl\":[{\"type\":\"heatmapgl\",\"colorbar\":{\"outlinewidth\":0,\"ticks\":\"\"},\"colorscale\":[[0.0,\"#0d0887\"],[0.1111111111111111,\"#46039f\"],[0.2222222222222222,\"#7201a8\"],[0.3333333333333333,\"#9c179e\"],[0.4444444444444444,\"#bd3786\"],[0.5555555555555556,\"#d8576b\"],[0.6666666666666666,\"#ed7953\"],[0.7777777777777778,\"#fb9f3a\"],[0.8888888888888888,\"#fdca26\"],[1.0,\"#f0f921\"]]}],\"contourcarpet\":[{\"type\":\"contourcarpet\",\"colorbar\":{\"outlinewidth\":0,\"ticks\":\"\"}}],\"contour\":[{\"type\":\"contour\",\"colorbar\":{\"outlinewidth\":0,\"ticks\":\"\"},\"colorscale\":[[0.0,\"#0d0887\"],[0.1111111111111111,\"#46039f\"],[0.2222222222222222,\"#7201a8\"],[0.3333333333333333,\"#9c179e\"],[0.4444444444444444,\"#bd3786\"],[0.5555555555555556,\"#d8576b\"],[0.6666666666666666,\"#ed7953\"],[0.7777777777777778,\"#fb9f3a\"],[0.8888888888888888,\"#fdca26\"],[1.0,\"#f0f921\"]]}],\"surface\":[{\"type\":\"surface\",\"colorbar\":{\"outlinewidth\":0,\"ticks\":\"\"},\"colorscale\":[[0.0,\"#0d0887\"],[0.1111111111111111,\"#46039f\"],[0.2222222222222222,\"#7201a8\"],[0.3333333333333333,\"#9c179e\"],[0.4444444444444444,\"#bd3786\"],[0.5555555555555556,\"#d8576b\"],[0.6666666666666666,\"#ed7953\"],[0.7777777777777778,\"#fb9f3a\"],[0.8888888888888888,\"#fdca26\"],[1.0,\"#f0f921\"]]}],\"mesh3d\":[{\"type\":\"mesh3d\",\"colorbar\":{\"outlinewidth\":0,\"ticks\":\"\"}}],\"scatter\":[{\"fillpattern\":{\"fillmode\":\"overlay\",\"size\":10,\"solidity\":0.2},\"type\":\"scatter\"}],\"parcoords\":[{\"type\":\"parcoords\",\"line\":{\"colorbar\":{\"outlinewidth\":0,\"ticks\":\"\"}}}],\"scatterpolargl\":[{\"type\":\"scatterpolargl\",\"marker\":{\"colorbar\":{\"outlinewidth\":0,\"ticks\":\"\"}}}],\"bar\":[{\"error_x\":{\"color\":\"#2a3f5f\"},\"error_y\":{\"color\":\"#2a3f5f\"},\"marker\":{\"line\":{\"color\":\"#E5ECF6\",\"width\":0.5},\"pattern\":{\"fillmode\":\"overlay\",\"size\":10,\"solidity\":0.2}},\"type\":\"bar\"}],\"scattergeo\":[{\"type\":\"scattergeo\",\"marker\":{\"colorbar\":{\"outlinewidth\":0,\"ticks\":\"\"}}}],\"scatterpolar\":[{\"type\":\"scatterpolar\",\"marker\":{\"colorbar\":{\"outlinewidth\":0,\"ticks\":\"\"}}}],\"histogram\":[{\"marker\":{\"pattern\":{\"fillmode\":\"overlay\",\"size\":10,\"solidity\":0.2}},\"type\":\"histogram\"}],\"scattergl\":[{\"type\":\"scattergl\",\"marker\":{\"colorbar\":{\"outlinewidth\":0,\"ticks\":\"\"}}}],\"scatter3d\":[{\"type\":\"scatter3d\",\"line\":{\"colorbar\":{\"outlinewidth\":0,\"ticks\":\"\"}},\"marker\":{\"colorbar\":{\"outlinewidth\":0,\"ticks\":\"\"}}}],\"scattermapbox\":[{\"type\":\"scattermapbox\",\"marker\":{\"colorbar\":{\"outlinewidth\":0,\"ticks\":\"\"}}}],\"scatterternary\":[{\"type\":\"scatterternary\",\"marker\":{\"colorbar\":{\"outlinewidth\":0,\"ticks\":\"\"}}}],\"scattercarpet\":[{\"type\":\"scattercarpet\",\"marker\":{\"colorbar\":{\"outlinewidth\":0,\"ticks\":\"\"}}}],\"carpet\":[{\"aaxis\":{\"endlinecolor\":\"#2a3f5f\",\"gridcolor\":\"white\",\"linecolor\":\"white\",\"minorgridcolor\":\"white\",\"startlinecolor\":\"#2a3f5f\"},\"baxis\":{\"endlinecolor\":\"#2a3f5f\",\"gridcolor\":\"white\",\"linecolor\":\"white\",\"minorgridcolor\":\"white\",\"startlinecolor\":\"#2a3f5f\"},\"type\":\"carpet\"}],\"table\":[{\"cells\":{\"fill\":{\"color\":\"#EBF0F8\"},\"line\":{\"color\":\"white\"}},\"header\":{\"fill\":{\"color\":\"#C8D4E3\"},\"line\":{\"color\":\"white\"}},\"type\":\"table\"}],\"barpolar\":[{\"marker\":{\"line\":{\"color\":\"#E5ECF6\",\"width\":0.5},\"pattern\":{\"fillmode\":\"overlay\",\"size\":10,\"solidity\":0.2}},\"type\":\"barpolar\"}],\"pie\":[{\"automargin\":true,\"type\":\"pie\"}]},\"layout\":{\"autotypenumbers\":\"strict\",\"colorway\":[\"#636efa\",\"#EF553B\",\"#00cc96\",\"#ab63fa\",\"#FFA15A\",\"#19d3f3\",\"#FF6692\",\"#B6E880\",\"#FF97FF\",\"#FECB52\"],\"font\":{\"color\":\"#2a3f5f\"},\"hovermode\":\"closest\",\"hoverlabel\":{\"align\":\"left\"},\"paper_bgcolor\":\"white\",\"plot_bgcolor\":\"#E5ECF6\",\"polar\":{\"bgcolor\":\"#E5ECF6\",\"angularaxis\":{\"gridcolor\":\"white\",\"linecolor\":\"white\",\"ticks\":\"\"},\"radialaxis\":{\"gridcolor\":\"white\",\"linecolor\":\"white\",\"ticks\":\"\"}},\"ternary\":{\"bgcolor\":\"#E5ECF6\",\"aaxis\":{\"gridcolor\":\"white\",\"linecolor\":\"white\",\"ticks\":\"\"},\"baxis\":{\"gridcolor\":\"white\",\"linecolor\":\"white\",\"ticks\":\"\"},\"caxis\":{\"gridcolor\":\"white\",\"linecolor\":\"white\",\"ticks\":\"\"}},\"coloraxis\":{\"colorbar\":{\"outlinewidth\":0,\"ticks\":\"\"}},\"colorscale\":{\"sequential\":[[0.0,\"#0d0887\"],[0.1111111111111111,\"#46039f\"],[0.2222222222222222,\"#7201a8\"],[0.3333333333333333,\"#9c179e\"],[0.4444444444444444,\"#bd3786\"],[0.5555555555555556,\"#d8576b\"],[0.6666666666666666,\"#ed7953\"],[0.7777777777777778,\"#fb9f3a\"],[0.8888888888888888,\"#fdca26\"],[1.0,\"#f0f921\"]],\"sequentialminus\":[[0.0,\"#0d0887\"],[0.1111111111111111,\"#46039f\"],[0.2222222222222222,\"#7201a8\"],[0.3333333333333333,\"#9c179e\"],[0.4444444444444444,\"#bd3786\"],[0.5555555555555556,\"#d8576b\"],[0.6666666666666666,\"#ed7953\"],[0.7777777777777778,\"#fb9f3a\"],[0.8888888888888888,\"#fdca26\"],[1.0,\"#f0f921\"]],\"diverging\":[[0,\"#8e0152\"],[0.1,\"#c51b7d\"],[0.2,\"#de77ae\"],[0.3,\"#f1b6da\"],[0.4,\"#fde0ef\"],[0.5,\"#f7f7f7\"],[0.6,\"#e6f5d0\"],[0.7,\"#b8e186\"],[0.8,\"#7fbc41\"],[0.9,\"#4d9221\"],[1,\"#276419\"]]},\"xaxis\":{\"gridcolor\":\"white\",\"linecolor\":\"white\",\"ticks\":\"\",\"title\":{\"standoff\":15},\"zerolinecolor\":\"white\",\"automargin\":true,\"zerolinewidth\":2},\"yaxis\":{\"gridcolor\":\"white\",\"linecolor\":\"white\",\"ticks\":\"\",\"title\":{\"standoff\":15},\"zerolinecolor\":\"white\",\"automargin\":true,\"zerolinewidth\":2},\"scene\":{\"xaxis\":{\"backgroundcolor\":\"#E5ECF6\",\"gridcolor\":\"white\",\"linecolor\":\"white\",\"showbackground\":true,\"ticks\":\"\",\"zerolinecolor\":\"white\",\"gridwidth\":2},\"yaxis\":{\"backgroundcolor\":\"#E5ECF6\",\"gridcolor\":\"white\",\"linecolor\":\"white\",\"showbackground\":true,\"ticks\":\"\",\"zerolinecolor\":\"white\",\"gridwidth\":2},\"zaxis\":{\"backgroundcolor\":\"#E5ECF6\",\"gridcolor\":\"white\",\"linecolor\":\"white\",\"showbackground\":true,\"ticks\":\"\",\"zerolinecolor\":\"white\",\"gridwidth\":2}},\"shapedefaults\":{\"line\":{\"color\":\"#2a3f5f\"}},\"annotationdefaults\":{\"arrowcolor\":\"#2a3f5f\",\"arrowhead\":0,\"arrowwidth\":1},\"geo\":{\"bgcolor\":\"white\",\"landcolor\":\"#E5ECF6\",\"subunitcolor\":\"white\",\"showland\":true,\"showlakes\":true,\"lakecolor\":\"white\"},\"title\":{\"x\":0.05},\"mapbox\":{\"style\":\"light\"}}},\"xaxis\":{\"anchor\":\"y\",\"domain\":[0.0,1.0],\"title\":{}},\"yaxis\":{\"anchor\":\"x\",\"domain\":[0.0,1.0],\"title\":{},\"showticklabels\":false},\"legend\":{\"tracegroupgap\":0},\"title\":{\"text\":\" por Trimestre\"},\"barmode\":\"relative\",\"margin\":{\"l\":35,\"r\":35,\"t\":60,\"b\":40},\"plot_bgcolor\":\"#FFFFFF\"},                        {\"responsive\": true}                    ).then(function(){\n",
       "                            \n",
       "var gd = document.getElementById('c414467b-2d1a-4546-96fd-1c09b5c19095');\n",
       "var x = new MutationObserver(function (mutations, observer) {{\n",
       "        var display = window.getComputedStyle(gd).display;\n",
       "        if (!display || display === 'none') {{\n",
       "            console.log([gd, 'removed!']);\n",
       "            Plotly.purge(gd);\n",
       "            observer.disconnect();\n",
       "        }}\n",
       "}});\n",
       "\n",
       "// Listen for the removal of the full notebook cells\n",
       "var notebookContainer = gd.closest('#notebook-container');\n",
       "if (notebookContainer) {{\n",
       "    x.observe(notebookContainer, {childList: true});\n",
       "}}\n",
       "\n",
       "// Listen for the clearing of the current output cell\n",
       "var outputEl = gd.closest('.output');\n",
       "if (outputEl) {{\n",
       "    x.observe(outputEl, {childList: true});\n",
       "}}\n",
       "\n",
       "                        })                };                });            </script>        </div>"
      ]
     },
     "metadata": {},
     "output_type": "display_data"
    }
   ],
   "source": [
    "title =''\n",
    "type = 'brasil'\n",
    "df_grouped = (\n",
    "    df.groupby([\"ano_trimestre\", \"ano\", \"trimestre\"], observed=True)[\n",
    "        \"valor\"\n",
    "    ]\n",
    "    .sum()\n",
    "    .reset_index()\n",
    ")\n",
    "df_grouped[\"ano_order\"] = df_grouped[\"ano\"].astype(str) + df_grouped[\n",
    "    \"trimestre\"\n",
    "].astype(str).str.replace(\"T\", \"\")\n",
    "df_grouped = df_grouped.sort_values(\"ano_order\")\n",
    "df_filtered = df_grouped.tail(12)\n",
    "\n",
    "# Criar gráfico de barras\n",
    "chart = px.bar(\n",
    "    df_filtered,\n",
    "    x=\"ano_trimestre\",\n",
    "    y=\"valor\",\n",
    "    text_auto=\".2s\",\n",
    "    title=f\"{title.capitalize()} por Trimestre\",\n",
    ")\n",
    "\n",
    "# Atualizar para o layout padrão\n",
    "chart = update_layout_chart(chart, title, type)\n",
    "\n",
    "chart.show()\n"
   ]
  },
  {
   "cell_type": "code",
   "execution_count": 110,
   "metadata": {},
   "outputs": [
    {
     "data": {
      "text/html": [
       "<div>\n",
       "<style scoped>\n",
       "    .dataframe tbody tr th:only-of-type {\n",
       "        vertical-align: middle;\n",
       "    }\n",
       "\n",
       "    .dataframe tbody tr th {\n",
       "        vertical-align: top;\n",
       "    }\n",
       "\n",
       "    .dataframe thead th {\n",
       "        text-align: right;\n",
       "    }\n",
       "</style>\n",
       "<table border=\"1\" class=\"dataframe\">\n",
       "  <thead>\n",
       "    <tr style=\"text-align: right;\">\n",
       "      <th></th>\n",
       "      <th>ano_trimestre</th>\n",
       "      <th>ano</th>\n",
       "      <th>trimestre</th>\n",
       "      <th>mes</th>\n",
       "      <th>valor</th>\n",
       "    </tr>\n",
       "  </thead>\n",
       "  <tbody>\n",
       "    <tr>\n",
       "      <th>33</th>\n",
       "      <td>T2/2013</td>\n",
       "      <td>2013</td>\n",
       "      <td>T2</td>\n",
       "      <td>4</td>\n",
       "      <td>1244</td>\n",
       "    </tr>\n",
       "    <tr>\n",
       "      <th>34</th>\n",
       "      <td>T2/2013</td>\n",
       "      <td>2013</td>\n",
       "      <td>T2</td>\n",
       "      <td>5</td>\n",
       "      <td>591</td>\n",
       "    </tr>\n",
       "    <tr>\n",
       "      <th>35</th>\n",
       "      <td>T2/2013</td>\n",
       "      <td>2013</td>\n",
       "      <td>T2</td>\n",
       "      <td>6</td>\n",
       "      <td>2324</td>\n",
       "    </tr>\n",
       "    <tr>\n",
       "      <th>69</th>\n",
       "      <td>T3/2013</td>\n",
       "      <td>2013</td>\n",
       "      <td>T3</td>\n",
       "      <td>7</td>\n",
       "      <td>12591</td>\n",
       "    </tr>\n",
       "    <tr>\n",
       "      <th>70</th>\n",
       "      <td>T3/2013</td>\n",
       "      <td>2013</td>\n",
       "      <td>T3</td>\n",
       "      <td>8</td>\n",
       "      <td>19388</td>\n",
       "    </tr>\n",
       "    <tr>\n",
       "      <th>...</th>\n",
       "      <td>...</td>\n",
       "      <td>...</td>\n",
       "      <td>...</td>\n",
       "      <td>...</td>\n",
       "      <td>...</td>\n",
       "    </tr>\n",
       "    <tr>\n",
       "      <th>32</th>\n",
       "      <td>T1/2024</td>\n",
       "      <td>2024</td>\n",
       "      <td>T1</td>\n",
       "      <td>3</td>\n",
       "      <td>30701422</td>\n",
       "    </tr>\n",
       "    <tr>\n",
       "      <th>66</th>\n",
       "      <td>T2/2024</td>\n",
       "      <td>2024</td>\n",
       "      <td>T2</td>\n",
       "      <td>4</td>\n",
       "      <td>37395734</td>\n",
       "    </tr>\n",
       "    <tr>\n",
       "      <th>67</th>\n",
       "      <td>T2/2024</td>\n",
       "      <td>2024</td>\n",
       "      <td>T2</td>\n",
       "      <td>5</td>\n",
       "      <td>29362662</td>\n",
       "    </tr>\n",
       "    <tr>\n",
       "      <th>68</th>\n",
       "      <td>T2/2024</td>\n",
       "      <td>2024</td>\n",
       "      <td>T2</td>\n",
       "      <td>6</td>\n",
       "      <td>28517242</td>\n",
       "    </tr>\n",
       "    <tr>\n",
       "      <th>102</th>\n",
       "      <td>T3/2024</td>\n",
       "      <td>2024</td>\n",
       "      <td>T3</td>\n",
       "      <td>7</td>\n",
       "      <td>30187772</td>\n",
       "    </tr>\n",
       "  </tbody>\n",
       "</table>\n",
       "<p>136 rows × 5 columns</p>\n",
       "</div>"
      ],
      "text/plain": [
       "    ano_trimestre   ano trimestre  mes     valor\n",
       "33        T2/2013  2013        T2    4      1244\n",
       "34        T2/2013  2013        T2    5       591\n",
       "35        T2/2013  2013        T2    6      2324\n",
       "69        T3/2013  2013        T3    7     12591\n",
       "70        T3/2013  2013        T3    8     19388\n",
       "..            ...   ...       ...  ...       ...\n",
       "32        T1/2024  2024        T1    3  30701422\n",
       "66        T2/2024  2024        T2    4  37395734\n",
       "67        T2/2024  2024        T2    5  29362662\n",
       "68        T2/2024  2024        T2    6  28517242\n",
       "102       T3/2024  2024        T3    7  30187772\n",
       "\n",
       "[136 rows x 5 columns]"
      ]
     },
     "execution_count": 110,
     "metadata": {},
     "output_type": "execute_result"
    }
   ],
   "source": [
    "df.groupby([\"ano_trimestre\", \"ano\", \"trimestre\", \"mes\"], observed=True)[\n",
    "        \"valor\"\n",
    "    ].sum().reset_index().sort_values([\"ano\", \"mes\"])"
   ]
  },
  {
   "cell_type": "code",
   "execution_count": 142,
   "metadata": {},
   "outputs": [
    {
     "name": "stderr",
     "output_type": "stream",
     "text": [
      "/tmp/ipykernel_663/3414722418.py:47: FutureWarning:\n",
      "\n",
      "In a future version of pandas all arguments of Series.sort_values will be keyword-only\n",
      "\n"
     ]
    },
    {
     "ename": "TypeError",
     "evalue": "unhashable type: 'list'",
     "output_type": "error",
     "traceback": [
      "\u001b[0;31m---------------------------------------------------------------------------\u001b[0m",
      "\u001b[0;31mTypeError\u001b[0m                                 Traceback (most recent call last)",
      "Cell \u001b[0;32mIn[142], line 97\u001b[0m\n\u001b[1;32m     93\u001b[0m     \u001b[38;5;28;01mreturn\u001b[39;00m chart\n\u001b[1;32m     95\u001b[0m \u001b[38;5;66;03m# atendimentos = get_atendimentos(None, None)\u001b[39;00m\n\u001b[1;32m     96\u001b[0m \u001b[38;5;66;03m# df = get_df_atendimentos(atendimentos)\u001b[39;00m\n\u001b[0;32m---> 97\u001b[0m chart \u001b[38;5;241m=\u001b[39m \u001b[43mget_chart_by_quarter\u001b[49m\u001b[43m(\u001b[49m\u001b[43mdf\u001b[49m\u001b[43m,\u001b[49m\u001b[43m \u001b[49m\u001b[38;5;124;43m'\u001b[39;49m\u001b[38;5;124;43mAtendimentos\u001b[39;49m\u001b[38;5;124;43m'\u001b[39;49m\u001b[43m,\u001b[49m\u001b[43m \u001b[49m\u001b[38;5;124;43m'\u001b[39;49m\u001b[38;5;124;43mbrasil\u001b[39;49m\u001b[38;5;124;43m'\u001b[39;49m\u001b[43m)\u001b[49m\n\u001b[1;32m     98\u001b[0m chart\u001b[38;5;241m.\u001b[39mshow()\n",
      "Cell \u001b[0;32mIn[142], line 47\u001b[0m, in \u001b[0;36mget_chart_by_quarter\u001b[0;34m(df, title, type)\u001b[0m\n\u001b[1;32m     36\u001b[0m chart \u001b[38;5;241m=\u001b[39m px\u001b[38;5;241m.\u001b[39mbar(\n\u001b[1;32m     37\u001b[0m     df_filtered,\n\u001b[1;32m     38\u001b[0m     x\u001b[38;5;241m=\u001b[39m\u001b[38;5;124m\"\u001b[39m\u001b[38;5;124mano_trimestre\u001b[39m\u001b[38;5;124m\"\u001b[39m,\n\u001b[0;32m   (...)\u001b[0m\n\u001b[1;32m     41\u001b[0m     title\u001b[38;5;241m=\u001b[39m\u001b[38;5;124mf\u001b[39m\u001b[38;5;124m\"\u001b[39m\u001b[38;5;132;01m{\u001b[39;00mtitle\u001b[38;5;241m.\u001b[39mcapitalize()\u001b[38;5;132;01m}\u001b[39;00m\u001b[38;5;124m por Trimestre\u001b[39m\u001b[38;5;124m\"\u001b[39m,\n\u001b[1;32m     42\u001b[0m )\n\u001b[1;32m     44\u001b[0m \u001b[38;5;66;03m# Previsão SARIMA\u001b[39;00m\n\u001b[1;32m     45\u001b[0m df_grouped_mes \u001b[38;5;241m=\u001b[39m \u001b[43mdf\u001b[49m\u001b[38;5;241;43m.\u001b[39;49m\u001b[43mgroupby\u001b[49m\u001b[43m(\u001b[49m\u001b[43m[\u001b[49m\u001b[38;5;124;43m\"\u001b[39;49m\u001b[38;5;124;43mano_trimestre\u001b[39;49m\u001b[38;5;124;43m\"\u001b[39;49m\u001b[43m,\u001b[49m\u001b[43m \u001b[49m\u001b[38;5;124;43m\"\u001b[39;49m\u001b[38;5;124;43mano\u001b[39;49m\u001b[38;5;124;43m\"\u001b[39;49m\u001b[43m,\u001b[49m\u001b[43m \u001b[49m\u001b[38;5;124;43m\"\u001b[39;49m\u001b[38;5;124;43mtrimestre\u001b[39;49m\u001b[38;5;124;43m\"\u001b[39;49m\u001b[43m,\u001b[49m\u001b[43m \u001b[49m\u001b[38;5;124;43m\"\u001b[39;49m\u001b[38;5;124;43mmes\u001b[39;49m\u001b[38;5;124;43m\"\u001b[39;49m\u001b[43m]\u001b[49m\u001b[43m,\u001b[49m\u001b[43m \u001b[49m\u001b[43mobserved\u001b[49m\u001b[38;5;241;43m=\u001b[39;49m\u001b[38;5;28;43;01mTrue\u001b[39;49;00m\u001b[43m)\u001b[49m\u001b[43m[\u001b[49m\n\u001b[1;32m     46\u001b[0m \u001b[43m    \u001b[49m\u001b[38;5;124;43m\"\u001b[39;49m\u001b[38;5;124;43mvalor\u001b[39;49m\u001b[38;5;124;43m\"\u001b[39;49m\n\u001b[0;32m---> 47\u001b[0m \u001b[43m\u001b[49m\u001b[43m]\u001b[49m\u001b[38;5;241;43m.\u001b[39;49m\u001b[43msum\u001b[49m\u001b[43m(\u001b[49m\u001b[43m)\u001b[49m\u001b[38;5;241;43m.\u001b[39;49m\u001b[43msort_values\u001b[49m\u001b[43m(\u001b[49m\u001b[43m[\u001b[49m\u001b[38;5;124;43m\"\u001b[39;49m\u001b[38;5;124;43mano\u001b[39;49m\u001b[38;5;124;43m\"\u001b[39;49m\u001b[43m,\u001b[49m\u001b[43m \u001b[49m\u001b[38;5;124;43m\"\u001b[39;49m\u001b[38;5;124;43mmes\u001b[39;49m\u001b[38;5;124;43m\"\u001b[39;49m\u001b[43m]\u001b[49m\u001b[43m)\u001b[49m\u001b[38;5;241m.\u001b[39mreset_index()\n\u001b[1;32m     48\u001b[0m df_sarima \u001b[38;5;241m=\u001b[39m df_grouped_mes[:\u001b[38;5;241m-\u001b[39m\u001b[38;5;241m1\u001b[39m]  \u001b[38;5;66;03m# Desconsiderar o último mês\u001b[39;00m\n\u001b[1;32m     49\u001b[0m model \u001b[38;5;241m=\u001b[39m SARIMAX(df_sarima[\u001b[38;5;124m'\u001b[39m\u001b[38;5;124mvalor\u001b[39m\u001b[38;5;124m'\u001b[39m], order\u001b[38;5;241m=\u001b[39m(\u001b[38;5;241m1\u001b[39m, \u001b[38;5;241m1\u001b[39m, \u001b[38;5;241m1\u001b[39m), seasonal_order\u001b[38;5;241m=\u001b[39m(\u001b[38;5;241m1\u001b[39m, \u001b[38;5;241m1\u001b[39m, \u001b[38;5;241m1\u001b[39m, \u001b[38;5;241m12\u001b[39m))\n",
      "File \u001b[0;32m~/anaconda3/lib/python3.10/site-packages/pandas/util/_decorators.py:311\u001b[0m, in \u001b[0;36mdeprecate_nonkeyword_arguments.<locals>.decorate.<locals>.wrapper\u001b[0;34m(*args, **kwargs)\u001b[0m\n\u001b[1;32m    305\u001b[0m \u001b[38;5;28;01mif\u001b[39;00m \u001b[38;5;28mlen\u001b[39m(args) \u001b[38;5;241m>\u001b[39m num_allow_args:\n\u001b[1;32m    306\u001b[0m     warnings\u001b[38;5;241m.\u001b[39mwarn(\n\u001b[1;32m    307\u001b[0m         msg\u001b[38;5;241m.\u001b[39mformat(arguments\u001b[38;5;241m=\u001b[39marguments),\n\u001b[1;32m    308\u001b[0m         \u001b[38;5;167;01mFutureWarning\u001b[39;00m,\n\u001b[1;32m    309\u001b[0m         stacklevel\u001b[38;5;241m=\u001b[39mstacklevel,\n\u001b[1;32m    310\u001b[0m     )\n\u001b[0;32m--> 311\u001b[0m \u001b[38;5;28;01mreturn\u001b[39;00m \u001b[43mfunc\u001b[49m\u001b[43m(\u001b[49m\u001b[38;5;241;43m*\u001b[39;49m\u001b[43margs\u001b[49m\u001b[43m,\u001b[49m\u001b[43m \u001b[49m\u001b[38;5;241;43m*\u001b[39;49m\u001b[38;5;241;43m*\u001b[39;49m\u001b[43mkwargs\u001b[49m\u001b[43m)\u001b[49m\n",
      "File \u001b[0;32m~/anaconda3/lib/python3.10/site-packages/pandas/core/series.py:3430\u001b[0m, in \u001b[0;36mSeries.sort_values\u001b[0;34m(self, axis, ascending, inplace, kind, na_position, ignore_index, key)\u001b[0m\n\u001b[1;32m   3428\u001b[0m inplace \u001b[38;5;241m=\u001b[39m validate_bool_kwarg(inplace, \u001b[38;5;124m\"\u001b[39m\u001b[38;5;124minplace\u001b[39m\u001b[38;5;124m\"\u001b[39m)\n\u001b[1;32m   3429\u001b[0m \u001b[38;5;66;03m# Validate the axis parameter\u001b[39;00m\n\u001b[0;32m-> 3430\u001b[0m \u001b[38;5;28;43mself\u001b[39;49m\u001b[38;5;241;43m.\u001b[39;49m\u001b[43m_get_axis_number\u001b[49m\u001b[43m(\u001b[49m\u001b[43maxis\u001b[49m\u001b[43m)\u001b[49m\n\u001b[1;32m   3432\u001b[0m \u001b[38;5;66;03m# GH 5856/5853\u001b[39;00m\n\u001b[1;32m   3433\u001b[0m \u001b[38;5;28;01mif\u001b[39;00m inplace \u001b[38;5;129;01mand\u001b[39;00m \u001b[38;5;28mself\u001b[39m\u001b[38;5;241m.\u001b[39m_is_cached:\n",
      "File \u001b[0;32m~/anaconda3/lib/python3.10/site-packages/pandas/core/generic.py:546\u001b[0m, in \u001b[0;36mNDFrame._get_axis_number\u001b[0;34m(cls, axis)\u001b[0m\n\u001b[1;32m    542\u001b[0m \u001b[38;5;129m@final\u001b[39m\n\u001b[1;32m    543\u001b[0m \u001b[38;5;129m@classmethod\u001b[39m\n\u001b[1;32m    544\u001b[0m \u001b[38;5;28;01mdef\u001b[39;00m \u001b[38;5;21m_get_axis_number\u001b[39m(\u001b[38;5;28mcls\u001b[39m, axis: Axis) \u001b[38;5;241m-\u001b[39m\u001b[38;5;241m>\u001b[39m \u001b[38;5;28mint\u001b[39m:\n\u001b[1;32m    545\u001b[0m     \u001b[38;5;28;01mtry\u001b[39;00m:\n\u001b[0;32m--> 546\u001b[0m         \u001b[38;5;28;01mreturn\u001b[39;00m \u001b[38;5;28;43mcls\u001b[39;49m\u001b[38;5;241;43m.\u001b[39;49m\u001b[43m_AXIS_TO_AXIS_NUMBER\u001b[49m\u001b[43m[\u001b[49m\u001b[43maxis\u001b[49m\u001b[43m]\u001b[49m\n\u001b[1;32m    547\u001b[0m     \u001b[38;5;28;01mexcept\u001b[39;00m \u001b[38;5;167;01mKeyError\u001b[39;00m:\n\u001b[1;32m    548\u001b[0m         \u001b[38;5;28;01mraise\u001b[39;00m \u001b[38;5;167;01mValueError\u001b[39;00m(\u001b[38;5;124mf\u001b[39m\u001b[38;5;124m\"\u001b[39m\u001b[38;5;124mNo axis named \u001b[39m\u001b[38;5;132;01m{\u001b[39;00maxis\u001b[38;5;132;01m}\u001b[39;00m\u001b[38;5;124m for object type \u001b[39m\u001b[38;5;132;01m{\u001b[39;00m\u001b[38;5;28mcls\u001b[39m\u001b[38;5;241m.\u001b[39m\u001b[38;5;18m__name__\u001b[39m\u001b[38;5;132;01m}\u001b[39;00m\u001b[38;5;124m\"\u001b[39m)\n",
      "\u001b[0;31mTypeError\u001b[0m: unhashable type: 'list'"
     ]
    }
   ],
   "source": [
    "from statsmodels.tsa.statespace.sarimax import SARIMAX\n",
    "import plotly.graph_objects as go\n",
    "\n",
    "# Função para formatar números grandes\n",
    "def formatar_numero(numero):\n",
    "    if numero >= 1_000_000_000:\n",
    "        return f\"{numero / 1_000_000_000:.1f}B\"\n",
    "    elif numero >= 1_000_000:\n",
    "        return f\"{numero / 1_000_000:.1f}M\"\n",
    "    elif numero >= 1_000:\n",
    "        return f\"{numero / 1_000:.1f}K\"\n",
    "    return str(numero)\n",
    "\n",
    "def get_chart_by_quarter(df, title, type):\n",
    "    # Retorna o gráfico de barras com o total acumulado dos últimos 6 trimestres de dados\n",
    "    #    df -> dados para gerar o gráfico que deve conter ['ano_trimestre', 'ano', 'trimestre', 'valor']\n",
    "    #    title -> string com o nome que deve aparecer no label do gráfico\n",
    "    #    type -> string para saber em qual agregação estamos ['brasil', 'estado', 'regiao_saude', 'municipio']\n",
    "    # retorna o gráfico gerado\n",
    "\n",
    "    # Agrupar os dados por ano e quarter somando os valores\n",
    "    df_grouped = (\n",
    "        df.groupby([\"ano_trimestre\", \"ano\", \"trimestre\"], observed=True)[\n",
    "            \"valor\"\n",
    "        ]\n",
    "        .sum()\n",
    "        .reset_index()\n",
    "    )\n",
    "    df_grouped[\"ano_order\"] = df_grouped[\"ano\"].astype(str) + df_grouped[\n",
    "        \"trimestre\"\n",
    "    ].astype(str).str.replace(\"T\", \"\")\n",
    "    df_grouped = df_grouped.sort_values(\"ano_order\")\n",
    "    df_filtered = df_grouped.tail(12)\n",
    "\n",
    "    # Criar gráfico de barras\n",
    "    chart = px.bar(\n",
    "        df_filtered,\n",
    "        x=\"ano_trimestre\",\n",
    "        y=\"valor\",\n",
    "        text_auto=\".2s\",\n",
    "        title=f\"{title.capitalize()} por Trimestre\",\n",
    "    )\n",
    "\n",
    "    # Previsão SARIMA\n",
    "    df_grouped_mes = df.groupby([\"ano_trimestre\", \"ano\", \"trimestre\", \"mes\"], observed=True)[\n",
    "        \"valor\"\n",
    "    ].sum().reset_index().sort_values([\"ano\", \"mes\"])\n",
    "    df_sarima = df_grouped_mes[:-1]  # Desconsiderar o último mês\n",
    "    model = SARIMAX(df_sarima['valor'], order=(1, 1, 1), seasonal_order=(1, 1, 1, 12))\n",
    "    results = model.fit()\n",
    "    forecast = results.get_forecast(steps=6)\n",
    "\n",
    "    # Calcular os valores de ano e mes para as proximas previsoes\n",
    "    last_year = df_sarima['ano'].max()\n",
    "    last_month = df_sarima[df_sarima['ano'] == last_year]['mes'].max()\n",
    "\n",
    "    forecast_month = []\n",
    "    forecast_year = []\n",
    "    for i in range(1, 7):\n",
    "        if last_month == 12:\n",
    "            last_month = 1\n",
    "            last_year += 1\n",
    "        else:\n",
    "            last_month += 1\n",
    "        forecast_month.append(last_month)\n",
    "        forecast_year.append(last_year)\n",
    "\n",
    "    forecast_trimestre = [trimestre_map_num[m] for m in forecast_month]\n",
    "\n",
    "    \n",
    "    forecast_index = [f\"{t}/{y}\" for t, y in zip(forecast_trimestre, forecast_year)]\n",
    "    forecast_values = forecast.predicted_mean\n",
    "\n",
    "    # Adicionar previsões ao gráfico\n",
    "    forecast_df = pd.DataFrame({'ano_trimestre': forecast_index, 'valor': forecast_values})\n",
    "\n",
    "    forecast_df = forecast_df.groupby(\"ano_trimestre\")[\"valor\"].sum().reset_index()\n",
    "\n",
    "    forecast_df['valor'] = forecast_df['valor'].astype(str)\n",
    "    \n",
    "    # Adiciona os valores dos pontos\n",
    "    chart.add_trace(go.Scatter(\n",
    "        x=forecast_df['ano_trimestre'], \n",
    "        y=forecast_df['valor'], \n",
    "        mode='lines+markers+text',  # Adiciona linha, marcadores e texto\n",
    "        text=[f'{y:.2s}' for y in forecast_df['valor']],              # O valor do ponto como texto\n",
    "        textposition='top center',   # Posição do texto\n",
    "        name='Previsão',      # Nome da série\n",
    "    ))\n",
    "    # Atualizar para o layout padrão\n",
    "    # chart = update_layout_chart(chart, title, type)\n",
    "\n",
    "    return chart\n",
    "\n",
    "# atendimentos = get_atendimentos(None, None)\n",
    "# df = get_df_atendimentos(atendimentos)\n",
    "chart = get_chart_by_quarter(df, 'Atendimentos', 'brasil')\n",
    "chart.show()"
   ]
  },
  {
   "cell_type": "code",
   "execution_count": 14,
   "metadata": {},
   "outputs": [
    {
     "name": "stderr",
     "output_type": "stream",
     "text": [
      " This problem is unconstrained.\n"
     ]
    },
    {
     "name": "stdout",
     "output_type": "stream",
     "text": [
      "RUNNING THE L-BFGS-B CODE\n",
      "\n",
      "           * * *\n",
      "\n",
      "Machine precision = 2.220D-16\n",
      " N =            5     M =           10\n",
      "\n",
      "At X0         0 variables are exactly at the bounds\n",
      "\n",
      "At iterate    0    f=  1.45761D+01    |proj g|=  3.36428D-02\n",
      "\n",
      "At iterate    5    f=  1.45566D+01    |proj g|=  9.17510D-02\n",
      "\n",
      "At iterate   10    f=  1.45332D+01    |proj g|=  2.52341D-03\n",
      "\n",
      "At iterate   15    f=  1.45331D+01    |proj g|=  1.76163D-05\n",
      "\n",
      "           * * *\n",
      "\n",
      "Tit   = total number of iterations\n",
      "Tnf   = total number of function evaluations\n",
      "Tnint = total number of segments explored during Cauchy searches\n",
      "Skip  = number of BFGS updates skipped\n",
      "Nact  = number of active bounds at final generalized Cauchy point\n",
      "Projg = norm of the final projected gradient\n",
      "F     = final function value\n",
      "\n",
      "           * * *\n",
      "\n",
      "   N    Tit     Tnf  Tnint  Skip  Nact     Projg        F\n",
      "    5     15     17      1     0     0   1.762D-05   1.453D+01\n",
      "  F =   14.533053094136291     \n",
      "\n",
      "CONVERGENCE: REL_REDUCTION_OF_F_<=_FACTR*EPSMCH             \n"
     ]
    },
    {
     "data": {
      "application/vnd.plotly.v1+json": {
       "config": {
        "plotlyServerURL": "https://plot.ly"
       },
       "data": [
        {
         "alignmentgroup": "True",
         "hoverlabel": {
          "bgcolor": "#FFFFFF",
          "font": {
           "color": "#343A40",
           "size": 12
          }
         },
         "hovertemplate": "<b>%{y:,.0f}</b><br>Atendimentos em %{x}<extra></extra>",
         "legendgroup": "",
         "marker": {
          "color": "#632956",
          "pattern": {
           "shape": ""
          }
         },
         "name": "",
         "offsetgroup": "",
         "orientation": "v",
         "showlegend": false,
         "textposition": "outside",
         "texttemplate": "%{y:.2s}",
         "type": "bar",
         "x": [
          "T4/2021",
          "T1/2022",
          "T2/2022",
          "T3/2022",
          "T4/2022",
          "T1/2023",
          "T2/2023",
          "T3/2023",
          "T4/2023",
          "T1/2024",
          "T2/2024",
          "T3/2024"
         ],
         "xaxis": "x",
         "y": [
          59877085,
          66663425,
          72487341,
          78582799,
          72116756,
          78798294,
          87688978,
          88413648,
          82196154,
          84369588,
          95275638,
          30187772
         ],
         "yaxis": "y"
        },
        {
         "hoverlabel": {
          "bgcolor": "#FFFFFF",
          "font": {
           "color": "#343A40",
           "size": 12
          }
         },
         "hovertemplate": "<b>%{y:,.0f}</b><br>Previsão para o %{x}<extra></extra>",
         "line": {
          "color": "#632956",
          "dash": "dash",
          "width": 2
         },
         "mode": "lines+markers+text",
         "name": "Previsão",
         "text": [
          "93",
          "88"
         ],
         "textposition": "top center",
         "type": "scatter",
         "x": [
          "T3/2024",
          "T4/2024"
         ],
         "y": [
          "93380448.8225596",
          "88779578.72054124"
         ]
        }
       ],
       "layout": {
        "barmode": "relative",
        "legend": {
         "tracegroupgap": 0
        },
        "margin": {
         "b": 40,
         "l": 35,
         "r": 35,
         "t": 60
        },
        "plot_bgcolor": "#FFFFFF",
        "template": {
         "data": {
          "bar": [
           {
            "error_x": {
             "color": "#2a3f5f"
            },
            "error_y": {
             "color": "#2a3f5f"
            },
            "marker": {
             "line": {
              "color": "#E5ECF6",
              "width": 0.5
             },
             "pattern": {
              "fillmode": "overlay",
              "size": 10,
              "solidity": 0.2
             }
            },
            "type": "bar"
           }
          ],
          "barpolar": [
           {
            "marker": {
             "line": {
              "color": "#E5ECF6",
              "width": 0.5
             },
             "pattern": {
              "fillmode": "overlay",
              "size": 10,
              "solidity": 0.2
             }
            },
            "type": "barpolar"
           }
          ],
          "carpet": [
           {
            "aaxis": {
             "endlinecolor": "#2a3f5f",
             "gridcolor": "white",
             "linecolor": "white",
             "minorgridcolor": "white",
             "startlinecolor": "#2a3f5f"
            },
            "baxis": {
             "endlinecolor": "#2a3f5f",
             "gridcolor": "white",
             "linecolor": "white",
             "minorgridcolor": "white",
             "startlinecolor": "#2a3f5f"
            },
            "type": "carpet"
           }
          ],
          "choropleth": [
           {
            "colorbar": {
             "outlinewidth": 0,
             "ticks": ""
            },
            "type": "choropleth"
           }
          ],
          "contour": [
           {
            "colorbar": {
             "outlinewidth": 0,
             "ticks": ""
            },
            "colorscale": [
             [
              0,
              "#0d0887"
             ],
             [
              0.1111111111111111,
              "#46039f"
             ],
             [
              0.2222222222222222,
              "#7201a8"
             ],
             [
              0.3333333333333333,
              "#9c179e"
             ],
             [
              0.4444444444444444,
              "#bd3786"
             ],
             [
              0.5555555555555556,
              "#d8576b"
             ],
             [
              0.6666666666666666,
              "#ed7953"
             ],
             [
              0.7777777777777778,
              "#fb9f3a"
             ],
             [
              0.8888888888888888,
              "#fdca26"
             ],
             [
              1,
              "#f0f921"
             ]
            ],
            "type": "contour"
           }
          ],
          "contourcarpet": [
           {
            "colorbar": {
             "outlinewidth": 0,
             "ticks": ""
            },
            "type": "contourcarpet"
           }
          ],
          "heatmap": [
           {
            "colorbar": {
             "outlinewidth": 0,
             "ticks": ""
            },
            "colorscale": [
             [
              0,
              "#0d0887"
             ],
             [
              0.1111111111111111,
              "#46039f"
             ],
             [
              0.2222222222222222,
              "#7201a8"
             ],
             [
              0.3333333333333333,
              "#9c179e"
             ],
             [
              0.4444444444444444,
              "#bd3786"
             ],
             [
              0.5555555555555556,
              "#d8576b"
             ],
             [
              0.6666666666666666,
              "#ed7953"
             ],
             [
              0.7777777777777778,
              "#fb9f3a"
             ],
             [
              0.8888888888888888,
              "#fdca26"
             ],
             [
              1,
              "#f0f921"
             ]
            ],
            "type": "heatmap"
           }
          ],
          "heatmapgl": [
           {
            "colorbar": {
             "outlinewidth": 0,
             "ticks": ""
            },
            "colorscale": [
             [
              0,
              "#0d0887"
             ],
             [
              0.1111111111111111,
              "#46039f"
             ],
             [
              0.2222222222222222,
              "#7201a8"
             ],
             [
              0.3333333333333333,
              "#9c179e"
             ],
             [
              0.4444444444444444,
              "#bd3786"
             ],
             [
              0.5555555555555556,
              "#d8576b"
             ],
             [
              0.6666666666666666,
              "#ed7953"
             ],
             [
              0.7777777777777778,
              "#fb9f3a"
             ],
             [
              0.8888888888888888,
              "#fdca26"
             ],
             [
              1,
              "#f0f921"
             ]
            ],
            "type": "heatmapgl"
           }
          ],
          "histogram": [
           {
            "marker": {
             "pattern": {
              "fillmode": "overlay",
              "size": 10,
              "solidity": 0.2
             }
            },
            "type": "histogram"
           }
          ],
          "histogram2d": [
           {
            "colorbar": {
             "outlinewidth": 0,
             "ticks": ""
            },
            "colorscale": [
             [
              0,
              "#0d0887"
             ],
             [
              0.1111111111111111,
              "#46039f"
             ],
             [
              0.2222222222222222,
              "#7201a8"
             ],
             [
              0.3333333333333333,
              "#9c179e"
             ],
             [
              0.4444444444444444,
              "#bd3786"
             ],
             [
              0.5555555555555556,
              "#d8576b"
             ],
             [
              0.6666666666666666,
              "#ed7953"
             ],
             [
              0.7777777777777778,
              "#fb9f3a"
             ],
             [
              0.8888888888888888,
              "#fdca26"
             ],
             [
              1,
              "#f0f921"
             ]
            ],
            "type": "histogram2d"
           }
          ],
          "histogram2dcontour": [
           {
            "colorbar": {
             "outlinewidth": 0,
             "ticks": ""
            },
            "colorscale": [
             [
              0,
              "#0d0887"
             ],
             [
              0.1111111111111111,
              "#46039f"
             ],
             [
              0.2222222222222222,
              "#7201a8"
             ],
             [
              0.3333333333333333,
              "#9c179e"
             ],
             [
              0.4444444444444444,
              "#bd3786"
             ],
             [
              0.5555555555555556,
              "#d8576b"
             ],
             [
              0.6666666666666666,
              "#ed7953"
             ],
             [
              0.7777777777777778,
              "#fb9f3a"
             ],
             [
              0.8888888888888888,
              "#fdca26"
             ],
             [
              1,
              "#f0f921"
             ]
            ],
            "type": "histogram2dcontour"
           }
          ],
          "mesh3d": [
           {
            "colorbar": {
             "outlinewidth": 0,
             "ticks": ""
            },
            "type": "mesh3d"
           }
          ],
          "parcoords": [
           {
            "line": {
             "colorbar": {
              "outlinewidth": 0,
              "ticks": ""
             }
            },
            "type": "parcoords"
           }
          ],
          "pie": [
           {
            "automargin": true,
            "type": "pie"
           }
          ],
          "scatter": [
           {
            "fillpattern": {
             "fillmode": "overlay",
             "size": 10,
             "solidity": 0.2
            },
            "type": "scatter"
           }
          ],
          "scatter3d": [
           {
            "line": {
             "colorbar": {
              "outlinewidth": 0,
              "ticks": ""
             }
            },
            "marker": {
             "colorbar": {
              "outlinewidth": 0,
              "ticks": ""
             }
            },
            "type": "scatter3d"
           }
          ],
          "scattercarpet": [
           {
            "marker": {
             "colorbar": {
              "outlinewidth": 0,
              "ticks": ""
             }
            },
            "type": "scattercarpet"
           }
          ],
          "scattergeo": [
           {
            "marker": {
             "colorbar": {
              "outlinewidth": 0,
              "ticks": ""
             }
            },
            "type": "scattergeo"
           }
          ],
          "scattergl": [
           {
            "marker": {
             "colorbar": {
              "outlinewidth": 0,
              "ticks": ""
             }
            },
            "type": "scattergl"
           }
          ],
          "scattermapbox": [
           {
            "marker": {
             "colorbar": {
              "outlinewidth": 0,
              "ticks": ""
             }
            },
            "type": "scattermapbox"
           }
          ],
          "scatterpolar": [
           {
            "marker": {
             "colorbar": {
              "outlinewidth": 0,
              "ticks": ""
             }
            },
            "type": "scatterpolar"
           }
          ],
          "scatterpolargl": [
           {
            "marker": {
             "colorbar": {
              "outlinewidth": 0,
              "ticks": ""
             }
            },
            "type": "scatterpolargl"
           }
          ],
          "scatterternary": [
           {
            "marker": {
             "colorbar": {
              "outlinewidth": 0,
              "ticks": ""
             }
            },
            "type": "scatterternary"
           }
          ],
          "surface": [
           {
            "colorbar": {
             "outlinewidth": 0,
             "ticks": ""
            },
            "colorscale": [
             [
              0,
              "#0d0887"
             ],
             [
              0.1111111111111111,
              "#46039f"
             ],
             [
              0.2222222222222222,
              "#7201a8"
             ],
             [
              0.3333333333333333,
              "#9c179e"
             ],
             [
              0.4444444444444444,
              "#bd3786"
             ],
             [
              0.5555555555555556,
              "#d8576b"
             ],
             [
              0.6666666666666666,
              "#ed7953"
             ],
             [
              0.7777777777777778,
              "#fb9f3a"
             ],
             [
              0.8888888888888888,
              "#fdca26"
             ],
             [
              1,
              "#f0f921"
             ]
            ],
            "type": "surface"
           }
          ],
          "table": [
           {
            "cells": {
             "fill": {
              "color": "#EBF0F8"
             },
             "line": {
              "color": "white"
             }
            },
            "header": {
             "fill": {
              "color": "#C8D4E3"
             },
             "line": {
              "color": "white"
             }
            },
            "type": "table"
           }
          ]
         },
         "layout": {
          "annotationdefaults": {
           "arrowcolor": "#2a3f5f",
           "arrowhead": 0,
           "arrowwidth": 1
          },
          "autotypenumbers": "strict",
          "coloraxis": {
           "colorbar": {
            "outlinewidth": 0,
            "ticks": ""
           }
          },
          "colorscale": {
           "diverging": [
            [
             0,
             "#8e0152"
            ],
            [
             0.1,
             "#c51b7d"
            ],
            [
             0.2,
             "#de77ae"
            ],
            [
             0.3,
             "#f1b6da"
            ],
            [
             0.4,
             "#fde0ef"
            ],
            [
             0.5,
             "#f7f7f7"
            ],
            [
             0.6,
             "#e6f5d0"
            ],
            [
             0.7,
             "#b8e186"
            ],
            [
             0.8,
             "#7fbc41"
            ],
            [
             0.9,
             "#4d9221"
            ],
            [
             1,
             "#276419"
            ]
           ],
           "sequential": [
            [
             0,
             "#0d0887"
            ],
            [
             0.1111111111111111,
             "#46039f"
            ],
            [
             0.2222222222222222,
             "#7201a8"
            ],
            [
             0.3333333333333333,
             "#9c179e"
            ],
            [
             0.4444444444444444,
             "#bd3786"
            ],
            [
             0.5555555555555556,
             "#d8576b"
            ],
            [
             0.6666666666666666,
             "#ed7953"
            ],
            [
             0.7777777777777778,
             "#fb9f3a"
            ],
            [
             0.8888888888888888,
             "#fdca26"
            ],
            [
             1,
             "#f0f921"
            ]
           ],
           "sequentialminus": [
            [
             0,
             "#0d0887"
            ],
            [
             0.1111111111111111,
             "#46039f"
            ],
            [
             0.2222222222222222,
             "#7201a8"
            ],
            [
             0.3333333333333333,
             "#9c179e"
            ],
            [
             0.4444444444444444,
             "#bd3786"
            ],
            [
             0.5555555555555556,
             "#d8576b"
            ],
            [
             0.6666666666666666,
             "#ed7953"
            ],
            [
             0.7777777777777778,
             "#fb9f3a"
            ],
            [
             0.8888888888888888,
             "#fdca26"
            ],
            [
             1,
             "#f0f921"
            ]
           ]
          },
          "colorway": [
           "#636efa",
           "#EF553B",
           "#00cc96",
           "#ab63fa",
           "#FFA15A",
           "#19d3f3",
           "#FF6692",
           "#B6E880",
           "#FF97FF",
           "#FECB52"
          ],
          "font": {
           "color": "#2a3f5f"
          },
          "geo": {
           "bgcolor": "white",
           "lakecolor": "white",
           "landcolor": "#E5ECF6",
           "showlakes": true,
           "showland": true,
           "subunitcolor": "white"
          },
          "hoverlabel": {
           "align": "left"
          },
          "hovermode": "closest",
          "mapbox": {
           "style": "light"
          },
          "paper_bgcolor": "white",
          "plot_bgcolor": "#E5ECF6",
          "polar": {
           "angularaxis": {
            "gridcolor": "white",
            "linecolor": "white",
            "ticks": ""
           },
           "bgcolor": "#E5ECF6",
           "radialaxis": {
            "gridcolor": "white",
            "linecolor": "white",
            "ticks": ""
           }
          },
          "scene": {
           "xaxis": {
            "backgroundcolor": "#E5ECF6",
            "gridcolor": "white",
            "gridwidth": 2,
            "linecolor": "white",
            "showbackground": true,
            "ticks": "",
            "zerolinecolor": "white"
           },
           "yaxis": {
            "backgroundcolor": "#E5ECF6",
            "gridcolor": "white",
            "gridwidth": 2,
            "linecolor": "white",
            "showbackground": true,
            "ticks": "",
            "zerolinecolor": "white"
           },
           "zaxis": {
            "backgroundcolor": "#E5ECF6",
            "gridcolor": "white",
            "gridwidth": 2,
            "linecolor": "white",
            "showbackground": true,
            "ticks": "",
            "zerolinecolor": "white"
           }
          },
          "shapedefaults": {
           "line": {
            "color": "#2a3f5f"
           }
          },
          "ternary": {
           "aaxis": {
            "gridcolor": "white",
            "linecolor": "white",
            "ticks": ""
           },
           "baxis": {
            "gridcolor": "white",
            "linecolor": "white",
            "ticks": ""
           },
           "bgcolor": "#E5ECF6",
           "caxis": {
            "gridcolor": "white",
            "linecolor": "white",
            "ticks": ""
           }
          },
          "title": {
           "x": 0.05
          },
          "xaxis": {
           "automargin": true,
           "gridcolor": "white",
           "linecolor": "white",
           "ticks": "",
           "title": {
            "standoff": 15
           },
           "zerolinecolor": "white",
           "zerolinewidth": 2
          },
          "yaxis": {
           "automargin": true,
           "gridcolor": "white",
           "linecolor": "white",
           "ticks": "",
           "title": {
            "standoff": 15
           },
           "zerolinecolor": "white",
           "zerolinewidth": 2
          }
         }
        },
        "title": {
         "text": "Atendimentos por Trimestre"
        },
        "xaxis": {
         "anchor": "y",
         "domain": [
          0,
          1
         ],
         "title": {}
        },
        "yaxis": {
         "anchor": "x",
         "domain": [
          0,
          1
         ],
         "showticklabels": false,
         "title": {}
        }
       }
      },
      "text/html": [
       "<div>                            <div id=\"6f68a1de-2d43-441d-85d0-21c00c67561b\" class=\"plotly-graph-div\" style=\"height:525px; width:100%;\"></div>            <script type=\"text/javascript\">                require([\"plotly\"], function(Plotly) {                    window.PLOTLYENV=window.PLOTLYENV || {};                                    if (document.getElementById(\"6f68a1de-2d43-441d-85d0-21c00c67561b\")) {                    Plotly.newPlot(                        \"6f68a1de-2d43-441d-85d0-21c00c67561b\",                        [{\"alignmentgroup\":\"True\",\"hovertemplate\":\"\\u003cb\\u003e%{y:,.0f}\\u003c\\u002fb\\u003e\\u003cbr\\u003eAtendimentos em %{x}\\u003cextra\\u003e\\u003c\\u002fextra\\u003e\",\"legendgroup\":\"\",\"marker\":{\"color\":\"#632956\",\"pattern\":{\"shape\":\"\"}},\"name\":\"\",\"offsetgroup\":\"\",\"orientation\":\"v\",\"showlegend\":false,\"textposition\":\"outside\",\"texttemplate\":\"%{y:.2s}\",\"x\":[\"T4\\u002f2021\",\"T1\\u002f2022\",\"T2\\u002f2022\",\"T3\\u002f2022\",\"T4\\u002f2022\",\"T1\\u002f2023\",\"T2\\u002f2023\",\"T3\\u002f2023\",\"T4\\u002f2023\",\"T1\\u002f2024\",\"T2\\u002f2024\",\"T3\\u002f2024\"],\"xaxis\":\"x\",\"y\":[59877085,66663425,72487341,78582799,72116756,78798294,87688978,88413648,82196154,84369588,95275638,30187772],\"yaxis\":\"y\",\"type\":\"bar\",\"hoverlabel\":{\"font\":{\"color\":\"#343A40\",\"size\":12},\"bgcolor\":\"#FFFFFF\"}},{\"hoverlabel\":{\"bgcolor\":\"#FFFFFF\",\"font\":{\"color\":\"#343A40\",\"size\":12}},\"hovertemplate\":\"\\u003cb\\u003e%{y:,.0f}\\u003c\\u002fb\\u003e\\u003cbr\\u003ePrevisão para o %{x}\\u003cextra\\u003e\\u003c\\u002fextra\\u003e\",\"line\":{\"color\":\"#632956\",\"dash\":\"dash\",\"width\":2},\"mode\":\"lines+markers+text\",\"name\":\"Previsão\",\"text\":[\"93\",\"88\"],\"textposition\":\"top center\",\"x\":[\"T3\\u002f2024\",\"T4\\u002f2024\"],\"y\":[\"93380448.8225596\",\"88779578.72054124\"],\"type\":\"scatter\"}],                        {\"template\":{\"data\":{\"histogram2dcontour\":[{\"type\":\"histogram2dcontour\",\"colorbar\":{\"outlinewidth\":0,\"ticks\":\"\"},\"colorscale\":[[0.0,\"#0d0887\"],[0.1111111111111111,\"#46039f\"],[0.2222222222222222,\"#7201a8\"],[0.3333333333333333,\"#9c179e\"],[0.4444444444444444,\"#bd3786\"],[0.5555555555555556,\"#d8576b\"],[0.6666666666666666,\"#ed7953\"],[0.7777777777777778,\"#fb9f3a\"],[0.8888888888888888,\"#fdca26\"],[1.0,\"#f0f921\"]]}],\"choropleth\":[{\"type\":\"choropleth\",\"colorbar\":{\"outlinewidth\":0,\"ticks\":\"\"}}],\"histogram2d\":[{\"type\":\"histogram2d\",\"colorbar\":{\"outlinewidth\":0,\"ticks\":\"\"},\"colorscale\":[[0.0,\"#0d0887\"],[0.1111111111111111,\"#46039f\"],[0.2222222222222222,\"#7201a8\"],[0.3333333333333333,\"#9c179e\"],[0.4444444444444444,\"#bd3786\"],[0.5555555555555556,\"#d8576b\"],[0.6666666666666666,\"#ed7953\"],[0.7777777777777778,\"#fb9f3a\"],[0.8888888888888888,\"#fdca26\"],[1.0,\"#f0f921\"]]}],\"heatmap\":[{\"type\":\"heatmap\",\"colorbar\":{\"outlinewidth\":0,\"ticks\":\"\"},\"colorscale\":[[0.0,\"#0d0887\"],[0.1111111111111111,\"#46039f\"],[0.2222222222222222,\"#7201a8\"],[0.3333333333333333,\"#9c179e\"],[0.4444444444444444,\"#bd3786\"],[0.5555555555555556,\"#d8576b\"],[0.6666666666666666,\"#ed7953\"],[0.7777777777777778,\"#fb9f3a\"],[0.8888888888888888,\"#fdca26\"],[1.0,\"#f0f921\"]]}],\"heatmapgl\":[{\"type\":\"heatmapgl\",\"colorbar\":{\"outlinewidth\":0,\"ticks\":\"\"},\"colorscale\":[[0.0,\"#0d0887\"],[0.1111111111111111,\"#46039f\"],[0.2222222222222222,\"#7201a8\"],[0.3333333333333333,\"#9c179e\"],[0.4444444444444444,\"#bd3786\"],[0.5555555555555556,\"#d8576b\"],[0.6666666666666666,\"#ed7953\"],[0.7777777777777778,\"#fb9f3a\"],[0.8888888888888888,\"#fdca26\"],[1.0,\"#f0f921\"]]}],\"contourcarpet\":[{\"type\":\"contourcarpet\",\"colorbar\":{\"outlinewidth\":0,\"ticks\":\"\"}}],\"contour\":[{\"type\":\"contour\",\"colorbar\":{\"outlinewidth\":0,\"ticks\":\"\"},\"colorscale\":[[0.0,\"#0d0887\"],[0.1111111111111111,\"#46039f\"],[0.2222222222222222,\"#7201a8\"],[0.3333333333333333,\"#9c179e\"],[0.4444444444444444,\"#bd3786\"],[0.5555555555555556,\"#d8576b\"],[0.6666666666666666,\"#ed7953\"],[0.7777777777777778,\"#fb9f3a\"],[0.8888888888888888,\"#fdca26\"],[1.0,\"#f0f921\"]]}],\"surface\":[{\"type\":\"surface\",\"colorbar\":{\"outlinewidth\":0,\"ticks\":\"\"},\"colorscale\":[[0.0,\"#0d0887\"],[0.1111111111111111,\"#46039f\"],[0.2222222222222222,\"#7201a8\"],[0.3333333333333333,\"#9c179e\"],[0.4444444444444444,\"#bd3786\"],[0.5555555555555556,\"#d8576b\"],[0.6666666666666666,\"#ed7953\"],[0.7777777777777778,\"#fb9f3a\"],[0.8888888888888888,\"#fdca26\"],[1.0,\"#f0f921\"]]}],\"mesh3d\":[{\"type\":\"mesh3d\",\"colorbar\":{\"outlinewidth\":0,\"ticks\":\"\"}}],\"scatter\":[{\"fillpattern\":{\"fillmode\":\"overlay\",\"size\":10,\"solidity\":0.2},\"type\":\"scatter\"}],\"parcoords\":[{\"type\":\"parcoords\",\"line\":{\"colorbar\":{\"outlinewidth\":0,\"ticks\":\"\"}}}],\"scatterpolargl\":[{\"type\":\"scatterpolargl\",\"marker\":{\"colorbar\":{\"outlinewidth\":0,\"ticks\":\"\"}}}],\"bar\":[{\"error_x\":{\"color\":\"#2a3f5f\"},\"error_y\":{\"color\":\"#2a3f5f\"},\"marker\":{\"line\":{\"color\":\"#E5ECF6\",\"width\":0.5},\"pattern\":{\"fillmode\":\"overlay\",\"size\":10,\"solidity\":0.2}},\"type\":\"bar\"}],\"scattergeo\":[{\"type\":\"scattergeo\",\"marker\":{\"colorbar\":{\"outlinewidth\":0,\"ticks\":\"\"}}}],\"scatterpolar\":[{\"type\":\"scatterpolar\",\"marker\":{\"colorbar\":{\"outlinewidth\":0,\"ticks\":\"\"}}}],\"histogram\":[{\"marker\":{\"pattern\":{\"fillmode\":\"overlay\",\"size\":10,\"solidity\":0.2}},\"type\":\"histogram\"}],\"scattergl\":[{\"type\":\"scattergl\",\"marker\":{\"colorbar\":{\"outlinewidth\":0,\"ticks\":\"\"}}}],\"scatter3d\":[{\"type\":\"scatter3d\",\"line\":{\"colorbar\":{\"outlinewidth\":0,\"ticks\":\"\"}},\"marker\":{\"colorbar\":{\"outlinewidth\":0,\"ticks\":\"\"}}}],\"scattermapbox\":[{\"type\":\"scattermapbox\",\"marker\":{\"colorbar\":{\"outlinewidth\":0,\"ticks\":\"\"}}}],\"scatterternary\":[{\"type\":\"scatterternary\",\"marker\":{\"colorbar\":{\"outlinewidth\":0,\"ticks\":\"\"}}}],\"scattercarpet\":[{\"type\":\"scattercarpet\",\"marker\":{\"colorbar\":{\"outlinewidth\":0,\"ticks\":\"\"}}}],\"carpet\":[{\"aaxis\":{\"endlinecolor\":\"#2a3f5f\",\"gridcolor\":\"white\",\"linecolor\":\"white\",\"minorgridcolor\":\"white\",\"startlinecolor\":\"#2a3f5f\"},\"baxis\":{\"endlinecolor\":\"#2a3f5f\",\"gridcolor\":\"white\",\"linecolor\":\"white\",\"minorgridcolor\":\"white\",\"startlinecolor\":\"#2a3f5f\"},\"type\":\"carpet\"}],\"table\":[{\"cells\":{\"fill\":{\"color\":\"#EBF0F8\"},\"line\":{\"color\":\"white\"}},\"header\":{\"fill\":{\"color\":\"#C8D4E3\"},\"line\":{\"color\":\"white\"}},\"type\":\"table\"}],\"barpolar\":[{\"marker\":{\"line\":{\"color\":\"#E5ECF6\",\"width\":0.5},\"pattern\":{\"fillmode\":\"overlay\",\"size\":10,\"solidity\":0.2}},\"type\":\"barpolar\"}],\"pie\":[{\"automargin\":true,\"type\":\"pie\"}]},\"layout\":{\"autotypenumbers\":\"strict\",\"colorway\":[\"#636efa\",\"#EF553B\",\"#00cc96\",\"#ab63fa\",\"#FFA15A\",\"#19d3f3\",\"#FF6692\",\"#B6E880\",\"#FF97FF\",\"#FECB52\"],\"font\":{\"color\":\"#2a3f5f\"},\"hovermode\":\"closest\",\"hoverlabel\":{\"align\":\"left\"},\"paper_bgcolor\":\"white\",\"plot_bgcolor\":\"#E5ECF6\",\"polar\":{\"bgcolor\":\"#E5ECF6\",\"angularaxis\":{\"gridcolor\":\"white\",\"linecolor\":\"white\",\"ticks\":\"\"},\"radialaxis\":{\"gridcolor\":\"white\",\"linecolor\":\"white\",\"ticks\":\"\"}},\"ternary\":{\"bgcolor\":\"#E5ECF6\",\"aaxis\":{\"gridcolor\":\"white\",\"linecolor\":\"white\",\"ticks\":\"\"},\"baxis\":{\"gridcolor\":\"white\",\"linecolor\":\"white\",\"ticks\":\"\"},\"caxis\":{\"gridcolor\":\"white\",\"linecolor\":\"white\",\"ticks\":\"\"}},\"coloraxis\":{\"colorbar\":{\"outlinewidth\":0,\"ticks\":\"\"}},\"colorscale\":{\"sequential\":[[0.0,\"#0d0887\"],[0.1111111111111111,\"#46039f\"],[0.2222222222222222,\"#7201a8\"],[0.3333333333333333,\"#9c179e\"],[0.4444444444444444,\"#bd3786\"],[0.5555555555555556,\"#d8576b\"],[0.6666666666666666,\"#ed7953\"],[0.7777777777777778,\"#fb9f3a\"],[0.8888888888888888,\"#fdca26\"],[1.0,\"#f0f921\"]],\"sequentialminus\":[[0.0,\"#0d0887\"],[0.1111111111111111,\"#46039f\"],[0.2222222222222222,\"#7201a8\"],[0.3333333333333333,\"#9c179e\"],[0.4444444444444444,\"#bd3786\"],[0.5555555555555556,\"#d8576b\"],[0.6666666666666666,\"#ed7953\"],[0.7777777777777778,\"#fb9f3a\"],[0.8888888888888888,\"#fdca26\"],[1.0,\"#f0f921\"]],\"diverging\":[[0,\"#8e0152\"],[0.1,\"#c51b7d\"],[0.2,\"#de77ae\"],[0.3,\"#f1b6da\"],[0.4,\"#fde0ef\"],[0.5,\"#f7f7f7\"],[0.6,\"#e6f5d0\"],[0.7,\"#b8e186\"],[0.8,\"#7fbc41\"],[0.9,\"#4d9221\"],[1,\"#276419\"]]},\"xaxis\":{\"gridcolor\":\"white\",\"linecolor\":\"white\",\"ticks\":\"\",\"title\":{\"standoff\":15},\"zerolinecolor\":\"white\",\"automargin\":true,\"zerolinewidth\":2},\"yaxis\":{\"gridcolor\":\"white\",\"linecolor\":\"white\",\"ticks\":\"\",\"title\":{\"standoff\":15},\"zerolinecolor\":\"white\",\"automargin\":true,\"zerolinewidth\":2},\"scene\":{\"xaxis\":{\"backgroundcolor\":\"#E5ECF6\",\"gridcolor\":\"white\",\"linecolor\":\"white\",\"showbackground\":true,\"ticks\":\"\",\"zerolinecolor\":\"white\",\"gridwidth\":2},\"yaxis\":{\"backgroundcolor\":\"#E5ECF6\",\"gridcolor\":\"white\",\"linecolor\":\"white\",\"showbackground\":true,\"ticks\":\"\",\"zerolinecolor\":\"white\",\"gridwidth\":2},\"zaxis\":{\"backgroundcolor\":\"#E5ECF6\",\"gridcolor\":\"white\",\"linecolor\":\"white\",\"showbackground\":true,\"ticks\":\"\",\"zerolinecolor\":\"white\",\"gridwidth\":2}},\"shapedefaults\":{\"line\":{\"color\":\"#2a3f5f\"}},\"annotationdefaults\":{\"arrowcolor\":\"#2a3f5f\",\"arrowhead\":0,\"arrowwidth\":1},\"geo\":{\"bgcolor\":\"white\",\"landcolor\":\"#E5ECF6\",\"subunitcolor\":\"white\",\"showland\":true,\"showlakes\":true,\"lakecolor\":\"white\"},\"title\":{\"x\":0.05},\"mapbox\":{\"style\":\"light\"}}},\"xaxis\":{\"anchor\":\"y\",\"domain\":[0.0,1.0],\"title\":{}},\"yaxis\":{\"anchor\":\"x\",\"domain\":[0.0,1.0],\"title\":{},\"showticklabels\":false},\"legend\":{\"tracegroupgap\":0},\"title\":{\"text\":\"Atendimentos por Trimestre\"},\"barmode\":\"relative\",\"margin\":{\"l\":35,\"r\":35,\"t\":60,\"b\":40},\"plot_bgcolor\":\"#FFFFFF\"},                        {\"responsive\": true}                    ).then(function(){\n",
       "                            \n",
       "var gd = document.getElementById('6f68a1de-2d43-441d-85d0-21c00c67561b');\n",
       "var x = new MutationObserver(function (mutations, observer) {{\n",
       "        var display = window.getComputedStyle(gd).display;\n",
       "        if (!display || display === 'none') {{\n",
       "            console.log([gd, 'removed!']);\n",
       "            Plotly.purge(gd);\n",
       "            observer.disconnect();\n",
       "        }}\n",
       "}});\n",
       "\n",
       "// Listen for the removal of the full notebook cells\n",
       "var notebookContainer = gd.closest('#notebook-container');\n",
       "if (notebookContainer) {{\n",
       "    x.observe(notebookContainer, {childList: true});\n",
       "}}\n",
       "\n",
       "// Listen for the clearing of the current output cell\n",
       "var outputEl = gd.closest('.output');\n",
       "if (outputEl) {{\n",
       "    x.observe(outputEl, {childList: true});\n",
       "}}\n",
       "\n",
       "                        })                };                });            </script>        </div>"
      ]
     },
     "metadata": {},
     "output_type": "display_data"
    }
   ],
   "source": [
    "from statsmodels.tsa.statespace.sarimax import SARIMAX\n",
    "import plotly.graph_objects as go\n",
    "import sys\n",
    "import os\n",
    "import contextlib\n",
    "\n",
    "\n",
    "# Função para suprimir a saída\n",
    "@contextlib.contextmanager\n",
    "def suppress_stdout_stderr():\n",
    "    with open(os.devnull, 'w') as devnull:\n",
    "        old_stdout = sys.stdout\n",
    "        old_stderr = sys.stderr\n",
    "        sys.stdout = devnull\n",
    "        sys.stderr = devnull\n",
    "        try:\n",
    "            yield\n",
    "        finally:\n",
    "            sys.stdout = old_stdout\n",
    "            sys.stderr = old_stderr\n",
    "\n",
    "\n",
    "def preprocess_data(df):\n",
    "    df_grouped = (\n",
    "        df.groupby([\"ano_trimestre\", \"ano\", \"trimestre\"], observed=True)[\n",
    "            \"valor\"\n",
    "        ]\n",
    "        .sum()\n",
    "        .reset_index()\n",
    "    )\n",
    "    df_grouped[\"ano_order\"] = df_grouped[\"ano\"].astype(str) + df_grouped[\n",
    "        \"trimestre\"\n",
    "    ].astype(str).str.replace(\"T\", \"\")\n",
    "    df_grouped = df_grouped.sort_values(\"ano_order\")\n",
    "    return df_grouped.tail(12)\n",
    "\n",
    "def create_bar_chart(df_filtered, title, type):\n",
    "    chart = px.bar(\n",
    "        df_filtered,\n",
    "        x=\"ano_trimestre\",\n",
    "        y=\"valor\",\n",
    "        text_auto=\".2s\",\n",
    "        title=f\"{title.capitalize()} por Trimestre\",\n",
    "    )\n",
    "    chart = update_layout_chart(chart, title, type)\n",
    "    return chart\n",
    "\n",
    "def preprocess_sarima_data(df):\n",
    "    df_grouped_mes = df.groupby([\"ano_trimestre\", \"ano\", \"trimestre\", \"mes\"], observed=True)[\n",
    "        \"valor\"\n",
    "    ].sum().reset_index().sort_values([\"ano\", \"mes\"])\n",
    "    df_grouped_mes.reset_index(drop=True, inplace=True)\n",
    "    return df_grouped_mes[:-1]  # Desconsiderar o último mês\n",
    "\n",
    "def fit_sarima_model(df_sarima):\n",
    "    with suppress_stdout_stderr():\n",
    "        model = SARIMAX(df_sarima['valor'], order=(1, 1, 1), seasonal_order=(1, 1, 1, 12))\n",
    "        results = model.fit()\n",
    "    return results.get_forecast(steps=6)\n",
    "\n",
    "def generate_forecast_dates(df_sarima):\n",
    "    last_year = df_sarima['ano'].max()\n",
    "    last_month = df_sarima[df_sarima['ano'] == last_year]['mes'].max()\n",
    "\n",
    "    forecast_month = []\n",
    "    forecast_year = []\n",
    "    for i in range(1, 7):\n",
    "        if last_month == 12:\n",
    "            last_month = 1\n",
    "            last_year += 1\n",
    "        else:\n",
    "            last_month += 1\n",
    "        forecast_month.append(last_month)\n",
    "        forecast_year.append(last_year)\n",
    "\n",
    "    forecast_trimestre = [trimestre_map_num[m] for m in forecast_month]\n",
    "    forecast_index = [f\"{t}/{y}\" for t, y in zip(forecast_trimestre, forecast_year)]\n",
    "    return forecast_index\n",
    "\n",
    "def create_forecast_df(forecast_index, forecast_values):\n",
    "    forecast_df = pd.DataFrame({'ano_trimestre': forecast_index, 'valor': forecast_values})\n",
    "    forecast_df = forecast_df.groupby(\"ano_trimestre\")[\"valor\"].sum().reset_index()\n",
    "    forecast_df['valor'] = forecast_df['valor'].astype(str)\n",
    "    return forecast_df\n",
    "\n",
    "def forecast_sarima(df):\n",
    "    df_sarima = preprocess_sarima_data(df)\n",
    "    forecast = fit_sarima_model(df_sarima)\n",
    "    forecast_index = generate_forecast_dates(df_sarima)\n",
    "    forecast_values = forecast.predicted_mean\n",
    "    return create_forecast_df(forecast_index, forecast_values)\n",
    "\n",
    "def add_forecast_to_chart(chart, forecast_df, type):\n",
    "    chart.add_trace(go.Scatter(\n",
    "        x=forecast_df['ano_trimestre'], \n",
    "        y=forecast_df['valor'], \n",
    "        mode='lines+markers+text',  \n",
    "        text=[f'{y:.2s}' for y in forecast_df['valor']],              \n",
    "        textposition='top center',   \n",
    "        name='Previsão',\n",
    "        line = dict(color=type_color_map.get(type, [None])[1], width=2, dash='dash'),\n",
    "        hovertemplate=f\"<b>%{{y:,.0f}}</b><br>Previsão para o %{{x}}<extra></extra>\",\n",
    "        hoverlabel=dict(bgcolor=\"#FFFFFF\", font_color=\"#343A40\", font_size=12),     \n",
    "    ))\n",
    "    return chart\n",
    "\n",
    "def get_chart_by_quarter(df, title, type):\n",
    "    df_filtered = preprocess_data(df)\n",
    "    chart = create_bar_chart(df_filtered, title, type)\n",
    "    forecast_df = forecast_sarima(df)\n",
    "    chart = add_forecast_to_chart(chart, forecast_df, type)\n",
    "    return chart\n",
    "\n",
    "chart = get_chart_by_quarter(df, 'Atendimentos', 'brasil')\n",
    "chart.show()"
   ]
  },
  {
   "cell_type": "code",
   "execution_count": null,
   "metadata": {},
   "outputs": [],
   "source": [
    "def preprocess_sarima_data(df):\n",
    "    df_grouped_mes = df.groupby([\"ano_trimestre\", \"ano\", \"trimestre\", \"mes\"], observed=True)[\n",
    "        \"valor\"\n",
    "    ].sum().reset_index().sort_values([\"ano\", \"mes\"])\n",
    "    df_grouped_mes.reset_index(drop=True, inplace=True)\n",
    "    return df_grouped_mes[:-1]  # Desconsiderar o último mês\n",
    "\n",
    "def fit_sarima_model(df_sarima):\n",
    "    model = SARIMAX(df_sarima['valor'], order=(1, 1, 1), seasonal_order=(1, 1, 1, 12))\n",
    "    results = model.fit()\n",
    "    return results.get_forecast(steps=6)\n",
    "\n",
    "def generate_forecast_dates(df_sarima):\n",
    "    last_year = df_sarima['ano'].max()\n",
    "    last_month = df_sarima[df_sarima['ano'] == last_year]['mes'].max()\n",
    "\n",
    "    forecast_month = []\n",
    "    forecast_year = []\n",
    "    for i in range(1, 7):\n",
    "        if last_month == 12:\n",
    "            last_month = 1\n",
    "            last_year += 1\n",
    "        else:\n",
    "            last_month += 1\n",
    "        forecast_month.append(last_month)\n",
    "        forecast_year.append(last_year)\n",
    "\n",
    "    forecast_trimestre = [trimestre_map_num[m] for m in forecast_month]\n",
    "    forecast_index = [f\"{t}/{y}\" for t, y in zip(forecast_trimestre, forecast_year)]\n",
    "    return forecast_index\n",
    "\n",
    "def create_forecast_df(forecast_index, forecast_values):\n",
    "    forecast_df = pd.DataFrame({'ano_trimestre': forecast_index, 'valor': forecast_values})\n",
    "    forecast_df = forecast_df.groupby(\"ano_trimestre\")[\"valor\"].sum().reset_index()\n",
    "    forecast_df['valor'] = forecast_df['valor'].astype(str)\n",
    "    return forecast_df\n",
    "\n",
    "def forecast_sarima(df):\n",
    "    df_sarima = preprocess_sarima_data(df)\n",
    "    forecast = fit_sarima_model(df_sarima)\n",
    "    forecast_index = generate_forecast_dates(df_sarima)\n",
    "    forecast_values = forecast.predicted_mean\n",
    "    return create_forecast_df(forecast_index, forecast_values)"
   ]
  },
  {
   "cell_type": "code",
   "execution_count": 148,
   "metadata": {},
   "outputs": [
    {
     "data": {
      "text/plain": [
       "'#632956'"
      ]
     },
     "execution_count": 148,
     "metadata": {},
     "output_type": "execute_result"
    }
   ],
   "source": [
    "type_color_map.get(type, [None])[1]"
   ]
  },
  {
   "cell_type": "code",
   "execution_count": 144,
   "metadata": {},
   "outputs": [
    {
     "data": {
      "text/html": [
       "<div>\n",
       "<style scoped>\n",
       "    .dataframe tbody tr th:only-of-type {\n",
       "        vertical-align: middle;\n",
       "    }\n",
       "\n",
       "    .dataframe tbody tr th {\n",
       "        vertical-align: top;\n",
       "    }\n",
       "\n",
       "    .dataframe thead th {\n",
       "        text-align: right;\n",
       "    }\n",
       "</style>\n",
       "<table border=\"1\" class=\"dataframe\">\n",
       "  <thead>\n",
       "    <tr style=\"text-align: right;\">\n",
       "      <th></th>\n",
       "      <th>ano_trimestre</th>\n",
       "      <th>ano</th>\n",
       "      <th>trimestre</th>\n",
       "      <th>mes</th>\n",
       "      <th>valor</th>\n",
       "    </tr>\n",
       "  </thead>\n",
       "  <tbody>\n",
       "    <tr>\n",
       "      <th>0</th>\n",
       "      <td>T2/2013</td>\n",
       "      <td>2013</td>\n",
       "      <td>T2</td>\n",
       "      <td>4</td>\n",
       "      <td>1244</td>\n",
       "    </tr>\n",
       "    <tr>\n",
       "      <th>1</th>\n",
       "      <td>T2/2013</td>\n",
       "      <td>2013</td>\n",
       "      <td>T2</td>\n",
       "      <td>5</td>\n",
       "      <td>591</td>\n",
       "    </tr>\n",
       "    <tr>\n",
       "      <th>2</th>\n",
       "      <td>T2/2013</td>\n",
       "      <td>2013</td>\n",
       "      <td>T2</td>\n",
       "      <td>6</td>\n",
       "      <td>2324</td>\n",
       "    </tr>\n",
       "    <tr>\n",
       "      <th>3</th>\n",
       "      <td>T3/2013</td>\n",
       "      <td>2013</td>\n",
       "      <td>T3</td>\n",
       "      <td>7</td>\n",
       "      <td>12591</td>\n",
       "    </tr>\n",
       "    <tr>\n",
       "      <th>4</th>\n",
       "      <td>T3/2013</td>\n",
       "      <td>2013</td>\n",
       "      <td>T3</td>\n",
       "      <td>8</td>\n",
       "      <td>19388</td>\n",
       "    </tr>\n",
       "    <tr>\n",
       "      <th>...</th>\n",
       "      <td>...</td>\n",
       "      <td>...</td>\n",
       "      <td>...</td>\n",
       "      <td>...</td>\n",
       "      <td>...</td>\n",
       "    </tr>\n",
       "    <tr>\n",
       "      <th>131</th>\n",
       "      <td>T1/2024</td>\n",
       "      <td>2024</td>\n",
       "      <td>T1</td>\n",
       "      <td>3</td>\n",
       "      <td>30701422</td>\n",
       "    </tr>\n",
       "    <tr>\n",
       "      <th>132</th>\n",
       "      <td>T2/2024</td>\n",
       "      <td>2024</td>\n",
       "      <td>T2</td>\n",
       "      <td>4</td>\n",
       "      <td>37395734</td>\n",
       "    </tr>\n",
       "    <tr>\n",
       "      <th>133</th>\n",
       "      <td>T2/2024</td>\n",
       "      <td>2024</td>\n",
       "      <td>T2</td>\n",
       "      <td>5</td>\n",
       "      <td>29362662</td>\n",
       "    </tr>\n",
       "    <tr>\n",
       "      <th>134</th>\n",
       "      <td>T2/2024</td>\n",
       "      <td>2024</td>\n",
       "      <td>T2</td>\n",
       "      <td>6</td>\n",
       "      <td>28517242</td>\n",
       "    </tr>\n",
       "    <tr>\n",
       "      <th>135</th>\n",
       "      <td>T3/2024</td>\n",
       "      <td>2024</td>\n",
       "      <td>T3</td>\n",
       "      <td>7</td>\n",
       "      <td>30187772</td>\n",
       "    </tr>\n",
       "  </tbody>\n",
       "</table>\n",
       "<p>136 rows × 5 columns</p>\n",
       "</div>"
      ],
      "text/plain": [
       "    ano_trimestre   ano trimestre  mes     valor\n",
       "0         T2/2013  2013        T2    4      1244\n",
       "1         T2/2013  2013        T2    5       591\n",
       "2         T2/2013  2013        T2    6      2324\n",
       "3         T3/2013  2013        T3    7     12591\n",
       "4         T3/2013  2013        T3    8     19388\n",
       "..            ...   ...       ...  ...       ...\n",
       "131       T1/2024  2024        T1    3  30701422\n",
       "132       T2/2024  2024        T2    4  37395734\n",
       "133       T2/2024  2024        T2    5  29362662\n",
       "134       T2/2024  2024        T2    6  28517242\n",
       "135       T3/2024  2024        T3    7  30187772\n",
       "\n",
       "[136 rows x 5 columns]"
      ]
     },
     "execution_count": 144,
     "metadata": {},
     "output_type": "execute_result"
    }
   ],
   "source": [
    "df_sarima = df.groupby([\"ano_trimestre\", \"ano\", \"trimestre\", \"mes\"], observed=True)[\"valor\"].sum().reset_index().sort_values([\"ano\", \"mes\"])\n",
    "df_sarima.reset_index(drop=True, inplace=True)\n",
    "df_sarima"
   ]
  },
  {
   "cell_type": "code",
   "execution_count": 8,
   "metadata": {},
   "outputs": [
    {
     "data": {
      "text/html": [
       "<div>\n",
       "<style scoped>\n",
       "    .dataframe tbody tr th:only-of-type {\n",
       "        vertical-align: middle;\n",
       "    }\n",
       "\n",
       "    .dataframe tbody tr th {\n",
       "        vertical-align: top;\n",
       "    }\n",
       "\n",
       "    .dataframe thead th {\n",
       "        text-align: right;\n",
       "    }\n",
       "</style>\n",
       "<table border=\"1\" class=\"dataframe\">\n",
       "  <thead>\n",
       "    <tr style=\"text-align: right;\">\n",
       "      <th></th>\n",
       "      <th>uf</th>\n",
       "      <th>cidade</th>\n",
       "      <th>ibge</th>\n",
       "      <th>regiao</th>\n",
       "      <th>no_regiao</th>\n",
       "    </tr>\n",
       "  </thead>\n",
       "  <tbody>\n",
       "    <tr>\n",
       "      <th>0</th>\n",
       "      <td>AC</td>\n",
       "      <td>Acrelândia</td>\n",
       "      <td>120001</td>\n",
       "      <td>12002</td>\n",
       "      <td>Baixo Acre e Purus</td>\n",
       "    </tr>\n",
       "    <tr>\n",
       "      <th>1</th>\n",
       "      <td>AC</td>\n",
       "      <td>Assis Brasil</td>\n",
       "      <td>120005</td>\n",
       "      <td>12001</td>\n",
       "      <td>Alto Acre</td>\n",
       "    </tr>\n",
       "    <tr>\n",
       "      <th>2</th>\n",
       "      <td>AC</td>\n",
       "      <td>Brasiléia</td>\n",
       "      <td>120010</td>\n",
       "      <td>12001</td>\n",
       "      <td>Alto Acre</td>\n",
       "    </tr>\n",
       "    <tr>\n",
       "      <th>3</th>\n",
       "      <td>AC</td>\n",
       "      <td>Bujari</td>\n",
       "      <td>120013</td>\n",
       "      <td>12002</td>\n",
       "      <td>Baixo Acre e Purus</td>\n",
       "    </tr>\n",
       "    <tr>\n",
       "      <th>4</th>\n",
       "      <td>AC</td>\n",
       "      <td>Capixaba</td>\n",
       "      <td>120017</td>\n",
       "      <td>12002</td>\n",
       "      <td>Baixo Acre e Purus</td>\n",
       "    </tr>\n",
       "  </tbody>\n",
       "</table>\n",
       "</div>"
      ],
      "text/plain": [
       "   uf        cidade    ibge  regiao            no_regiao\n",
       "0  AC    Acrelândia  120001   12002   Baixo Acre e Purus\n",
       "1  AC  Assis Brasil  120005   12001            Alto Acre\n",
       "2  AC     Brasiléia  120010   12001            Alto Acre\n",
       "3  AC        Bujari  120013   12002   Baixo Acre e Purus\n",
       "4  AC      Capixaba  120017   12002   Baixo Acre e Purus"
      ]
     },
     "execution_count": 8,
     "metadata": {},
     "output_type": "execute_result"
    }
   ],
   "source": [
    "import pandas as pd\n",
    "\n",
    "# Import the Excel file\n",
    "df_reg_mun = pd.read_excel('data/reg_mun.xlsx')\n",
    "\n",
    "# Display the first few rows of the dataframe\n",
    "df_reg_mun.head()"
   ]
  },
  {
   "cell_type": "code",
   "execution_count": 7,
   "metadata": {},
   "outputs": [
    {
     "data": {
      "text/html": [
       "<div>\n",
       "<style scoped>\n",
       "    .dataframe tbody tr th:only-of-type {\n",
       "        vertical-align: middle;\n",
       "    }\n",
       "\n",
       "    .dataframe tbody tr th {\n",
       "        vertical-align: top;\n",
       "    }\n",
       "\n",
       "    .dataframe thead th {\n",
       "        text-align: right;\n",
       "    }\n",
       "</style>\n",
       "<table border=\"1\" class=\"dataframe\">\n",
       "  <thead>\n",
       "    <tr style=\"text-align: right;\">\n",
       "      <th></th>\n",
       "      <th>Uf</th>\n",
       "      <th>IBGE</th>\n",
       "      <th>Municipio</th>\n",
       "      <th>Cadastros</th>\n",
       "      <th>Ano</th>\n",
       "    </tr>\n",
       "  </thead>\n",
       "  <tbody>\n",
       "    <tr>\n",
       "      <th>0</th>\n",
       "      <td>RO</td>\n",
       "      <td>110015</td>\n",
       "      <td>OURO PRETO DO OESTE</td>\n",
       "      <td>39901</td>\n",
       "      <td>2024</td>\n",
       "    </tr>\n",
       "    <tr>\n",
       "      <th>1</th>\n",
       "      <td>RO</td>\n",
       "      <td>110050</td>\n",
       "      <td>NOVO HORIZONTE DO OESTE</td>\n",
       "      <td>8608</td>\n",
       "      <td>2024</td>\n",
       "    </tr>\n",
       "    <tr>\n",
       "      <th>2</th>\n",
       "      <td>PR</td>\n",
       "      <td>410720</td>\n",
       "      <td>DOIS VIZINHOS</td>\n",
       "      <td>45748</td>\n",
       "      <td>2024</td>\n",
       "    </tr>\n",
       "    <tr>\n",
       "      <th>3</th>\n",
       "      <td>RS</td>\n",
       "      <td>430520</td>\n",
       "      <td>CERRO LARGO</td>\n",
       "      <td>13600</td>\n",
       "      <td>2024</td>\n",
       "    </tr>\n",
       "    <tr>\n",
       "      <th>4</th>\n",
       "      <td>RS</td>\n",
       "      <td>430580</td>\n",
       "      <td>CONSTANTINA</td>\n",
       "      <td>11228</td>\n",
       "      <td>2024</td>\n",
       "    </tr>\n",
       "  </tbody>\n",
       "</table>\n",
       "</div>"
      ],
      "text/plain": [
       "   Uf    IBGE                Municipio  Cadastros   Ano\n",
       "0  RO  110015      OURO PRETO DO OESTE      39901  2024\n",
       "1  RO  110050  NOVO HORIZONTE DO OESTE       8608  2024\n",
       "2  PR  410720            DOIS VIZINHOS      45748  2024\n",
       "3  RS  430520              CERRO LARGO      13600  2024\n",
       "4  RS  430580              CONSTANTINA      11228  2024"
      ]
     },
     "execution_count": 7,
     "metadata": {},
     "output_type": "execute_result"
    }
   ],
   "source": [
    "cadastros_df = pd.read_json('data/cadastros.json', orient='records')\n",
    "cadastros_df.head()"
   ]
  },
  {
   "cell_type": "code",
   "execution_count": 10,
   "metadata": {
    "vscode": {
     "languageId": "ruby"
    }
   },
   "outputs": [
    {
     "name": "stdout",
     "output_type": "stream",
     "text": [
      "   Uf    IBGE              Municipio  Cadastros   Ano\n",
      "0  RO  110001  ALTA FLORESTA D'OESTE      23902  2024\n",
      "1  RO  110002              ARIQUEMES      95630  2024\n",
      "2  RO  110003                 CABIXI       6284  2024\n",
      "3  RO  110004                 CACOAL      84637  2024\n",
      "4  RO  110005             CEREJEIRAS      19663  2024\n",
      "   uf                 cidade    ibge  regiao        no_regiao\n",
      "0  RO  Alta Floresta D'oeste  110001   11005     Zona da Mata\n",
      "1  RO              Ariquemes  110002   11001   Vale do Jamari\n",
      "2  RO                 Cabixi  110003   11006         Cone Sul\n",
      "3  RO                 Cacoal  110004   11002             Café\n",
      "4  RO             Cerejeiras  110005   11006         Cone Sul\n"
     ]
    }
   ],
   "source": [
    "# Ordenar cadastros_df pelo campo 'IBGE'\n",
    "cadastros_df = cadastros_df.sort_values(by='IBGE').reset_index(drop=True)\n",
    "\n",
    "# Ordenar df_reg_mun pelo campo 'ibge'\n",
    "df_reg_mun = df_reg_mun.sort_values(by='ibge').reset_index(drop=True)\n",
    "\n",
    "print(cadastros_df.head())\n",
    "print(df_reg_mun.head())"
   ]
  },
  {
   "cell_type": "code",
   "execution_count": 11,
   "metadata": {},
   "outputs": [
    {
     "data": {
      "text/html": [
       "<div>\n",
       "<style scoped>\n",
       "    .dataframe tbody tr th:only-of-type {\n",
       "        vertical-align: middle;\n",
       "    }\n",
       "\n",
       "    .dataframe tbody tr th {\n",
       "        vertical-align: top;\n",
       "    }\n",
       "\n",
       "    .dataframe thead th {\n",
       "        text-align: right;\n",
       "    }\n",
       "</style>\n",
       "<table border=\"1\" class=\"dataframe\">\n",
       "  <thead>\n",
       "    <tr style=\"text-align: right;\">\n",
       "      <th></th>\n",
       "      <th>uf</th>\n",
       "      <th>municipio</th>\n",
       "      <th>ibge</th>\n",
       "      <th>regiao</th>\n",
       "      <th>no_regiao</th>\n",
       "      <th>cadastros</th>\n",
       "    </tr>\n",
       "  </thead>\n",
       "  <tbody>\n",
       "    <tr>\n",
       "      <th>0</th>\n",
       "      <td>RO</td>\n",
       "      <td>ALTA FLORESTA D'OESTE</td>\n",
       "      <td>110001</td>\n",
       "      <td>11005</td>\n",
       "      <td>ZONA DA MATA</td>\n",
       "      <td>23902</td>\n",
       "    </tr>\n",
       "    <tr>\n",
       "      <th>1</th>\n",
       "      <td>RO</td>\n",
       "      <td>ARIQUEMES</td>\n",
       "      <td>110002</td>\n",
       "      <td>11001</td>\n",
       "      <td>VALE DO JAMARI</td>\n",
       "      <td>95630</td>\n",
       "    </tr>\n",
       "    <tr>\n",
       "      <th>2</th>\n",
       "      <td>RO</td>\n",
       "      <td>CABIXI</td>\n",
       "      <td>110003</td>\n",
       "      <td>11006</td>\n",
       "      <td>CONE SUL</td>\n",
       "      <td>6284</td>\n",
       "    </tr>\n",
       "    <tr>\n",
       "      <th>3</th>\n",
       "      <td>RO</td>\n",
       "      <td>CACOAL</td>\n",
       "      <td>110004</td>\n",
       "      <td>11002</td>\n",
       "      <td>CAFÉ</td>\n",
       "      <td>84637</td>\n",
       "    </tr>\n",
       "    <tr>\n",
       "      <th>4</th>\n",
       "      <td>RO</td>\n",
       "      <td>CEREJEIRAS</td>\n",
       "      <td>110005</td>\n",
       "      <td>11006</td>\n",
       "      <td>CONE SUL</td>\n",
       "      <td>19663</td>\n",
       "    </tr>\n",
       "  </tbody>\n",
       "</table>\n",
       "</div>"
      ],
      "text/plain": [
       "   uf              municipio    ibge  regiao        no_regiao  cadastros\n",
       "0  RO  ALTA FLORESTA D'OESTE  110001   11005     ZONA DA MATA      23902\n",
       "1  RO              ARIQUEMES  110002   11001   VALE DO JAMARI      95630\n",
       "2  RO                 CABIXI  110003   11006         CONE SUL       6284\n",
       "3  RO                 CACOAL  110004   11002             CAFÉ      84637\n",
       "4  RO             CEREJEIRAS  110005   11006         CONE SUL      19663"
      ]
     },
     "execution_count": 11,
     "metadata": {},
     "output_type": "execute_result"
    }
   ],
   "source": [
    "df_reg_mun['cadastros'] = cadastros_df['Cadastros']\n",
    "df_reg_mun['cidade'] = df_reg_mun['cidade'].str.upper()\n",
    "df_reg_mun['no_regiao'] = df_reg_mun['no_regiao'].str.upper()\n",
    "# rename column cidade to municipio\n",
    "df_reg_mun = df_reg_mun.rename(columns={'cidade': 'municipio'})\n",
    "df_reg_mun.head()"
   ]
  },
  {
   "cell_type": "code",
   "execution_count": 12,
   "metadata": {},
   "outputs": [],
   "source": [
    "# salvar em json\n",
    "df_reg_mun.to_json('data/reg_mun.json', orient='records')"
   ]
  },
  {
   "cell_type": "code",
   "execution_count": 2,
   "metadata": {},
   "outputs": [
    {
     "data": {
      "text/html": [
       "<div>\n",
       "<style scoped>\n",
       "    .dataframe tbody tr th:only-of-type {\n",
       "        vertical-align: middle;\n",
       "    }\n",
       "\n",
       "    .dataframe tbody tr th {\n",
       "        vertical-align: top;\n",
       "    }\n",
       "\n",
       "    .dataframe thead th {\n",
       "        text-align: right;\n",
       "    }\n",
       "</style>\n",
       "<table border=\"1\" class=\"dataframe\">\n",
       "  <thead>\n",
       "    <tr style=\"text-align: right;\">\n",
       "      <th></th>\n",
       "      <th>uf</th>\n",
       "      <th>municipio</th>\n",
       "      <th>ibge</th>\n",
       "      <th>regiao</th>\n",
       "      <th>no_regiao</th>\n",
       "      <th>cadastros</th>\n",
       "    </tr>\n",
       "  </thead>\n",
       "  <tbody>\n",
       "    <tr>\n",
       "      <th>0</th>\n",
       "      <td>RO</td>\n",
       "      <td>ALTA FLORESTA D'OESTE</td>\n",
       "      <td>110001</td>\n",
       "      <td>11005</td>\n",
       "      <td>ZONA DA MATA</td>\n",
       "      <td>23902</td>\n",
       "    </tr>\n",
       "    <tr>\n",
       "      <th>1</th>\n",
       "      <td>RO</td>\n",
       "      <td>ARIQUEMES</td>\n",
       "      <td>110002</td>\n",
       "      <td>11001</td>\n",
       "      <td>VALE DO JAMARI</td>\n",
       "      <td>95630</td>\n",
       "    </tr>\n",
       "    <tr>\n",
       "      <th>2</th>\n",
       "      <td>RO</td>\n",
       "      <td>CABIXI</td>\n",
       "      <td>110003</td>\n",
       "      <td>11006</td>\n",
       "      <td>CONE SUL</td>\n",
       "      <td>6284</td>\n",
       "    </tr>\n",
       "    <tr>\n",
       "      <th>3</th>\n",
       "      <td>RO</td>\n",
       "      <td>CACOAL</td>\n",
       "      <td>110004</td>\n",
       "      <td>11002</td>\n",
       "      <td>CAFÉ</td>\n",
       "      <td>84637</td>\n",
       "    </tr>\n",
       "    <tr>\n",
       "      <th>4</th>\n",
       "      <td>RO</td>\n",
       "      <td>CEREJEIRAS</td>\n",
       "      <td>110005</td>\n",
       "      <td>11006</td>\n",
       "      <td>CONE SUL</td>\n",
       "      <td>19663</td>\n",
       "    </tr>\n",
       "  </tbody>\n",
       "</table>\n",
       "</div>"
      ],
      "text/plain": [
       "   uf              municipio    ibge  regiao        no_regiao  cadastros\n",
       "0  RO  ALTA FLORESTA D'OESTE  110001   11005     ZONA DA MATA      23902\n",
       "1  RO              ARIQUEMES  110002   11001   VALE DO JAMARI      95630\n",
       "2  RO                 CABIXI  110003   11006         CONE SUL       6284\n",
       "3  RO                 CACOAL  110004   11002             CAFÉ      84637\n",
       "4  RO             CEREJEIRAS  110005   11006         CONE SUL      19663"
      ]
     },
     "execution_count": 2,
     "metadata": {},
     "output_type": "execute_result"
    }
   ],
   "source": [
    "import pandas as pd\n",
    "\n",
    "# ler o arquivo data/reg_mun e dar um head\n",
    "df_reg_mun = pd.read_json('data/reg_mun.json', orient='records')\n",
    "df_reg_mun.head()"
   ]
  },
  {
   "cell_type": "code",
   "execution_count": 15,
   "metadata": {},
   "outputs": [
    {
     "name": "stdout",
     "output_type": "stream",
     "text": [
      "      uf municipio    ibge  regiao          no_regiao  cadastros\n",
      "5569  DF  BRASÍLIA  530010   53001   DISTRITO FEDERAL    2209181\n"
     ]
    }
   ],
   "source": [
    "# Alterar o nome do municipio de distrito federal para brasilia\n",
    "df_reg_mun.loc[df_reg_mun['municipio'] == 'DISTRITO FEDERAL', 'municipio'] = 'BRASÍLIA'\n",
    "print(df_reg_mun[df_reg_mun['municipio'] == 'BRASÍLIA'])"
   ]
  },
  {
   "cell_type": "code",
   "execution_count": 16,
   "metadata": {},
   "outputs": [],
   "source": [
    "# Atualizar o json\n",
    "df_reg_mun.to_json('data/reg_mun.json', orient='records')"
   ]
  },
  {
   "cell_type": "code",
   "execution_count": 21,
   "metadata": {},
   "outputs": [
    {
     "data": {
      "text/plain": [
       "[2024, 2023, 2022, 2021, 2020, 2019]"
      ]
     },
     "execution_count": 21,
     "metadata": {},
     "output_type": "execute_result"
    }
   ],
   "source": [
    "import requests\n",
    "\n",
    "def get_population(estado, mun):\n",
    "    \"\"\"Função para obter a população de um município, estado ou do Brasil\"\"\"\n",
    "    with open(\"data/cadastros.json\", \"r\", encoding=\"utf-8\") as file:\n",
    "        cadastros = json.load(file)\n",
    "\n",
    "    if mun is None and estado is None:\n",
    "        # soma de todas as populações\n",
    "        total = 0\n",
    "        for item in cadastros:\n",
    "            total += item[\"Cadastros\"]\n",
    "        return total\n",
    "\n",
    "    if mun is None:\n",
    "        # soma da população do estado\n",
    "        total = 0\n",
    "        for item in cadastros:\n",
    "            if item[\"Uf\"] == estado:\n",
    "                total += item[\"Cadastros\"]\n",
    "        return total\n",
    "\n",
    "    for item in cadastros:\n",
    "        if item[\"Uf\"] == estado and item[\"Municipio\"] == mun:\n",
    "            return item[\"Cadastros\"]\n",
    "\n",
    "    return None"
   ]
  },
  {
   "cell_type": "code",
   "execution_count": 24,
   "metadata": {
    "vscode": {
     "languageId": "ruby"
    }
   },
   "outputs": [
    {
     "name": "stdout",
     "output_type": "stream",
     "text": [
      "A população é 181277662\n"
     ]
    }
   ],
   "source": [
    "def get_population(estado, mun):\n",
    "    \"\"\"Função para obter a população de um município, estado ou do Brasil\"\"\"\n",
    "    if mun is None and estado is None:\n",
    "        # soma de todas as populações\n",
    "        total = df_reg_mun['cadastros'].sum()\n",
    "        return total\n",
    "\n",
    "    if mun is None:\n",
    "        # soma da população do estado\n",
    "        total = df_reg_mun[df_reg_mun['uf'] == estado]['cadastros'].sum()\n",
    "        return total\n",
    "\n",
    "    # população do município específico\n",
    "    total = df_reg_mun[(df_reg_mun['uf'] == estado) & (df_reg_mun['municipio'] == mun)]['cadastros'].sum()\n",
    "    return total\n",
    "\n",
    "# Exemplo de uso\n",
    "populacao = get_population(None, None)\n",
    "print(f'A população é {populacao}')"
   ]
  },
  {
   "cell_type": "code",
   "execution_count": 36,
   "metadata": {
    "vscode": {
     "languageId": "ruby"
    }
   },
   "outputs": [
    {
     "data": {
      "text/plain": [
       "{350010: 'ADAMANTINA',\n",
       " 351600: 'FLÓRIDA PAULISTA',\n",
       " 352080: 'INÚBIA PAULISTA',\n",
       " 352740: 'LUCÉLIA',\n",
       " 352890: 'MARIÁPOLIS',\n",
       " 353460: 'OSVALDO CRUZ',\n",
       " 353490: 'PACAEMBU',\n",
       " 354085: 'PRACINHA',\n",
       " 354470: 'SAGRES',\n",
       " 354510: 'SALMOURÃO'}"
      ]
     },
     "execution_count": 36,
     "metadata": {},
     "output_type": "execute_result"
    }
   ],
   "source": [
    "import pandas as pd\n",
    "file_path = 'data/reg_mun.json'\n",
    "municipios = pd.read_json(file_path)\n",
    "\n",
    "def get_cidades_regiao(regiao):\n",
    "    \"\"\"Função para obter um dicionario dos ibge e municipios de uma região\"\"\"\n",
    "    # TODO implementar via API\n",
    "    municipios_regiao = municipios[municipios['no_regiao'] == regiao][['ibge', 'municipio']].drop_duplicates()\n",
    "    municipios_dict = dict(zip(municipios_regiao['ibge'], municipios_regiao['municipio']))\n",
    "    return municipios_dict\n",
    "\n",
    "# Exemplo de uso\n",
    "regiao = 'ADAMANTINA'\n",
    "municipios_regiao = get_cidades_regiao(regiao)\n",
    "municipios_regiao"
   ]
  },
  {
   "cell_type": "code",
   "execution_count": 39,
   "metadata": {
    "vscode": {
     "languageId": "ruby"
    }
   },
   "outputs": [
    {
     "name": "stdout",
     "output_type": "stream",
     "text": [
      "Erro ao obter o código da região NORTE ARAGUAIA KARAJÁ no estado MT\n"
     ]
    }
   ],
   "source": [
    "def get_code_regiao(estado, regiao):\n",
    "    \"\"\"Função para obter o código da região de um estado\"\"\"\n",
    "    # verificar se a regiao está no dataframe\n",
    "    cod = municipios[\n",
    "        (municipios[\"uf\"] == estado) & (municipios[\"no_regiao\"] == regiao)\n",
    "    ][\"regiao\"]\n",
    "    if len(cod) == 0:\n",
    "        print(f\"Erro ao obter o código da região {regiao} no estado {estado}\")\n",
    "        return None\n",
    "    return cod.values[0]\n",
    "\n",
    "estado = 'MT'\n",
    "regiao ='NORTE ARAGUAIA KARAJÁ'\n",
    "\n",
    "get_code_regiao(estado, regiao)"
   ]
  },
  {
   "cell_type": "code",
   "execution_count": 40,
   "metadata": {
    "vscode": {
     "languageId": "ruby"
    }
   },
   "outputs": [
    {
     "data": {
      "text/plain": [
       "5186    51009\n",
       "5245    51009\n",
       "5268    51009\n",
       "5303    51009\n",
       "5305    51009\n",
       "Name: regiao, dtype: int64"
      ]
     },
     "execution_count": 40,
     "metadata": {},
     "output_type": "execute_result"
    }
   ],
   "source": [
    "municipios[\n",
    "        (municipios[\"uf\"] == estado) & (municipios[\"no_regiao\"] == regiao)\n",
    "    ][\"regiao\"]"
   ]
  },
  {
   "cell_type": "code",
   "execution_count": 4,
   "metadata": {
    "vscode": {
     "languageId": "ruby"
    }
   },
   "outputs": [
    {
     "data": {
      "text/plain": [
       "0         23902\n",
       "1         95630\n",
       "2          6284\n",
       "3         84637\n",
       "4         19663\n",
       "         ...   \n",
       "5565      16632\n",
       "5566      10287\n",
       "5567       5145\n",
       "5568       6680\n",
       "5569    2209181\n",
       "Name: cadastros, Length: 5570, dtype: int64"
      ]
     },
     "execution_count": 4,
     "metadata": {},
     "output_type": "execute_result"
    }
   ],
   "source": [
    "import pandas as pd\n",
    "def get_json_municipios():\n",
    "    \"\"\"Função para obter o json com os municípios do Brasil\"\"\"\n",
    "    municipios = pd.read_json('data/reg_mun.json')\n",
    "    return municipios\n",
    "\n",
    "municipios = get_json_municipios()\n",
    "municipios['cadastros']"
   ]
  },
  {
   "cell_type": "code",
   "execution_count": null,
   "metadata": {},
   "outputs": [
    {
     "ename": "",
     "evalue": "",
     "output_type": "error",
     "traceback": [
      "\u001b[1;31mThe kernel failed to start as 'get_ipython' could not be imported from 'most likely due to a circular import'.\n",
      "\u001b[1;31mClick <a href='https://aka.ms/kernelFailuresModuleImportErrFromFile'>here</a> for more info."
     ]
    }
   ],
   "source": [
    "# read from ../etl/data/consolidado/producao_problema.csv\n",
    "df = pd.read_csv('../etl/data/consolidado/producao_problema.csv', sep=',', encoding='utf-8')\n",
    "df.head()"
   ]
  }
 ],
 "metadata": {
  "kernelspec": {
   "display_name": "sbenv",
   "language": "python",
   "name": "python3"
  },
  "language_info": {
   "codemirror_mode": {
    "name": "ipython",
    "version": 3
   },
   "file_extension": ".py",
   "mimetype": "text/x-python",
   "name": "python",
   "nbconvert_exporter": "python",
   "pygments_lexer": "ipython3",
   "version": "3.12.3"
  }
 },
 "nbformat": 4,
 "nbformat_minor": 2
}
