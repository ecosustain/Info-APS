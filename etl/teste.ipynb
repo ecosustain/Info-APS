{
 "cells": [
  {
   "cell_type": "code",
   "execution_count": 2,
   "metadata": {},
   "outputs": [],
   "source": [
    "import pymongo\n",
    "import os"
   ]
  },
  {
   "cell_type": "code",
   "execution_count": 9,
   "metadata": {},
   "outputs": [],
   "source": [
    "mongo_uri = os.getenv(\"MONGO_URI\", \"mongodb://localhost:27027\")\n",
    "db_name = os.getenv(\"MONGO_DB\", \"sisab_v2\")\n",
    "collection_name = \"Atendimentos Hospitalares\""
   ]
  },
  {
   "cell_type": "code",
   "execution_count": 11,
   "metadata": {},
   "outputs": [],
   "source": [
    " # Conecta ao banco e obtém a collection\n",
    "client = pymongo.MongoClient(mongo_uri)\n",
    "db = client[db_name]\n",
    "collection = db[collection_name]"
   ]
  },
  {
   "cell_type": "code",
   "execution_count": 26,
   "metadata": {},
   "outputs": [
    {
     "data": {
      "text/plain": [
       "['População', 'collection_attributes', 'Gravidez']"
      ]
     },
     "execution_count": 26,
     "metadata": {},
     "output_type": "execute_result"
    }
   ],
   "source": [
    "db.list_collection_names()"
   ]
  },
  {
   "cell_type": "code",
   "execution_count": null,
   "metadata": {},
   "outputs": [],
   "source": [
    "\n"
   ]
  },
  {
   "cell_type": "code",
   "execution_count": 25,
   "metadata": {},
   "outputs": [
    {
     "data": {
      "text/plain": [
       "Collection(Database(MongoClient(host=['localhost:27027'], document_class=dict, tz_aware=False, connect=True), 'sisab_v2'), 'Gravidez')"
      ]
     },
     "execution_count": 25,
     "metadata": {},
     "output_type": "execute_result"
    }
   ],
   "source": [
    "db.create_collection(\"Gravidez\")"
   ]
  },
  {
   "cell_type": "code",
   "execution_count": 20,
   "metadata": {},
   "outputs": [],
   "source": [
    "import requests\n",
    "\n",
    "def enviar_csv(arquivo_csv, url, progress_id, collection_name):\n",
    "    \"\"\"\n",
    "    Envia um arquivo CSV para o endpoint especificado.\n",
    "\n",
    "    :param arquivo_csv: Caminho do arquivo CSV a ser enviado.\n",
    "    :param url: URL do endpoint para upload.\n",
    "    :param progress_id: ID de progresso para acompanhar a operação.\n",
    "    :param collection_name: Nome da coleção no MongoDB onde os dados serão armazenados.\n",
    "    :return: Resposta do servidor.\n",
    "    \"\"\"\n",
    "    try:\n",
    "        # Verifica se o arquivo existe e é um CSV\n",
    "        if not arquivo_csv.endswith('.csv'):\n",
    "            raise ValueError(\"O arquivo precisa ser um CSV válido.\")\n",
    "        \n",
    "        # Abre o arquivo em modo binário\n",
    "        with open(arquivo_csv, 'rb') as file:\n",
    "            # Define os dados do formulário e o arquivo\n",
    "            files = {'file': (arquivo_csv, file, 'text/csv')}\n",
    "            data = {\n",
    "                'progress_id': progress_id,\n",
    "                'collection': collection_name\n",
    "            }\n",
    "\n",
    "            # Envia a requisição POST\n",
    "            response = requests.post(url, files=files, data=data)\n",
    "\n",
    "            # Verifica a resposta do servidor\n",
    "            if response.status_code == 200:\n",
    "                print(f\"Arquivo enviado com sucesso: {response.json().get('message')}\")\n",
    "            else:\n",
    "                print(f\"Erro ao enviar arquivo: {response.json().get('message')}\")\n",
    "\n",
    "            return response\n",
    "\n",
    "    except Exception as e:\n",
    "        print(f\"Erro: {str(e)}\")\n",
    "        return None\n",
    "\n"
   ]
  },
  {
   "cell_type": "code",
   "execution_count": 29,
   "metadata": {},
   "outputs": [
    {
     "name": "stdout",
     "output_type": "stream",
     "text": [
      "Erro ao enviar arquivo: Internal Server Error\n"
     ]
    }
   ],
   "source": [
    "# Enviar arquivo CSV\n",
    "\n",
    "nome_arquivo = \"data/consolidado/gravidas.csv\"\n",
    "\n",
    "url = \"http://localhost:8010/api/v1/files/upload_data\"\n",
    "\n",
    "progress_id = {\n",
    "  \"progress_id\": \"6e30eb8f-3b48-41a2-90bd-47747688fe78\"\n",
    "}\n",
    "\n",
    "response = enviar_csv(nome_arquivo, url, progress_id, 'Gravidez')"
   ]
  },
  {
   "cell_type": "code",
   "execution_count": null,
   "metadata": {},
   "outputs": [],
   "source": [
    "export PYTHONPATH=\"${PYTHONPATH}:/opt/airflow\" && python /opt/airflow/dags/etl_producao.py"
   ]
  }
 ],
 "metadata": {
  "kernelspec": {
   "display_name": "venv",
   "language": "python",
   "name": "python3"
  },
  "language_info": {
   "codemirror_mode": {
    "name": "ipython",
    "version": 3
   },
   "file_extension": ".py",
   "mimetype": "text/x-python",
   "name": "python",
   "nbconvert_exporter": "python",
   "pygments_lexer": "ipython3",
   "version": "3.12.3"
  }
 },
 "nbformat": 4,
 "nbformat_minor": 2
}
