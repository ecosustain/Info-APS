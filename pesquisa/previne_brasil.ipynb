{
 "cells": [
  {
   "cell_type": "markdown",
   "metadata": {},
   "source": [
    "# Análise de Dados de Atenção Básica de Saúde - Brasil\n",
    "## Previne Brasil\n",
    "\n",
    "O programa Previne Brasil foi instituído pela Portaria nº 2.979, de 12 de novembro de 2019. O novo modelo de financiamento altera algumas formas de repasse das transferências para os municípios, que passam a ser distribuídas com base em três critérios: capitação ponderada, pagamento por desempenho e incentivo para ações estratégicas.\n",
    "\n",
    "Fonte: [Ministério da Saúde](https://www.gov.br/saude/pt-br/composicao/saps/previne-brasil)\n",
    "\n",
    "## Níveis de prevenção em Saúde\n",
    "Até há pouco tempo, considerava-se que existiam quatro níveis de prevenção em saúde: a prevenção primordial e as clássicas prevenção primária, secundária e terciária, quaternária e, agora uma novo nível, quinquenária. Vamos falar um pouco sobre esses níveis? \n",
    "\n",
    "### Prevenção Primária\n",
    "Nesse nível incluem atividades, que buscam evitar ou remover a exposição de um indivíduo ou de uma população a um fator de risco ou causal, isso antes que se desenvolva um mecanismo patológico, ou seja, um período pré-patológico. \n",
    "\n",
    "Como o exemplo mais falado, tem-se a **imunização**, que visa aumentar a resistência do hospedeiro a um determinado microorganismo. Outros exemplos são a fluoretação da água para evitar cáries, controle de vetores, **pré-natal**, uso de Equipamentos de Proteção Individual entre outros. \n",
    "\n",
    "### Prevenção Secundária\n",
    "Usamos esse nível de prevenção para atuar **interrompendo a evolução da doença**, uma fase subclínica, ou em um momento que já é instaurado o diagnóstico, já se faz o tratamento mas queremos evitar sua evolução estabelecendo sua cura.\n",
    "\n",
    "É neste nível de prevenção que se enquadram os **rastreios** como **papanicolau**, **mamografia**, entre outros; e limitação de incapacidade como uso de ácido acetilsalicílico após um acidente vascular encefálico, cessar o tabagismo em pacientes DPOcíticos. Ou seja, buscamos manter a doença no estágio que está.\n",
    "\n",
    "Fonte: [medway](https://www.medway.com.br/conteudos/niveis-de-prevencao-em-saude-tudo-que-voce-deve-saber/)"
   ]
  },
  {
   "cell_type": "code",
   "execution_count": null,
   "metadata": {},
   "outputs": [],
   "source": [
    "# Importando bibliotecas\n",
    "import geopandas as gpd\n",
    "from utils import *"
   ]
  },
  {
   "cell_type": "code",
   "execution_count": 2,
   "metadata": {},
   "outputs": [],
   "source": [
    "rastreio = 'Rast. risco cardiovascular'\n",
    "problema = 'Hipertensão arterial'\n",
    "\n",
    "rast_cardio = get_condicao_normalizada(rastreio, ano)\n",
    "problema_cardio = get_condicao_normalizada(problema, ano)"
   ]
  },
  {
   "cell_type": "code",
   "execution_count": 3,
   "metadata": {},
   "outputs": [],
   "source": [
    "# Carregar o shapefile do Brasil\n",
    "brasil = gpd.read_file('../mapas/BR_UF_2022/BR_UF_2022.shp')\n",
    "brasil['geometry'] = brasil['geometry'].simplify(0.1)\n"
   ]
  },
  {
   "cell_type": "code",
   "execution_count": null,
   "metadata": {},
   "outputs": [],
   "source": [
    "# Mapa normalizado de Hipertensão\n",
    "plot_map(brasil, problema_cardio, 'Mapa de Hipertensão no Brasil - 2023')"
   ]
  },
  {
   "cell_type": "code",
   "execution_count": null,
   "metadata": {},
   "outputs": [],
   "source": [
    "plot_map(brasil, rast_cardio, 'Mapa de Rastreio Cardiovascular no Brasil')"
   ]
  },
  {
   "cell_type": "code",
   "execution_count": null,
   "metadata": {
    "vscode": {
     "languageId": "ruby"
    }
   },
   "outputs": [],
   "source": [
    "# Merge the two dataframes on 'Uf'\n",
    "merged_df = rast_cardio.merge(problema_cardio, on='Uf', suffixes=('_rast', '_problema'))\n",
    "merged_df.describe()"
   ]
  },
  {
   "cell_type": "code",
   "execution_count": null,
   "metadata": {
    "vscode": {
     "languageId": "ruby"
    }
   },
   "outputs": [],
   "source": [
    "import seaborn as sns\n",
    "import matplotlib.pyplot as plt\n",
    "# Gráfico de Dispersão\n",
    "sns.scatterplot(x='value_rast', y='value_problema', data=merged_df)\n",
    "plt.title('Relação entre Rastreio e Problemas')\n",
    "plt.xlabel('Valor de Rastreio')\n",
    "plt.ylabel('Valor de Problema')\n",
    "plt.show()"
   ]
  },
  {
   "cell_type": "code",
   "execution_count": null,
   "metadata": {
    "vscode": {
     "languageId": "ruby"
    }
   },
   "outputs": [],
   "source": [
    "from scipy.stats import pearsonr, spearmanr\n",
    "\n",
    "# Cálculo de Correlação\n",
    "pearson_corr = pearsonr(merged_df['value_rast'], merged_df['value_problema'])\n",
    "spearman_corr = spearmanr(merged_df['value_rast'], merged_df['value_problema'])\n",
    "print(f'Correlação de Pearson: {pearson_corr[0]}, p-value: {pearson_corr[1]}')\n",
    "print(f'Correlação de Spearman: {spearman_corr[0]}, p-value: {spearman_corr[1]}')\n"
   ]
  },
  {
   "cell_type": "markdown",
   "metadata": {},
   "source": [
    "# Evolução das Práticas Preventivas no Sistema de Saúde para Atenção Básica\n",
    "\n",
    "O objetivo deste notebook é analisar os dados de atenção básica de saúde do Brasil, disponibilizados pelo SISAB, para entender a evolução das práticas preventivas no Sistema de Saúde para Atenção Básica.\n",
    "\n",
    "Serão analisadas as proporções entre atendimentos e procedimentos de prevenção nos níveis primário e secundário, em comparação aos atendimentos das condições de saúde avaliadas. Exemplos de procedimentos preventivos são: vacinação, exames de rastreamento, consultas de pré-natal, entre outros.\n"
   ]
  },
  {
   "cell_type": "code",
   "execution_count": null,
   "metadata": {
    "vscode": {
     "languageId": "ruby"
    }
   },
   "outputs": [],
   "source": [
    "procedimentos = pd.read_csv('../etl/data/consolidado/producao_procedimento.csv')\n",
    "procedimentos.columns"
   ]
  },
  {
   "cell_type": "markdown",
   "metadata": {},
   "source": [
    "## Diabetes\n",
    "\n",
    "Analisar a evolução da realização de procedimentos para acompanhamento de pacientes com diabetes, como a realização de exames do **pé diabético** e **glicemia capilar**, em relação aos atendimentos de pacientes com a condição de diabetes.\n"
   ]
  },
  {
   "cell_type": "code",
   "execution_count": null,
   "metadata": {},
   "outputs": [],
   "source": [
    "### Diabetes\n",
    "procedimentos_filtro = ['Exame do pé diabético  ', 'Glicemia capilar  ']\n",
    "condicao_filtro = ['Diabetes']\n",
    "\n",
    "\n",
    "proc_prev = get_prevencao_secundaria(None, None, procedimentos_filtro)\n",
    "doencas_prev = get_doencas_prevencao(None, None, condicao_filtro)\n",
    "\n",
    "comparativo_doenca_procedimento(proc_prev, doencas_prev, 'Diabetes')"
   ]
  },
  {
   "cell_type": "code",
   "execution_count": null,
   "metadata": {},
   "outputs": [],
   "source": [
    "gera_mapa(procedimentos_filtro, condicao_filtro, 'Diabetes')"
   ]
  },
  {
   "cell_type": "markdown",
   "metadata": {},
   "source": [
    "## Hipertensão Arterial\n",
    "\n",
    "Analisar a evolução da realização de procedimentos para acompanhamento de pacientes com hipertensos, como a realização de exames de **Aferição de pressão arterial** e **Eletrocardiograma**, em relação aos atendimentos de pacientes com a condição de Hipertensão."
   ]
  },
  {
   "cell_type": "code",
   "execution_count": null,
   "metadata": {},
   "outputs": [],
   "source": [
    "### Hipertensão Arterial\n",
    "procedimentos_filtro = ['Aferição de PA  ', 'Eletrocardiograma  ']\n",
    "condicao_filtro = ['Hipertensão arterial']\n",
    "\n",
    "\n",
    "proc_prev = get_prevencao_secundaria(None, None, procedimentos_filtro)\n",
    "doencas_prev = get_doencas_prevencao(None, None, condicao_filtro)\n",
    "\n",
    "comparativo_doenca_procedimento(proc_prev, doencas_prev, 'Hipertensão Arterial')"
   ]
  },
  {
   "cell_type": "code",
   "execution_count": null,
   "metadata": {},
   "outputs": [],
   "source": [
    "gera_mapa(procedimentos_filtro, condicao_filtro, 'Hipertensão arterial')"
   ]
  },
  {
   "cell_type": "markdown",
   "metadata": {},
   "source": [
    "## Gravidez\n",
    "\n",
    "Analisar a evolução da realização de procedimentos para acompanhamento de pacientes grávidas, como a realização de exames de **Pré-natal**, em relação aos atendimentos de **puéperas**.\n"
   ]
  },
  {
   "cell_type": "code",
   "execution_count": null,
   "metadata": {},
   "outputs": [],
   "source": [
    "### Grávidas\n",
    "procedimentos_filtro = ['Pré-natal']\n",
    "condicao_filtro = ['Puerpério (até 42 dias)']\n",
    "\n",
    "\n",
    "proc_prev = get_doencas_prevencao(None, None, procedimentos_filtro)\n",
    "doencas_prev = get_doencas_prevencao(None, None, condicao_filtro)\n",
    "\n",
    "comparativo_doenca_procedimento(proc_prev, doencas_prev, 'Pré-natal x Puerpéras')"
   ]
  },
  {
   "cell_type": "code",
   "execution_count": null,
   "metadata": {},
   "outputs": [],
   "source": [
    "gera_mapa(procedimentos_filtro, condicao_filtro, 'Gravidez')"
   ]
  },
  {
   "cell_type": "markdown",
   "metadata": {},
   "source": [
    "## Doenças Sexualmente Transmissíveis\n",
    "\n",
    "Analisar a evolução da realização de procedimentos para acompanhamento de pacientes com DSTs, como a realização de exames de **Teste rápido de HIV** e **Teste rápido de sífilis**, em relação aos atendimentos de pacientes com a condição de DSTs."
   ]
  },
  {
   "cell_type": "code",
   "execution_count": null,
   "metadata": {},
   "outputs": [],
   "source": [
    "### Doenças Sexualmente Transmissíveis\n",
    "procedimentos_filtro = ['Teste rápido de HIV  ', 'Teste rápido para hepatite C  ', 'Teste rápido para sífilis  ']\n",
    "condicao_filtro = ['Doenças transmissíveis - DST']\n",
    "\n",
    "\n",
    "proc_prev = get_prevencao_secundaria(None, None, procedimentos_filtro)\n",
    "doencas_prev = get_doencas_prevencao(None, None, condicao_filtro)\n",
    "\n",
    "comparativo_doenca_procedimento(proc_prev, doencas_prev, 'Doenças Sexualmente Transmissíveis')"
   ]
  },
  {
   "cell_type": "code",
   "execution_count": null,
   "metadata": {},
   "outputs": [],
   "source": [
    "gera_mapa(procedimentos_filtro, condicao_filtro, 'Doenças Sexualmente Transmissíveis')"
   ]
  },
  {
   "cell_type": "markdown",
   "metadata": {},
   "source": [
    "## Avaliação geral entre atendimentos preventivos e atendimentos de condições de saúde\n",
    "\n",
    "Atendimentos preventivos: pré-natal, saúde sexual e reprodutiva, tabagismo, e rastreios.\n",
    "\n",
    "Atendimentos de condições de saúde: diabetes, hipertensão, doenças crônicas, entre outros."
   ]
  },
  {
   "cell_type": "code",
   "execution_count": null,
   "metadata": {},
   "outputs": [],
   "source": [
    "\n",
    "prevencao = ['Pré-natal', 'Saúde sexual e reprodutiva', 'Tabagismo', 'Rast. câncer de mama',\n",
    "       'Rast. câncer do colo do útero', 'Rast. risco cardiovascular',]\n",
    "\n",
    "atendimentos =  ['Asma', 'Desnutrição', 'Diabetes', 'DPOC',\n",
    "       'Hipertensão arterial', 'Obesidade',  'Puericultura',\n",
    "       'Puerpério (até 42 dias)', \n",
    "       'Usuário de álcool', 'Usuário de outras drogas', 'Saúde mental',\n",
    "       'Reabilitação', 'D.Transmissíveis - Dengue',\n",
    "       'Doenças transmissíveis - DST', 'D.Transmissíveis - Hanseníase',\n",
    "       'D.Transmissíveis - Tuberculose']\n",
    "\n",
    "\n",
    "proc_prev = get_doencas_prevencao(None, None, prevencao)\n",
    "doencas_prev = get_doencas_prevencao(None, None, atendimentos)\n",
    "\n",
    "comparativo_doenca_procedimento(proc_prev, doencas_prev, 'Geral')"
   ]
  },
  {
   "cell_type": "code",
   "execution_count": null,
   "metadata": {},
   "outputs": [],
   "source": [
    "gera_mapa(prevencao, atendimentos, 'Gravidez')"
   ]
  },
  {
   "cell_type": "markdown",
   "metadata": {},
   "source": [
    "## Avaliação Geral entre procedimentos preventivos e atendimentos de condições de saúde\n",
    "\n",
    "Procedimentos preventivos: Aferição de pressão, teste rápidos, medição de glicemia, entre outros.\n",
    "\n",
    "Atendimentos de condições de saúde: Asma, diabetes, hipertensão, entre outros.\n"
   ]
  },
  {
   "cell_type": "code",
   "execution_count": null,
   "metadata": {},
   "outputs": [],
   "source": [
    "procedimentos = ['Aferição de PA  ','Eletrocardiograma  ', 'Exame do pé diabético  ',\n",
    "                'Glicemia capilar  ', 'Medição de altura  ',\n",
    "                'Medição de peso  ',  'Tes. Ráp. p/ dosg. proteinúria', 'Teste rápido de HIV  ',\n",
    "                'Teste rápido de gravidez  ', 'Teste rápido para hepatite C  ',\n",
    "                'Teste rápido para sífilis  ', 'Triagem oftalmológica  ']\n",
    "                 \n",
    "atendimentos =  ['Asma', 'Desnutrição', 'Diabetes', 'DPOC',\n",
    "       'Hipertensão arterial', 'Obesidade',  'Puericultura',\n",
    "       'Puerpério (até 42 dias)', \n",
    "       'Usuário de álcool', 'Usuário de outras drogas', 'Saúde mental',\n",
    "       'Reabilitação', 'D.Transmissíveis - Dengue',\n",
    "       'Doenças transmissíveis - DST', 'D.Transmissíveis - Hanseníase',\n",
    "       'D.Transmissíveis - Tuberculose']\n",
    "\n",
    "proc_prev = get_prevencao_secundaria(None, None, procedimentos)\n",
    "doencas_prev = get_doencas_prevencao(None, None, atendimentos)\n",
    "\n",
    "comparativo_doenca_procedimento(proc_prev, doencas_prev, 'Geral')"
   ]
  },
  {
   "cell_type": "code",
   "execution_count": null,
   "metadata": {},
   "outputs": [],
   "source": [
    "gera_mapa(procedimentos, atendimentos, 'Geral')"
   ]
  }
 ],
 "metadata": {
  "kernelspec": {
   "display_name": "base",
   "language": "python",
   "name": "python3"
  },
  "language_info": {
   "codemirror_mode": {
    "name": "ipython",
    "version": 3
   },
   "file_extension": ".py",
   "mimetype": "text/x-python",
   "name": "python",
   "nbconvert_exporter": "python",
   "pygments_lexer": "ipython3",
   "version": "3.10.10"
  }
 },
 "nbformat": 4,
 "nbformat_minor": 2
}
